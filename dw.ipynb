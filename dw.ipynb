{
 "cells": [
  {
   "cell_type": "code",
   "execution_count": 1,
   "metadata": {
    "init_cell": true
   },
   "outputs": [],
   "source": [
    "%logstop\n",
    "%logstart -ortq ~/.logs/dw.py append\n",
    "%matplotlib inline\n",
    "import matplotlib\n",
    "import seaborn as sns\n",
    "sns.set()\n",
    "matplotlib.rcParams['figure.dpi'] = 144"
   ]
  },
  {
   "cell_type": "code",
   "execution_count": 3,
   "metadata": {},
   "outputs": [],
   "source": [
    "from static_grader import grader"
   ]
  },
  {
   "cell_type": "markdown",
   "metadata": {},
   "source": [
    "# DW Miniproject\n",
    "## Introduction\n",
    "\n",
    "The objective of this miniproject is to exercise your ability to wrangle tabular data set and aggregate large data sets into meaningful summary statistics. We'll work with the same medical data used in the `pw` miniproject but leverage the power of Pandas to more efficiently represent and act on our data."
   ]
  },
  {
   "cell_type": "markdown",
   "metadata": {},
   "source": [
    "## Downloading the data\n",
    "\n",
    "We first need to download the data we'll be using from Amazon S3:"
   ]
  },
  {
   "cell_type": "code",
   "execution_count": 4,
   "metadata": {},
   "outputs": [
    {
     "name": "stdout",
     "output_type": "stream",
     "text": [
      "mkdir: cannot create directory ‘dw-data’: File exists\r\n"
     ]
    }
   ],
   "source": [
    "# Make directory dw_data\n",
    "!mkdir dw-data"
   ]
  },
  {
   "cell_type": "code",
   "execution_count": 5,
   "metadata": {},
   "outputs": [
    {
     "name": "stdout",
     "output_type": "stream",
     "text": [
      "File ‘./dw-data/201701scripts_sample.csv.gz’ already there; not retrieving.\n",
      "\n",
      "File ‘./dw-data/201606scripts_sample.csv.gz’ already there; not retrieving.\n",
      "\n",
      "File ‘./dw-data/practices.csv.gz’ already there; not retrieving.\n",
      "\n",
      "File ‘./dw-data/chem.csv.gz’ already there; not retrieving.\n",
      "\n"
     ]
    }
   ],
   "source": [
    "!wget http://dataincubator-wqu.s3.amazonaws.com/dwdata/201701scripts_sample.csv.gz -nc -P ./dw-data/\n",
    "!wget http://dataincubator-wqu.s3.amazonaws.com/dwdata/201606scripts_sample.csv.gz -nc -P ./dw-data/\n",
    "!wget http://dataincubator-wqu.s3.amazonaws.com/dwdata/practices.csv.gz -nc -P ./dw-data/\n",
    "!wget http://dataincubator-wqu.s3.amazonaws.com/dwdata/chem.csv.gz -nc -P ./dw-data/"
   ]
  },
  {
   "cell_type": "markdown",
   "metadata": {},
   "source": [
    "## Loading the data\n",
    "\n",
    "Similar to the `PW` miniproject, the first step is to read in the data. The data files are stored as compressed CSV files. You can load the data into a Pandas DataFrame by making use of the `gzip` package to decompress the files and Panda's `read_csv` methods to parse the data into a DataFrame. You may want to check the Pandas documentation for parsing [CSV](http://pandas.pydata.org/pandas-docs/stable/generated/pandas.read_csv.html) files for reference.\n",
    "\n",
    "For a description of the data set please, refer to the [PW miniproject](./pw.ipynb). **Note that all questions make use of the 2017 data only, except for Question 5 which makes use of both the 2017 and 2016 data.**"
   ]
  },
  {
   "cell_type": "code",
   "execution_count": 6,
   "metadata": {},
   "outputs": [],
   "source": [
    "import pandas as pd\n",
    "import numpy as np\n",
    "import gzip"
   ]
  },
  {
   "cell_type": "code",
   "execution_count": 7,
   "metadata": {},
   "outputs": [
    {
     "data": {
      "text/html": [
       "<div>\n",
       "<style scoped>\n",
       "    .dataframe tbody tr th:only-of-type {\n",
       "        vertical-align: middle;\n",
       "    }\n",
       "\n",
       "    .dataframe tbody tr th {\n",
       "        vertical-align: top;\n",
       "    }\n",
       "\n",
       "    .dataframe thead th {\n",
       "        text-align: right;\n",
       "    }\n",
       "</style>\n",
       "<table border=\"1\" class=\"dataframe\">\n",
       "  <thead>\n",
       "    <tr style=\"text-align: right;\">\n",
       "      <th></th>\n",
       "      <th>practice</th>\n",
       "      <th>bnf_code</th>\n",
       "      <th>bnf_name</th>\n",
       "      <th>items</th>\n",
       "      <th>nic</th>\n",
       "      <th>act_cost</th>\n",
       "      <th>quantity</th>\n",
       "    </tr>\n",
       "  </thead>\n",
       "  <tbody>\n",
       "    <tr>\n",
       "      <th>0</th>\n",
       "      <td>N85639</td>\n",
       "      <td>0106020C0</td>\n",
       "      <td>Bisacodyl_Tab E/C 5mg</td>\n",
       "      <td>1</td>\n",
       "      <td>0.39</td>\n",
       "      <td>0.47</td>\n",
       "      <td>12</td>\n",
       "    </tr>\n",
       "    <tr>\n",
       "      <th>1</th>\n",
       "      <td>N85639</td>\n",
       "      <td>0106040M0</td>\n",
       "      <td>Movicol Plain_Paed Pdr Sach 6.9g</td>\n",
       "      <td>1</td>\n",
       "      <td>4.38</td>\n",
       "      <td>4.07</td>\n",
       "      <td>30</td>\n",
       "    </tr>\n",
       "    <tr>\n",
       "      <th>2</th>\n",
       "      <td>N85639</td>\n",
       "      <td>0301011R0</td>\n",
       "      <td>Salbutamol_Inha 100mcg (200 D) CFF</td>\n",
       "      <td>1</td>\n",
       "      <td>1.50</td>\n",
       "      <td>1.40</td>\n",
       "      <td>1</td>\n",
       "    </tr>\n",
       "    <tr>\n",
       "      <th>3</th>\n",
       "      <td>N85639</td>\n",
       "      <td>0304010G0</td>\n",
       "      <td>Chlorphenamine Mal_Oral Soln 2mg/5ml</td>\n",
       "      <td>1</td>\n",
       "      <td>2.62</td>\n",
       "      <td>2.44</td>\n",
       "      <td>150</td>\n",
       "    </tr>\n",
       "    <tr>\n",
       "      <th>4</th>\n",
       "      <td>N85639</td>\n",
       "      <td>0401020K0</td>\n",
       "      <td>Diazepam_Tab 2mg</td>\n",
       "      <td>1</td>\n",
       "      <td>0.16</td>\n",
       "      <td>0.26</td>\n",
       "      <td>6</td>\n",
       "    </tr>\n",
       "    <tr>\n",
       "      <th>5</th>\n",
       "      <td>N85639</td>\n",
       "      <td>0406000T0</td>\n",
       "      <td>Prochlpzine Mal_Tab 5mg</td>\n",
       "      <td>1</td>\n",
       "      <td>0.97</td>\n",
       "      <td>0.91</td>\n",
       "      <td>28</td>\n",
       "    </tr>\n",
       "    <tr>\n",
       "      <th>6</th>\n",
       "      <td>N85639</td>\n",
       "      <td>0407010F0</td>\n",
       "      <td>Co-Codamol_Cap 30mg/500mg</td>\n",
       "      <td>1</td>\n",
       "      <td>0.84</td>\n",
       "      <td>0.89</td>\n",
       "      <td>24</td>\n",
       "    </tr>\n",
       "    <tr>\n",
       "      <th>7</th>\n",
       "      <td>N85639</td>\n",
       "      <td>0407010F0</td>\n",
       "      <td>Zapain_Tab 30mg/500mg</td>\n",
       "      <td>1</td>\n",
       "      <td>3.03</td>\n",
       "      <td>2.82</td>\n",
       "      <td>100</td>\n",
       "    </tr>\n",
       "    <tr>\n",
       "      <th>8</th>\n",
       "      <td>N85639</td>\n",
       "      <td>0407010H0</td>\n",
       "      <td>Paracet_Oral Susp Paed 120mg/5ml</td>\n",
       "      <td>1</td>\n",
       "      <td>0.62</td>\n",
       "      <td>0.69</td>\n",
       "      <td>100</td>\n",
       "    </tr>\n",
       "    <tr>\n",
       "      <th>9</th>\n",
       "      <td>N85639</td>\n",
       "      <td>0501011P0</td>\n",
       "      <td>Phenoxymethylpenicillin Pot_Tab 250mg</td>\n",
       "      <td>2</td>\n",
       "      <td>5.94</td>\n",
       "      <td>5.72</td>\n",
       "      <td>160</td>\n",
       "    </tr>\n",
       "  </tbody>\n",
       "</table>\n",
       "</div>"
      ],
      "text/plain": [
       "  practice   bnf_code                               bnf_name  items   nic  \\\n",
       "0   N85639  0106020C0                  Bisacodyl_Tab E/C 5mg      1  0.39   \n",
       "1   N85639  0106040M0       Movicol Plain_Paed Pdr Sach 6.9g      1  4.38   \n",
       "2   N85639  0301011R0     Salbutamol_Inha 100mcg (200 D) CFF      1  1.50   \n",
       "3   N85639  0304010G0   Chlorphenamine Mal_Oral Soln 2mg/5ml      1  2.62   \n",
       "4   N85639  0401020K0                       Diazepam_Tab 2mg      1  0.16   \n",
       "5   N85639  0406000T0                Prochlpzine Mal_Tab 5mg      1  0.97   \n",
       "6   N85639  0407010F0              Co-Codamol_Cap 30mg/500mg      1  0.84   \n",
       "7   N85639  0407010F0                  Zapain_Tab 30mg/500mg      1  3.03   \n",
       "8   N85639  0407010H0       Paracet_Oral Susp Paed 120mg/5ml      1  0.62   \n",
       "9   N85639  0501011P0  Phenoxymethylpenicillin Pot_Tab 250mg      2  5.94   \n",
       "\n",
       "   act_cost  quantity  \n",
       "0      0.47        12  \n",
       "1      4.07        30  \n",
       "2      1.40         1  \n",
       "3      2.44       150  \n",
       "4      0.26         6  \n",
       "5      0.91        28  \n",
       "6      0.89        24  \n",
       "7      2.82       100  \n",
       "8      0.69       100  \n",
       "9      5.72       160  "
      ]
     },
     "execution_count": 7,
     "metadata": {},
     "output_type": "execute_result"
    }
   ],
   "source": [
    "# load the 2017 data\n",
    "scripts = pd.read_csv('./dw-data/201701scripts_sample.csv.gz')\n",
    "scripts.head(10)"
   ]
  },
  {
   "cell_type": "code",
   "execution_count": 8,
   "metadata": {},
   "outputs": [
    {
     "name": "stdout",
     "output_type": "stream",
     "text": [
      "<class 'pandas.core.frame.DataFrame'>\n",
      "RangeIndex: 973193 entries, 0 to 973192\n",
      "Data columns (total 7 columns):\n",
      "practice    973193 non-null object\n",
      "bnf_code    973193 non-null object\n",
      "bnf_name    973193 non-null object\n",
      "items       973193 non-null int64\n",
      "nic         973193 non-null float64\n",
      "act_cost    973193 non-null float64\n",
      "quantity    973193 non-null int64\n",
      "dtypes: float64(2), int64(2), object(3)\n",
      "memory usage: 52.0+ MB\n"
     ]
    }
   ],
   "source": [
    "scripts.info()"
   ]
  },
  {
   "cell_type": "code",
   "execution_count": 9,
   "metadata": {},
   "outputs": [
    {
     "data": {
      "text/plain": [
       "practice    0\n",
       "bnf_code    0\n",
       "bnf_name    0\n",
       "items       0\n",
       "nic         0\n",
       "act_cost    0\n",
       "quantity    0\n",
       "dtype: int64"
      ]
     },
     "execution_count": 9,
     "metadata": {},
     "output_type": "execute_result"
    }
   ],
   "source": [
    "scripts.isnull().sum()"
   ]
  },
  {
   "cell_type": "code",
   "execution_count": 10,
   "metadata": {},
   "outputs": [
    {
     "data": {
      "text/plain": [
       "practice     object\n",
       "bnf_code     object\n",
       "bnf_name     object\n",
       "items         int64\n",
       "nic         float64\n",
       "act_cost    float64\n",
       "quantity      int64\n",
       "dtype: object"
      ]
     },
     "execution_count": 10,
     "metadata": {},
     "output_type": "execute_result"
    }
   ],
   "source": [
    "scripts.dtypes"
   ]
  },
  {
   "cell_type": "code",
   "execution_count": 11,
   "metadata": {},
   "outputs": [
    {
     "data": {
      "text/plain": [
       "pandas.core.frame.DataFrame"
      ]
     },
     "execution_count": 11,
     "metadata": {},
     "output_type": "execute_result"
    }
   ],
   "source": [
    "type(scripts)"
   ]
  },
  {
   "cell_type": "code",
   "execution_count": 12,
   "metadata": {},
   "outputs": [
    {
     "data": {
      "text/html": [
       "<div>\n",
       "<style scoped>\n",
       "    .dataframe tbody tr th:only-of-type {\n",
       "        vertical-align: middle;\n",
       "    }\n",
       "\n",
       "    .dataframe tbody tr th {\n",
       "        vertical-align: top;\n",
       "    }\n",
       "\n",
       "    .dataframe thead th {\n",
       "        text-align: right;\n",
       "    }\n",
       "</style>\n",
       "<table border=\"1\" class=\"dataframe\">\n",
       "  <thead>\n",
       "    <tr style=\"text-align: right;\">\n",
       "      <th></th>\n",
       "      <th>code</th>\n",
       "      <th>name</th>\n",
       "      <th>addr_1</th>\n",
       "      <th>addr_2</th>\n",
       "      <th>borough</th>\n",
       "      <th>village</th>\n",
       "      <th>post_code</th>\n",
       "    </tr>\n",
       "  </thead>\n",
       "  <tbody>\n",
       "    <tr>\n",
       "      <th>0</th>\n",
       "      <td>A81001</td>\n",
       "      <td>THE DENSHAM SURGERY</td>\n",
       "      <td>THE HEALTH CENTRE</td>\n",
       "      <td>LAWSON STREET</td>\n",
       "      <td>STOCKTON ON TEES</td>\n",
       "      <td>CLEVELAND</td>\n",
       "      <td>TS18 1HU</td>\n",
       "    </tr>\n",
       "    <tr>\n",
       "      <th>1</th>\n",
       "      <td>A81002</td>\n",
       "      <td>QUEENS PARK MEDICAL CENTRE</td>\n",
       "      <td>QUEENS PARK MEDICAL CTR</td>\n",
       "      <td>FARRER STREET</td>\n",
       "      <td>STOCKTON ON TEES</td>\n",
       "      <td>CLEVELAND</td>\n",
       "      <td>TS18 2AW</td>\n",
       "    </tr>\n",
       "    <tr>\n",
       "      <th>2</th>\n",
       "      <td>A81003</td>\n",
       "      <td>VICTORIA MEDICAL PRACTICE</td>\n",
       "      <td>THE HEALTH CENTRE</td>\n",
       "      <td>VICTORIA ROAD</td>\n",
       "      <td>HARTLEPOOL</td>\n",
       "      <td>CLEVELAND</td>\n",
       "      <td>TS26 8DB</td>\n",
       "    </tr>\n",
       "    <tr>\n",
       "      <th>3</th>\n",
       "      <td>A81004</td>\n",
       "      <td>WOODLANDS ROAD SURGERY</td>\n",
       "      <td>6 WOODLANDS ROAD</td>\n",
       "      <td>NaN</td>\n",
       "      <td>MIDDLESBROUGH</td>\n",
       "      <td>CLEVELAND</td>\n",
       "      <td>TS1 3BE</td>\n",
       "    </tr>\n",
       "    <tr>\n",
       "      <th>4</th>\n",
       "      <td>A81005</td>\n",
       "      <td>SPRINGWOOD SURGERY</td>\n",
       "      <td>SPRINGWOOD SURGERY</td>\n",
       "      <td>RECTORY LANE</td>\n",
       "      <td>GUISBOROUGH</td>\n",
       "      <td>NaN</td>\n",
       "      <td>TS14 7DJ</td>\n",
       "    </tr>\n",
       "    <tr>\n",
       "      <th>5</th>\n",
       "      <td>A81006</td>\n",
       "      <td>TENNANT STREET MEDICAL PRACTICE</td>\n",
       "      <td>TENNANT ST MED PRACT</td>\n",
       "      <td>FARRER STREET</td>\n",
       "      <td>STOCKTON ON TEES</td>\n",
       "      <td>CLEVELAND</td>\n",
       "      <td>TS18 2AT</td>\n",
       "    </tr>\n",
       "    <tr>\n",
       "      <th>6</th>\n",
       "      <td>A81007</td>\n",
       "      <td>BANKHOUSE SURGERY</td>\n",
       "      <td>ONE LIFE HARTLEPOOL</td>\n",
       "      <td>PARK ROAD</td>\n",
       "      <td>HARTLEPOOL</td>\n",
       "      <td>CLEVELAND</td>\n",
       "      <td>TS24 7PW</td>\n",
       "    </tr>\n",
       "    <tr>\n",
       "      <th>7</th>\n",
       "      <td>A81008</td>\n",
       "      <td>ALBERT HOUSE CLINIC</td>\n",
       "      <td>LOW GRANGE HEALTH VILLAGE</td>\n",
       "      <td>NORMANBY ROAD</td>\n",
       "      <td>MIDDLESBROUGH</td>\n",
       "      <td>CLEVELAND</td>\n",
       "      <td>TS6 6TD</td>\n",
       "    </tr>\n",
       "    <tr>\n",
       "      <th>8</th>\n",
       "      <td>A81009</td>\n",
       "      <td>VILLAGE MEDICAL CENTRE</td>\n",
       "      <td>THE VILLAGE MEDICAL CTR</td>\n",
       "      <td>400/404 LINTHORPE ROAD</td>\n",
       "      <td>MIDDLESBROUGH</td>\n",
       "      <td>CLEVELAND</td>\n",
       "      <td>TS5 6HF</td>\n",
       "    </tr>\n",
       "    <tr>\n",
       "      <th>9</th>\n",
       "      <td>A81011</td>\n",
       "      <td>CHADWICK PRACTICE</td>\n",
       "      <td>ONE LIFE HARTLEPOOL</td>\n",
       "      <td>PARK ROAD</td>\n",
       "      <td>HARTLEPOOL</td>\n",
       "      <td>CLEVELAND</td>\n",
       "      <td>TS24 7PW</td>\n",
       "    </tr>\n",
       "  </tbody>\n",
       "</table>\n",
       "</div>"
      ],
      "text/plain": [
       "     code                             name                     addr_1  \\\n",
       "0  A81001              THE DENSHAM SURGERY          THE HEALTH CENTRE   \n",
       "1  A81002       QUEENS PARK MEDICAL CENTRE    QUEENS PARK MEDICAL CTR   \n",
       "2  A81003        VICTORIA MEDICAL PRACTICE          THE HEALTH CENTRE   \n",
       "3  A81004           WOODLANDS ROAD SURGERY           6 WOODLANDS ROAD   \n",
       "4  A81005               SPRINGWOOD SURGERY         SPRINGWOOD SURGERY   \n",
       "5  A81006  TENNANT STREET MEDICAL PRACTICE       TENNANT ST MED PRACT   \n",
       "6  A81007                BANKHOUSE SURGERY        ONE LIFE HARTLEPOOL   \n",
       "7  A81008              ALBERT HOUSE CLINIC  LOW GRANGE HEALTH VILLAGE   \n",
       "8  A81009           VILLAGE MEDICAL CENTRE    THE VILLAGE MEDICAL CTR   \n",
       "9  A81011                CHADWICK PRACTICE        ONE LIFE HARTLEPOOL   \n",
       "\n",
       "                   addr_2           borough    village post_code  \n",
       "0           LAWSON STREET  STOCKTON ON TEES  CLEVELAND  TS18 1HU  \n",
       "1           FARRER STREET  STOCKTON ON TEES  CLEVELAND  TS18 2AW  \n",
       "2           VICTORIA ROAD        HARTLEPOOL  CLEVELAND  TS26 8DB  \n",
       "3                     NaN     MIDDLESBROUGH  CLEVELAND   TS1 3BE  \n",
       "4            RECTORY LANE       GUISBOROUGH        NaN  TS14 7DJ  \n",
       "5           FARRER STREET  STOCKTON ON TEES  CLEVELAND  TS18 2AT  \n",
       "6               PARK ROAD        HARTLEPOOL  CLEVELAND  TS24 7PW  \n",
       "7           NORMANBY ROAD     MIDDLESBROUGH  CLEVELAND   TS6 6TD  \n",
       "8  400/404 LINTHORPE ROAD     MIDDLESBROUGH  CLEVELAND   TS5 6HF  \n",
       "9               PARK ROAD        HARTLEPOOL  CLEVELAND  TS24 7PW  "
      ]
     },
     "execution_count": 12,
     "metadata": {},
     "output_type": "execute_result"
    }
   ],
   "source": [
    "col_names=[ 'code', 'name', 'addr_1', 'addr_2', 'borough', 'village', 'post_code']\n",
    "practices = pd.read_csv('./dw-data/practices.csv.gz', names=col_names)\n",
    "practices.head(10)"
   ]
  },
  {
   "cell_type": "code",
   "execution_count": 13,
   "metadata": {},
   "outputs": [
    {
     "data": {
      "text/html": [
       "<div>\n",
       "<style scoped>\n",
       "    .dataframe tbody tr th:only-of-type {\n",
       "        vertical-align: middle;\n",
       "    }\n",
       "\n",
       "    .dataframe tbody tr th {\n",
       "        vertical-align: top;\n",
       "    }\n",
       "\n",
       "    .dataframe thead th {\n",
       "        text-align: right;\n",
       "    }\n",
       "</style>\n",
       "<table border=\"1\" class=\"dataframe\">\n",
       "  <thead>\n",
       "    <tr style=\"text-align: right;\">\n",
       "      <th></th>\n",
       "      <th>code</th>\n",
       "      <th>name</th>\n",
       "      <th>addr_1</th>\n",
       "      <th>addr_2</th>\n",
       "      <th>borough</th>\n",
       "      <th>village</th>\n",
       "      <th>post_code</th>\n",
       "    </tr>\n",
       "  </thead>\n",
       "  <tbody>\n",
       "    <tr>\n",
       "      <th>12010</th>\n",
       "      <td>Y05703</td>\n",
       "      <td>PRIMARY CARE CONNECT - ANFIELD HEALTH</td>\n",
       "      <td>TOWNSEND LANE NHC</td>\n",
       "      <td>98 TOWNSEND LANE</td>\n",
       "      <td>LIVERPOOL</td>\n",
       "      <td>MERSEYSIDE</td>\n",
       "      <td>L6 0BB</td>\n",
       "    </tr>\n",
       "    <tr>\n",
       "      <th>12011</th>\n",
       "      <td>Y05725</td>\n",
       "      <td>ACUTE CARE AT HOME CENTRAL</td>\n",
       "      <td>TRURO HEALTH PARK</td>\n",
       "      <td>INFIRMARY HILL</td>\n",
       "      <td>TRURO</td>\n",
       "      <td>CORNWALL</td>\n",
       "      <td>TR1 2JA</td>\n",
       "    </tr>\n",
       "    <tr>\n",
       "      <th>12012</th>\n",
       "      <td>Y05743</td>\n",
       "      <td>NEWARK ACUTE HOME VISITING SERVICE</td>\n",
       "      <td>PICS</td>\n",
       "      <td>UNIT H4 ASH TREE COURT</td>\n",
       "      <td>NOTTINGHAM</td>\n",
       "      <td>NaN</td>\n",
       "      <td>NG8 6PY</td>\n",
       "    </tr>\n",
       "    <tr>\n",
       "      <th>12013</th>\n",
       "      <td>Y05744</td>\n",
       "      <td>NEWMEDICA COMMUNITY OPHTHALMOLOGY</td>\n",
       "      <td>CROMWELL PCC</td>\n",
       "      <td>CROMWELL ROAD</td>\n",
       "      <td>GRIMSBY</td>\n",
       "      <td>NORTH EAST LINCOLNSHIRE</td>\n",
       "      <td>DN31 2BH</td>\n",
       "    </tr>\n",
       "    <tr>\n",
       "      <th>12014</th>\n",
       "      <td>Y05748</td>\n",
       "      <td>EAST KENT DRUG AND ALCOHOL SERVICE</td>\n",
       "      <td>TRANSPORT HOUSE</td>\n",
       "      <td>DRUM LANE</td>\n",
       "      <td>ASHFORD</td>\n",
       "      <td>KENT</td>\n",
       "      <td>TN23 1LQ</td>\n",
       "    </tr>\n",
       "    <tr>\n",
       "      <th>12015</th>\n",
       "      <td>Y05752</td>\n",
       "      <td>MALVERN FRAILTY UNIT</td>\n",
       "      <td>MALVERN COMM. HOSPITAL</td>\n",
       "      <td>185 WORCESTER ROAD</td>\n",
       "      <td>MALVERN</td>\n",
       "      <td>WORCESTERSHIRE</td>\n",
       "      <td>WR14 1EX</td>\n",
       "    </tr>\n",
       "    <tr>\n",
       "      <th>12016</th>\n",
       "      <td>Y05757</td>\n",
       "      <td>VC WEST LANCS HC-UCC</td>\n",
       "      <td>ORMSKIRK DG HOSPITAL</td>\n",
       "      <td>WIGAN ROAD</td>\n",
       "      <td>ORMSKIRK</td>\n",
       "      <td>LANCASHIRE</td>\n",
       "      <td>L39 2AZ</td>\n",
       "    </tr>\n",
       "    <tr>\n",
       "      <th>12017</th>\n",
       "      <td>Y05758</td>\n",
       "      <td>VC SKELMERSDALE UCC</td>\n",
       "      <td>CONCOURSE SHOPPING CENTRE</td>\n",
       "      <td>116-8 SOUTH WAY</td>\n",
       "      <td>SKELMERSDALE</td>\n",
       "      <td>LANCASHIRE</td>\n",
       "      <td>WN8 6LJ</td>\n",
       "    </tr>\n",
       "    <tr>\n",
       "      <th>12018</th>\n",
       "      <td>Y05762</td>\n",
       "      <td>WEST MERTON ACCESS HUB</td>\n",
       "      <td>THE NELSON HEALTH CENTRE</td>\n",
       "      <td>KINGSTON ROAD</td>\n",
       "      <td>WIMBLEDON</td>\n",
       "      <td>NaN</td>\n",
       "      <td>SW20 8DA</td>\n",
       "    </tr>\n",
       "    <tr>\n",
       "      <th>12019</th>\n",
       "      <td>Y05763</td>\n",
       "      <td>ELY LOCAL URGENT CARE SERVICE</td>\n",
       "      <td>PRINCESS OF WALES HOSP</td>\n",
       "      <td>LYNN ROAD</td>\n",
       "      <td>ELY</td>\n",
       "      <td>CAMBRIDGSHIRE</td>\n",
       "      <td>CB6 1DN</td>\n",
       "    </tr>\n",
       "  </tbody>\n",
       "</table>\n",
       "</div>"
      ],
      "text/plain": [
       "         code                                   name  \\\n",
       "12010  Y05703  PRIMARY CARE CONNECT - ANFIELD HEALTH   \n",
       "12011  Y05725             ACUTE CARE AT HOME CENTRAL   \n",
       "12012  Y05743     NEWARK ACUTE HOME VISITING SERVICE   \n",
       "12013  Y05744      NEWMEDICA COMMUNITY OPHTHALMOLOGY   \n",
       "12014  Y05748     EAST KENT DRUG AND ALCOHOL SERVICE   \n",
       "12015  Y05752                   MALVERN FRAILTY UNIT   \n",
       "12016  Y05757                   VC WEST LANCS HC-UCC   \n",
       "12017  Y05758                    VC SKELMERSDALE UCC   \n",
       "12018  Y05762                 WEST MERTON ACCESS HUB   \n",
       "12019  Y05763          ELY LOCAL URGENT CARE SERVICE   \n",
       "\n",
       "                          addr_1                  addr_2       borough  \\\n",
       "12010          TOWNSEND LANE NHC        98 TOWNSEND LANE     LIVERPOOL   \n",
       "12011          TRURO HEALTH PARK          INFIRMARY HILL         TRURO   \n",
       "12012                       PICS  UNIT H4 ASH TREE COURT    NOTTINGHAM   \n",
       "12013               CROMWELL PCC           CROMWELL ROAD       GRIMSBY   \n",
       "12014            TRANSPORT HOUSE               DRUM LANE       ASHFORD   \n",
       "12015     MALVERN COMM. HOSPITAL      185 WORCESTER ROAD       MALVERN   \n",
       "12016       ORMSKIRK DG HOSPITAL              WIGAN ROAD      ORMSKIRK   \n",
       "12017  CONCOURSE SHOPPING CENTRE         116-8 SOUTH WAY  SKELMERSDALE   \n",
       "12018   THE NELSON HEALTH CENTRE           KINGSTON ROAD     WIMBLEDON   \n",
       "12019     PRINCESS OF WALES HOSP               LYNN ROAD           ELY   \n",
       "\n",
       "                       village post_code  \n",
       "12010               MERSEYSIDE    L6 0BB  \n",
       "12011                 CORNWALL   TR1 2JA  \n",
       "12012                      NaN   NG8 6PY  \n",
       "12013  NORTH EAST LINCOLNSHIRE  DN31 2BH  \n",
       "12014                     KENT  TN23 1LQ  \n",
       "12015           WORCESTERSHIRE  WR14 1EX  \n",
       "12016               LANCASHIRE   L39 2AZ  \n",
       "12017               LANCASHIRE   WN8 6LJ  \n",
       "12018                      NaN  SW20 8DA  \n",
       "12019            CAMBRIDGSHIRE   CB6 1DN  "
      ]
     },
     "execution_count": 13,
     "metadata": {},
     "output_type": "execute_result"
    }
   ],
   "source": [
    "practices.tail(10)"
   ]
  },
  {
   "cell_type": "code",
   "execution_count": 14,
   "metadata": {},
   "outputs": [
    {
     "name": "stdout",
     "output_type": "stream",
     "text": [
      "<class 'pandas.core.frame.DataFrame'>\n",
      "RangeIndex: 12020 entries, 0 to 12019\n",
      "Data columns (total 7 columns):\n",
      "code         12020 non-null object\n",
      "name         12020 non-null object\n",
      "addr_1       12015 non-null object\n",
      "addr_2       11070 non-null object\n",
      "borough      11546 non-null object\n",
      "village      9349 non-null object\n",
      "post_code    12020 non-null object\n",
      "dtypes: object(7)\n",
      "memory usage: 657.5+ KB\n"
     ]
    }
   ],
   "source": [
    "practices.info()"
   ]
  },
  {
   "cell_type": "code",
   "execution_count": 15,
   "metadata": {},
   "outputs": [
    {
     "data": {
      "text/plain": [
       "code            0\n",
       "name            0\n",
       "addr_1          5\n",
       "addr_2        950\n",
       "borough       474\n",
       "village      2671\n",
       "post_code       0\n",
       "dtype: int64"
      ]
     },
     "execution_count": 15,
     "metadata": {},
     "output_type": "execute_result"
    }
   ],
   "source": [
    "practices.isnull().sum()"
   ]
  },
  {
   "cell_type": "code",
   "execution_count": 16,
   "metadata": {},
   "outputs": [
    {
     "data": {
      "text/plain": [
       "code         object\n",
       "name         object\n",
       "addr_1       object\n",
       "addr_2       object\n",
       "borough      object\n",
       "village      object\n",
       "post_code    object\n",
       "dtype: object"
      ]
     },
     "execution_count": 16,
     "metadata": {},
     "output_type": "execute_result"
    }
   ],
   "source": [
    "practices.dtypes"
   ]
  },
  {
   "cell_type": "code",
   "execution_count": 17,
   "metadata": {},
   "outputs": [
    {
     "data": {
      "text/html": [
       "<div>\n",
       "<style scoped>\n",
       "    .dataframe tbody tr th:only-of-type {\n",
       "        vertical-align: middle;\n",
       "    }\n",
       "\n",
       "    .dataframe tbody tr th {\n",
       "        vertical-align: top;\n",
       "    }\n",
       "\n",
       "    .dataframe thead th {\n",
       "        text-align: right;\n",
       "    }\n",
       "</style>\n",
       "<table border=\"1\" class=\"dataframe\">\n",
       "  <thead>\n",
       "    <tr style=\"text-align: right;\">\n",
       "      <th></th>\n",
       "      <th>CHEM SUB</th>\n",
       "      <th>NAME</th>\n",
       "    </tr>\n",
       "  </thead>\n",
       "  <tbody>\n",
       "    <tr>\n",
       "      <th>0</th>\n",
       "      <td>0101010A0</td>\n",
       "      <td>Alexitol Sodium</td>\n",
       "    </tr>\n",
       "    <tr>\n",
       "      <th>1</th>\n",
       "      <td>0101010B0</td>\n",
       "      <td>Almasilate</td>\n",
       "    </tr>\n",
       "    <tr>\n",
       "      <th>2</th>\n",
       "      <td>0101010C0</td>\n",
       "      <td>Aluminium Hydroxide</td>\n",
       "    </tr>\n",
       "    <tr>\n",
       "      <th>3</th>\n",
       "      <td>0101010D0</td>\n",
       "      <td>Aluminium Hydroxide With Magnesium</td>\n",
       "    </tr>\n",
       "    <tr>\n",
       "      <th>4</th>\n",
       "      <td>0101010E0</td>\n",
       "      <td>Hydrotalcite</td>\n",
       "    </tr>\n",
       "  </tbody>\n",
       "</table>\n",
       "</div>"
      ],
      "text/plain": [
       "    CHEM SUB                                NAME\n",
       "0  0101010A0                     Alexitol Sodium\n",
       "1  0101010B0                          Almasilate\n",
       "2  0101010C0                 Aluminium Hydroxide\n",
       "3  0101010D0  Aluminium Hydroxide With Magnesium\n",
       "4  0101010E0                        Hydrotalcite"
      ]
     },
     "execution_count": 17,
     "metadata": {},
     "output_type": "execute_result"
    }
   ],
   "source": [
    "chem = pd.read_csv('./dw-data/chem.csv.gz')\n",
    "chem.head()"
   ]
  },
  {
   "cell_type": "code",
   "execution_count": 18,
   "metadata": {},
   "outputs": [
    {
     "name": "stdout",
     "output_type": "stream",
     "text": [
      "<class 'pandas.core.frame.DataFrame'>\n",
      "RangeIndex: 3487 entries, 0 to 3486\n",
      "Data columns (total 2 columns):\n",
      "CHEM SUB    3487 non-null object\n",
      "NAME        3487 non-null object\n",
      "dtypes: object(2)\n",
      "memory usage: 54.6+ KB\n"
     ]
    }
   ],
   "source": [
    "chem.info()"
   ]
  },
  {
   "cell_type": "markdown",
   "metadata": {},
   "source": [
    "Now that we've loaded in the data, let's first replicate our results from the `PW` miniproject. Note that we are now working with a larger data set so the answers will be different than in the `PW` miniproject even if the analysis is the same."
   ]
  },
  {
   "cell_type": "markdown",
   "metadata": {},
   "source": [
    "## Question 1: summary_statistics\n",
    "\n",
    "In the `PW` miniproject we first calculated the total, mean, standard deviation, and quartile statistics of the `'items'`, `'quantity'`', `'nic'`, and `'act_cost'` fields. To do this we had to write some functions to calculate the statistics and apply the functions to our data structure. The DataFrame has a `describe` method that will calculate most (not all) of these things for us.\n",
    "\n",
    "Submit the summary statistics to the grader as a list of tuples: [('act_cost', (total, mean, std, q25, median, q75)), ...]"
   ]
  },
  {
   "cell_type": "markdown",
   "metadata": {},
   "source": [
    "Answer Format:\n",
    "    \n",
    "```Python\n",
    "    summary_stats = [('items', (0,) * 6), \n",
    "                     ('quantity', (0,) * 6), \n",
    "                     ('nic', (0,) * 6), \n",
    "                     ('act_cost', (0,) * 6)]\n",
    "```"
   ]
  },
  {
   "cell_type": "code",
   "execution_count": 19,
   "metadata": {},
   "outputs": [
    {
     "data": {
      "text/html": [
       "<div>\n",
       "<style scoped>\n",
       "    .dataframe tbody tr th:only-of-type {\n",
       "        vertical-align: middle;\n",
       "    }\n",
       "\n",
       "    .dataframe tbody tr th {\n",
       "        vertical-align: top;\n",
       "    }\n",
       "\n",
       "    .dataframe thead th {\n",
       "        text-align: right;\n",
       "    }\n",
       "</style>\n",
       "<table border=\"1\" class=\"dataframe\">\n",
       "  <thead>\n",
       "    <tr style=\"text-align: right;\">\n",
       "      <th></th>\n",
       "      <th>items</th>\n",
       "      <th>nic</th>\n",
       "      <th>act_cost</th>\n",
       "      <th>quantity</th>\n",
       "    </tr>\n",
       "  </thead>\n",
       "  <tbody>\n",
       "    <tr>\n",
       "      <th>0</th>\n",
       "      <td>1</td>\n",
       "      <td>0.39</td>\n",
       "      <td>0.47</td>\n",
       "      <td>12</td>\n",
       "    </tr>\n",
       "    <tr>\n",
       "      <th>1</th>\n",
       "      <td>1</td>\n",
       "      <td>4.38</td>\n",
       "      <td>4.07</td>\n",
       "      <td>30</td>\n",
       "    </tr>\n",
       "    <tr>\n",
       "      <th>2</th>\n",
       "      <td>1</td>\n",
       "      <td>1.50</td>\n",
       "      <td>1.40</td>\n",
       "      <td>1</td>\n",
       "    </tr>\n",
       "    <tr>\n",
       "      <th>3</th>\n",
       "      <td>1</td>\n",
       "      <td>2.62</td>\n",
       "      <td>2.44</td>\n",
       "      <td>150</td>\n",
       "    </tr>\n",
       "    <tr>\n",
       "      <th>4</th>\n",
       "      <td>1</td>\n",
       "      <td>0.16</td>\n",
       "      <td>0.26</td>\n",
       "      <td>6</td>\n",
       "    </tr>\n",
       "  </tbody>\n",
       "</table>\n",
       "</div>"
      ],
      "text/plain": [
       "   items   nic  act_cost  quantity\n",
       "0      1  0.39      0.47        12\n",
       "1      1  4.38      4.07        30\n",
       "2      1  1.50      1.40         1\n",
       "3      1  2.62      2.44       150\n",
       "4      1  0.16      0.26         6"
      ]
     },
     "execution_count": 19,
     "metadata": {},
     "output_type": "execute_result"
    }
   ],
   "source": [
    "scripts.select_dtypes(include='number').head()"
   ]
  },
  {
   "cell_type": "code",
   "execution_count": 20,
   "metadata": {},
   "outputs": [
    {
     "data": {
      "text/html": [
       "<div>\n",
       "<style scoped>\n",
       "    .dataframe tbody tr th:only-of-type {\n",
       "        vertical-align: middle;\n",
       "    }\n",
       "\n",
       "    .dataframe tbody tr th {\n",
       "        vertical-align: top;\n",
       "    }\n",
       "\n",
       "    .dataframe thead th {\n",
       "        text-align: right;\n",
       "    }\n",
       "</style>\n",
       "<table border=\"1\" class=\"dataframe\">\n",
       "  <thead>\n",
       "    <tr style=\"text-align: right;\">\n",
       "      <th></th>\n",
       "      <th>items</th>\n",
       "      <th>quantity</th>\n",
       "      <th>nic</th>\n",
       "      <th>act_cost</th>\n",
       "    </tr>\n",
       "  </thead>\n",
       "  <tbody>\n",
       "    <tr>\n",
       "      <th>0</th>\n",
       "      <td>1</td>\n",
       "      <td>12</td>\n",
       "      <td>0.39</td>\n",
       "      <td>0.47</td>\n",
       "    </tr>\n",
       "    <tr>\n",
       "      <th>1</th>\n",
       "      <td>1</td>\n",
       "      <td>30</td>\n",
       "      <td>4.38</td>\n",
       "      <td>4.07</td>\n",
       "    </tr>\n",
       "    <tr>\n",
       "      <th>2</th>\n",
       "      <td>1</td>\n",
       "      <td>1</td>\n",
       "      <td>1.50</td>\n",
       "      <td>1.40</td>\n",
       "    </tr>\n",
       "    <tr>\n",
       "      <th>3</th>\n",
       "      <td>1</td>\n",
       "      <td>150</td>\n",
       "      <td>2.62</td>\n",
       "      <td>2.44</td>\n",
       "    </tr>\n",
       "    <tr>\n",
       "      <th>4</th>\n",
       "      <td>1</td>\n",
       "      <td>6</td>\n",
       "      <td>0.16</td>\n",
       "      <td>0.26</td>\n",
       "    </tr>\n",
       "  </tbody>\n",
       "</table>\n",
       "</div>"
      ],
      "text/plain": [
       "   items  quantity   nic  act_cost\n",
       "0      1        12  0.39      0.47\n",
       "1      1        30  4.38      4.07\n",
       "2      1         1  1.50      1.40\n",
       "3      1       150  2.62      2.44\n",
       "4      1         6  0.16      0.26"
      ]
     },
     "execution_count": 20,
     "metadata": {},
     "output_type": "execute_result"
    }
   ],
   "source": [
    "cols = ['items', 'quantity', 'nic', 'act_cost']\n",
    "scripts[cols].head()"
   ]
  },
  {
   "cell_type": "code",
   "execution_count": 21,
   "metadata": {},
   "outputs": [
    {
     "data": {
      "text/html": [
       "<div>\n",
       "<style scoped>\n",
       "    .dataframe tbody tr th:only-of-type {\n",
       "        vertical-align: middle;\n",
       "    }\n",
       "\n",
       "    .dataframe tbody tr th {\n",
       "        vertical-align: top;\n",
       "    }\n",
       "\n",
       "    .dataframe thead th {\n",
       "        text-align: right;\n",
       "    }\n",
       "</style>\n",
       "<table border=\"1\" class=\"dataframe\">\n",
       "  <thead>\n",
       "    <tr style=\"text-align: right;\">\n",
       "      <th></th>\n",
       "      <th>items</th>\n",
       "      <th>quantity</th>\n",
       "      <th>nic</th>\n",
       "      <th>act_cost</th>\n",
       "    </tr>\n",
       "  </thead>\n",
       "  <tbody>\n",
       "    <tr>\n",
       "      <th>count</th>\n",
       "      <td>973193.000000</td>\n",
       "      <td>973193.000000</td>\n",
       "      <td>973193.000000</td>\n",
       "      <td>973193.000000</td>\n",
       "    </tr>\n",
       "    <tr>\n",
       "      <th>mean</th>\n",
       "      <td>9.133136</td>\n",
       "      <td>741.329835</td>\n",
       "      <td>73.058915</td>\n",
       "      <td>67.986613</td>\n",
       "    </tr>\n",
       "    <tr>\n",
       "      <th>std</th>\n",
       "      <td>29.204198</td>\n",
       "      <td>3665.426958</td>\n",
       "      <td>188.070257</td>\n",
       "      <td>174.401703</td>\n",
       "    </tr>\n",
       "    <tr>\n",
       "      <th>min</th>\n",
       "      <td>1.000000</td>\n",
       "      <td>0.000000</td>\n",
       "      <td>0.000000</td>\n",
       "      <td>0.040000</td>\n",
       "    </tr>\n",
       "    <tr>\n",
       "      <th>25%</th>\n",
       "      <td>1.000000</td>\n",
       "      <td>28.000000</td>\n",
       "      <td>7.800000</td>\n",
       "      <td>7.330000</td>\n",
       "    </tr>\n",
       "    <tr>\n",
       "      <th>50%</th>\n",
       "      <td>2.000000</td>\n",
       "      <td>100.000000</td>\n",
       "      <td>22.640000</td>\n",
       "      <td>21.220000</td>\n",
       "    </tr>\n",
       "    <tr>\n",
       "      <th>75%</th>\n",
       "      <td>6.000000</td>\n",
       "      <td>350.000000</td>\n",
       "      <td>65.000000</td>\n",
       "      <td>60.670000</td>\n",
       "    </tr>\n",
       "    <tr>\n",
       "      <th>max</th>\n",
       "      <td>2384.000000</td>\n",
       "      <td>577720.000000</td>\n",
       "      <td>16320.000000</td>\n",
       "      <td>15108.320000</td>\n",
       "    </tr>\n",
       "  </tbody>\n",
       "</table>\n",
       "</div>"
      ],
      "text/plain": [
       "               items       quantity            nic       act_cost\n",
       "count  973193.000000  973193.000000  973193.000000  973193.000000\n",
       "mean        9.133136     741.329835      73.058915      67.986613\n",
       "std        29.204198    3665.426958     188.070257     174.401703\n",
       "min         1.000000       0.000000       0.000000       0.040000\n",
       "25%         1.000000      28.000000       7.800000       7.330000\n",
       "50%         2.000000     100.000000      22.640000      21.220000\n",
       "75%         6.000000     350.000000      65.000000      60.670000\n",
       "max      2384.000000  577720.000000   16320.000000   15108.320000"
      ]
     },
     "execution_count": 21,
     "metadata": {},
     "output_type": "execute_result"
    }
   ],
   "source": [
    "scripts[cols].describe()"
   ]
  },
  {
   "cell_type": "code",
   "execution_count": 22,
   "metadata": {},
   "outputs": [
    {
     "data": {
      "text/html": [
       "<div>\n",
       "<style scoped>\n",
       "    .dataframe tbody tr th:only-of-type {\n",
       "        vertical-align: middle;\n",
       "    }\n",
       "\n",
       "    .dataframe tbody tr th {\n",
       "        vertical-align: top;\n",
       "    }\n",
       "\n",
       "    .dataframe thead th {\n",
       "        text-align: right;\n",
       "    }\n",
       "</style>\n",
       "<table border=\"1\" class=\"dataframe\">\n",
       "  <thead>\n",
       "    <tr style=\"text-align: right;\">\n",
       "      <th></th>\n",
       "      <th>items</th>\n",
       "      <th>quantity</th>\n",
       "      <th>nic</th>\n",
       "      <th>act_cost</th>\n",
       "    </tr>\n",
       "  </thead>\n",
       "  <tbody>\n",
       "    <tr>\n",
       "      <th>mean</th>\n",
       "      <td>9.133136</td>\n",
       "      <td>741.329835</td>\n",
       "      <td>73.058915</td>\n",
       "      <td>67.986613</td>\n",
       "    </tr>\n",
       "    <tr>\n",
       "      <th>std</th>\n",
       "      <td>29.204198</td>\n",
       "      <td>3665.426958</td>\n",
       "      <td>188.070257</td>\n",
       "      <td>174.401703</td>\n",
       "    </tr>\n",
       "    <tr>\n",
       "      <th>min</th>\n",
       "      <td>1.000000</td>\n",
       "      <td>0.000000</td>\n",
       "      <td>0.000000</td>\n",
       "      <td>0.040000</td>\n",
       "    </tr>\n",
       "    <tr>\n",
       "      <th>25%</th>\n",
       "      <td>1.000000</td>\n",
       "      <td>28.000000</td>\n",
       "      <td>7.800000</td>\n",
       "      <td>7.330000</td>\n",
       "    </tr>\n",
       "    <tr>\n",
       "      <th>50%</th>\n",
       "      <td>2.000000</td>\n",
       "      <td>100.000000</td>\n",
       "      <td>22.640000</td>\n",
       "      <td>21.220000</td>\n",
       "    </tr>\n",
       "    <tr>\n",
       "      <th>75%</th>\n",
       "      <td>6.000000</td>\n",
       "      <td>350.000000</td>\n",
       "      <td>65.000000</td>\n",
       "      <td>60.670000</td>\n",
       "    </tr>\n",
       "  </tbody>\n",
       "</table>\n",
       "</div>"
      ],
      "text/plain": [
       "          items     quantity         nic    act_cost\n",
       "mean   9.133136   741.329835   73.058915   67.986613\n",
       "std   29.204198  3665.426958  188.070257  174.401703\n",
       "min    1.000000     0.000000    0.000000    0.040000\n",
       "25%    1.000000    28.000000    7.800000    7.330000\n",
       "50%    2.000000   100.000000   22.640000   21.220000\n",
       "75%    6.000000   350.000000   65.000000   60.670000"
      ]
     },
     "execution_count": 22,
     "metadata": {},
     "output_type": "execute_result"
    }
   ],
   "source": [
    "scripts[cols].describe()[1:7]"
   ]
  },
  {
   "cell_type": "code",
   "execution_count": 23,
   "metadata": {},
   "outputs": [
    {
     "data": {
      "text/plain": [
       "items       8.888304e+06\n",
       "quantity    7.214570e+08\n",
       "nic         7.110042e+07\n",
       "act_cost    6.616410e+07\n",
       "dtype: float64"
      ]
     },
     "execution_count": 23,
     "metadata": {},
     "output_type": "execute_result"
    }
   ],
   "source": [
    "total_s = scripts[cols].sum()\n",
    "total_s"
   ]
  },
  {
   "cell_type": "code",
   "execution_count": 24,
   "metadata": {},
   "outputs": [],
   "source": [
    "cols = ['items', 'quantity', 'nic', 'act_cost']\n",
    "summary_stats = ['mean', 'std', '25%', '50%', '75%']\n",
    "df = scripts[cols].describe().loc[summary_stats]"
   ]
  },
  {
   "cell_type": "code",
   "execution_count": 25,
   "metadata": {},
   "outputs": [
    {
     "data": {
      "text/html": [
       "<div>\n",
       "<style scoped>\n",
       "    .dataframe tbody tr th:only-of-type {\n",
       "        vertical-align: middle;\n",
       "    }\n",
       "\n",
       "    .dataframe tbody tr th {\n",
       "        vertical-align: top;\n",
       "    }\n",
       "\n",
       "    .dataframe thead th {\n",
       "        text-align: right;\n",
       "    }\n",
       "</style>\n",
       "<table border=\"1\" class=\"dataframe\">\n",
       "  <thead>\n",
       "    <tr style=\"text-align: right;\">\n",
       "      <th></th>\n",
       "      <th>mean</th>\n",
       "      <th>std</th>\n",
       "      <th>25%</th>\n",
       "      <th>50%</th>\n",
       "      <th>75%</th>\n",
       "    </tr>\n",
       "  </thead>\n",
       "  <tbody>\n",
       "    <tr>\n",
       "      <th>items</th>\n",
       "      <td>9.133136</td>\n",
       "      <td>29.204198</td>\n",
       "      <td>1.00</td>\n",
       "      <td>2.00</td>\n",
       "      <td>6.00</td>\n",
       "    </tr>\n",
       "    <tr>\n",
       "      <th>quantity</th>\n",
       "      <td>741.329835</td>\n",
       "      <td>3665.426958</td>\n",
       "      <td>28.00</td>\n",
       "      <td>100.00</td>\n",
       "      <td>350.00</td>\n",
       "    </tr>\n",
       "    <tr>\n",
       "      <th>nic</th>\n",
       "      <td>73.058915</td>\n",
       "      <td>188.070257</td>\n",
       "      <td>7.80</td>\n",
       "      <td>22.64</td>\n",
       "      <td>65.00</td>\n",
       "    </tr>\n",
       "    <tr>\n",
       "      <th>act_cost</th>\n",
       "      <td>67.986613</td>\n",
       "      <td>174.401703</td>\n",
       "      <td>7.33</td>\n",
       "      <td>21.22</td>\n",
       "      <td>60.67</td>\n",
       "    </tr>\n",
       "  </tbody>\n",
       "</table>\n",
       "</div>"
      ],
      "text/plain": [
       "                mean          std    25%     50%     75%\n",
       "items       9.133136    29.204198   1.00    2.00    6.00\n",
       "quantity  741.329835  3665.426958  28.00  100.00  350.00\n",
       "nic        73.058915   188.070257   7.80   22.64   65.00\n",
       "act_cost   67.986613   174.401703   7.33   21.22   60.67"
      ]
     },
     "execution_count": 25,
     "metadata": {},
     "output_type": "execute_result"
    }
   ],
   "source": [
    "df.T"
   ]
  },
  {
   "cell_type": "code",
   "execution_count": 26,
   "metadata": {},
   "outputs": [
    {
     "data": {
      "text/html": [
       "<div>\n",
       "<style scoped>\n",
       "    .dataframe tbody tr th:only-of-type {\n",
       "        vertical-align: middle;\n",
       "    }\n",
       "\n",
       "    .dataframe tbody tr th {\n",
       "        vertical-align: top;\n",
       "    }\n",
       "\n",
       "    .dataframe thead th {\n",
       "        text-align: right;\n",
       "    }\n",
       "</style>\n",
       "<table border=\"1\" class=\"dataframe\">\n",
       "  <thead>\n",
       "    <tr style=\"text-align: right;\">\n",
       "      <th></th>\n",
       "      <th>0</th>\n",
       "      <th>mean</th>\n",
       "      <th>std</th>\n",
       "      <th>25%</th>\n",
       "      <th>50%</th>\n",
       "      <th>75%</th>\n",
       "    </tr>\n",
       "  </thead>\n",
       "  <tbody>\n",
       "    <tr>\n",
       "      <th>items</th>\n",
       "      <td>8.888304e+06</td>\n",
       "      <td>9.133136</td>\n",
       "      <td>29.204198</td>\n",
       "      <td>1.00</td>\n",
       "      <td>2.00</td>\n",
       "      <td>6.00</td>\n",
       "    </tr>\n",
       "    <tr>\n",
       "      <th>quantity</th>\n",
       "      <td>7.214570e+08</td>\n",
       "      <td>741.329835</td>\n",
       "      <td>3665.426958</td>\n",
       "      <td>28.00</td>\n",
       "      <td>100.00</td>\n",
       "      <td>350.00</td>\n",
       "    </tr>\n",
       "    <tr>\n",
       "      <th>nic</th>\n",
       "      <td>7.110042e+07</td>\n",
       "      <td>73.058915</td>\n",
       "      <td>188.070257</td>\n",
       "      <td>7.80</td>\n",
       "      <td>22.64</td>\n",
       "      <td>65.00</td>\n",
       "    </tr>\n",
       "    <tr>\n",
       "      <th>act_cost</th>\n",
       "      <td>6.616410e+07</td>\n",
       "      <td>67.986613</td>\n",
       "      <td>174.401703</td>\n",
       "      <td>7.33</td>\n",
       "      <td>21.22</td>\n",
       "      <td>60.67</td>\n",
       "    </tr>\n",
       "  </tbody>\n",
       "</table>\n",
       "</div>"
      ],
      "text/plain": [
       "                     0        mean          std    25%     50%     75%\n",
       "items     8.888304e+06    9.133136    29.204198   1.00    2.00    6.00\n",
       "quantity  7.214570e+08  741.329835  3665.426958  28.00  100.00  350.00\n",
       "nic       7.110042e+07   73.058915   188.070257   7.80   22.64   65.00\n",
       "act_cost  6.616410e+07   67.986613   174.401703   7.33   21.22   60.67"
      ]
     },
     "execution_count": 26,
     "metadata": {},
     "output_type": "execute_result"
    }
   ],
   "source": [
    "# To join the Dataframe and Series\n",
    "ds_join = pd.concat([total_s, df.T], axis=1)\n",
    "ds_join"
   ]
  },
  {
   "cell_type": "code",
   "execution_count": 27,
   "metadata": {},
   "outputs": [
    {
     "name": "stdout",
     "output_type": "stream",
     "text": [
      "[('items', (8888304.0, 9.133135976111625, 29.204198282803603, 1.0, 2.0, 6.0)), ('quantity', (721457006.0, 741.3298348837282, 3665.426958467915, 28.0, 100.0, 350.0)), ('nic', (71100424.84000827, 73.05891517920908, 188.070256906825, 7.8, 22.64, 65.0)), ('act_cost', (66164096.11999956, 67.98661326170655, 174.40170332301963, 7.33, 21.22, 60.67))]\n"
     ]
    }
   ],
   "source": [
    "summary_stats = [(t[0], t[1:]) for t in ds_join.itertuples(name=None)]\n",
    "print(summary_stats)"
   ]
  },
  {
   "cell_type": "code",
   "execution_count": 28,
   "metadata": {},
   "outputs": [],
   "source": [
    "# print([(t[0], t[1:])]) for t in ds_join.interpolate(name=None)"
   ]
  },
  {
   "cell_type": "code",
   "execution_count": 29,
   "metadata": {},
   "outputs": [],
   "source": [
    "# dir(ds_join)"
   ]
  },
  {
   "cell_type": "code",
   "execution_count": 30,
   "metadata": {},
   "outputs": [],
   "source": [
    "# summary_stats = [('items', (0,) * 6), ('quantity', (0,) * 6), ('nic', (0,) * 6), ('act_cost', (0,) * 6)]"
   ]
  },
  {
   "cell_type": "code",
   "execution_count": 31,
   "metadata": {},
   "outputs": [
    {
     "name": "stdout",
     "output_type": "stream",
     "text": [
      "==================\n",
      "Your score:  1.0\n",
      "==================\n"
     ]
    }
   ],
   "source": [
    "grader.score.dw__summary_statistics(summary_stats)"
   ]
  },
  {
   "cell_type": "markdown",
   "metadata": {},
   "source": [
    "## Question 2: most_common_item\n",
    "\n",
    "We can also easily compute summary statistics on groups within the data. In the `pw` miniproject we had to explicitly construct the groups based on the values of a particular field. Pandas will handle that for us via the `groupby` method. This process is [detailed in the Pandas documentation](https://pandas.pydata.org/pandas-docs/stable/groupby.html).\n",
    "\n",
    "Use `groupby` to calculate the total number of items dispensed for each `'bnf_name'`. Find the item with the highest total and return the result as `[(bnf_name, total)]`."
   ]
  },
  {
   "cell_type": "code",
   "execution_count": 32,
   "metadata": {},
   "outputs": [
    {
     "data": {
      "text/html": [
       "<div>\n",
       "<style scoped>\n",
       "    .dataframe tbody tr th:only-of-type {\n",
       "        vertical-align: middle;\n",
       "    }\n",
       "\n",
       "    .dataframe tbody tr th {\n",
       "        vertical-align: top;\n",
       "    }\n",
       "\n",
       "    .dataframe thead th {\n",
       "        text-align: right;\n",
       "    }\n",
       "</style>\n",
       "<table border=\"1\" class=\"dataframe\">\n",
       "  <thead>\n",
       "    <tr style=\"text-align: right;\">\n",
       "      <th></th>\n",
       "      <th>practice</th>\n",
       "      <th>bnf_code</th>\n",
       "      <th>bnf_name</th>\n",
       "      <th>items</th>\n",
       "      <th>nic</th>\n",
       "      <th>act_cost</th>\n",
       "      <th>quantity</th>\n",
       "    </tr>\n",
       "  </thead>\n",
       "  <tbody>\n",
       "    <tr>\n",
       "      <th>0</th>\n",
       "      <td>N85639</td>\n",
       "      <td>0106020C0</td>\n",
       "      <td>Bisacodyl_Tab E/C 5mg</td>\n",
       "      <td>1</td>\n",
       "      <td>0.39</td>\n",
       "      <td>0.47</td>\n",
       "      <td>12</td>\n",
       "    </tr>\n",
       "    <tr>\n",
       "      <th>1</th>\n",
       "      <td>N85639</td>\n",
       "      <td>0106040M0</td>\n",
       "      <td>Movicol Plain_Paed Pdr Sach 6.9g</td>\n",
       "      <td>1</td>\n",
       "      <td>4.38</td>\n",
       "      <td>4.07</td>\n",
       "      <td>30</td>\n",
       "    </tr>\n",
       "  </tbody>\n",
       "</table>\n",
       "</div>"
      ],
      "text/plain": [
       "  practice   bnf_code                          bnf_name  items   nic  \\\n",
       "0   N85639  0106020C0             Bisacodyl_Tab E/C 5mg      1  0.39   \n",
       "1   N85639  0106040M0  Movicol Plain_Paed Pdr Sach 6.9g      1  4.38   \n",
       "\n",
       "   act_cost  quantity  \n",
       "0      0.47        12  \n",
       "1      4.07        30  "
      ]
     },
     "execution_count": 32,
     "metadata": {},
     "output_type": "execute_result"
    }
   ],
   "source": [
    "scripts.head(2)"
   ]
  },
  {
   "cell_type": "code",
   "execution_count": 33,
   "metadata": {},
   "outputs": [
    {
     "data": {
      "text/html": [
       "<div>\n",
       "<style scoped>\n",
       "    .dataframe tbody tr th:only-of-type {\n",
       "        vertical-align: middle;\n",
       "    }\n",
       "\n",
       "    .dataframe tbody tr th {\n",
       "        vertical-align: top;\n",
       "    }\n",
       "\n",
       "    .dataframe thead th {\n",
       "        text-align: right;\n",
       "    }\n",
       "</style>\n",
       "<table border=\"1\" class=\"dataframe\">\n",
       "  <thead>\n",
       "    <tr style=\"text-align: right;\">\n",
       "      <th></th>\n",
       "      <th>practice</th>\n",
       "      <th>bnf_code</th>\n",
       "      <th>bnf_name</th>\n",
       "      <th>items</th>\n",
       "      <th>nic</th>\n",
       "      <th>act_cost</th>\n",
       "      <th>quantity</th>\n",
       "    </tr>\n",
       "  </thead>\n",
       "  <tbody>\n",
       "    <tr>\n",
       "      <th>973188</th>\n",
       "      <td>H81615</td>\n",
       "      <td>239410100</td>\n",
       "      <td>Coloplast_SenSura Mio Flex B/Plt 50mm C/</td>\n",
       "      <td>1</td>\n",
       "      <td>78.92</td>\n",
       "      <td>73.06</td>\n",
       "      <td>20</td>\n",
       "    </tr>\n",
       "    <tr>\n",
       "      <th>973189</th>\n",
       "      <td>H81615</td>\n",
       "      <td>239410100</td>\n",
       "      <td>Coloplast_SenSura Mio Flex Clsd Bag Mini</td>\n",
       "      <td>1</td>\n",
       "      <td>106.36</td>\n",
       "      <td>98.46</td>\n",
       "      <td>60</td>\n",
       "    </tr>\n",
       "    <tr>\n",
       "      <th>973190</th>\n",
       "      <td>H81615</td>\n",
       "      <td>239410100</td>\n",
       "      <td>Coloplast_SenSura Mio Flex Clsd Bag Midi</td>\n",
       "      <td>1</td>\n",
       "      <td>159.54</td>\n",
       "      <td>147.69</td>\n",
       "      <td>90</td>\n",
       "    </tr>\n",
       "    <tr>\n",
       "      <th>973191</th>\n",
       "      <td>H81615</td>\n",
       "      <td>239607096</td>\n",
       "      <td>Dansac_Nova 1 Convex Urost Pouch Clr C/F</td>\n",
       "      <td>2</td>\n",
       "      <td>329.76</td>\n",
       "      <td>305.28</td>\n",
       "      <td>60</td>\n",
       "    </tr>\n",
       "    <tr>\n",
       "      <th>973192</th>\n",
       "      <td>H81615</td>\n",
       "      <td>239610096</td>\n",
       "      <td>Coloplast_SenSura Mio Urost Bag Maxi Tra</td>\n",
       "      <td>1</td>\n",
       "      <td>182.48</td>\n",
       "      <td>168.93</td>\n",
       "      <td>30</td>\n",
       "    </tr>\n",
       "  </tbody>\n",
       "</table>\n",
       "</div>"
      ],
      "text/plain": [
       "       practice   bnf_code                                  bnf_name  items  \\\n",
       "973188   H81615  239410100  Coloplast_SenSura Mio Flex B/Plt 50mm C/      1   \n",
       "973189   H81615  239410100  Coloplast_SenSura Mio Flex Clsd Bag Mini      1   \n",
       "973190   H81615  239410100  Coloplast_SenSura Mio Flex Clsd Bag Midi      1   \n",
       "973191   H81615  239607096  Dansac_Nova 1 Convex Urost Pouch Clr C/F      2   \n",
       "973192   H81615  239610096  Coloplast_SenSura Mio Urost Bag Maxi Tra      1   \n",
       "\n",
       "           nic  act_cost  quantity  \n",
       "973188   78.92     73.06        20  \n",
       "973189  106.36     98.46        60  \n",
       "973190  159.54    147.69        90  \n",
       "973191  329.76    305.28        60  \n",
       "973192  182.48    168.93        30  "
      ]
     },
     "execution_count": 33,
     "metadata": {},
     "output_type": "execute_result"
    }
   ],
   "source": [
    "scripts.tail(5)"
   ]
  },
  {
   "cell_type": "code",
   "execution_count": 34,
   "metadata": {},
   "outputs": [
    {
     "name": "stdout",
     "output_type": "stream",
     "text": [
      "[('Omeprazole_Cap E/C 20mg', 218583)]\n"
     ]
    }
   ],
   "source": [
    "totals = scripts.groupby('bnf_name') ['items'].sum()\n",
    "max_item = totals.idxmax()\n",
    "most_common_item = [(max_item, totals[max_item])]\n",
    "print(most_common_item)"
   ]
  },
  {
   "cell_type": "code",
   "execution_count": 35,
   "metadata": {},
   "outputs": [
    {
     "data": {
      "text/plain": [
       "bnf_name\n",
       "365 Film 10cm x 12cm VP Adh Film Dress      2\n",
       "365 Non Adherent 10cm x 10cm Pfa Plas Fa    3\n",
       "365 Non Adherent 10cm x 20cm Pfa Plas Fa    1\n",
       "365 Non Woven Island 8cm x 10cm Adh Dres    1\n",
       "365 Transpt Island 5cm x 7.2cm VP Adh Fi    2\n",
       "Name: items, dtype: int64"
      ]
     },
     "execution_count": 35,
     "metadata": {},
     "output_type": "execute_result"
    }
   ],
   "source": [
    "totals.head()"
   ]
  },
  {
   "cell_type": "code",
   "execution_count": 36,
   "metadata": {},
   "outputs": [
    {
     "data": {
      "text/plain": [
       "'Omeprazole_Cap E/C 20mg'"
      ]
     },
     "execution_count": 36,
     "metadata": {},
     "output_type": "execute_result"
    }
   ],
   "source": [
    "max_item"
   ]
  },
  {
   "cell_type": "code",
   "execution_count": 37,
   "metadata": {},
   "outputs": [
    {
     "data": {
      "text/plain": [
       "218583"
      ]
     },
     "execution_count": 37,
     "metadata": {},
     "output_type": "execute_result"
    }
   ],
   "source": [
    "totals[max_item]"
   ]
  },
  {
   "cell_type": "code",
   "execution_count": 38,
   "metadata": {},
   "outputs": [
    {
     "data": {
      "text/plain": [
       "'palmdoc (Reagent)_Strips'"
      ]
     },
     "execution_count": 38,
     "metadata": {},
     "output_type": "execute_result"
    }
   ],
   "source": [
    "max_num = max(scripts['bnf_name'])\n",
    "max_num"
   ]
  },
  {
   "cell_type": "code",
   "execution_count": 39,
   "metadata": {},
   "outputs": [],
   "source": [
    "# most_common_item = [(\"\", 0)]"
   ]
  },
  {
   "cell_type": "code",
   "execution_count": 40,
   "metadata": {},
   "outputs": [
    {
     "name": "stdout",
     "output_type": "stream",
     "text": [
      "==================\n",
      "Your score:  1.0\n",
      "==================\n"
     ]
    }
   ],
   "source": [
    "grader.score.dw__most_common_item(most_common_item)"
   ]
  },
  {
   "cell_type": "markdown",
   "metadata": {},
   "source": [
    "## Question 3: items_by_region\n",
    "\n",
    "Now let's find the most common item by post code. The post code information is in the `practices` DataFrame, and we'll need to `merge` it into the `scripts` DataFrame. Pandas provides [extensive documentation](https://pandas.pydata.org/pandas-docs/stable/merging.html) with diagrammed examples on different methods and approaches for joining data. The `merge` method is only one of many possible options.\n",
    "\n",
    "Return your results as a list of tuples `(post code, item name, amount dispensed as % of total)`. Sort your results ascending alphabetically by post code and take only results from the first 100 post codes.\n",
    "\n",
    "**NOTE:** Some practices have multiple postal codes associated with them. Use the alphabetically first postal code. Note some postal codes may have multiple `'bnf_name'` with the same prescription rate for the maximum. In this case, take the alphabetically first `'bnf_name'` (as in the PW miniproject)."
   ]
  },
  {
   "cell_type": "code",
   "execution_count": 41,
   "metadata": {},
   "outputs": [
    {
     "data": {
      "text/html": [
       "<div>\n",
       "<style scoped>\n",
       "    .dataframe tbody tr th:only-of-type {\n",
       "        vertical-align: middle;\n",
       "    }\n",
       "\n",
       "    .dataframe tbody tr th {\n",
       "        vertical-align: top;\n",
       "    }\n",
       "\n",
       "    .dataframe thead th {\n",
       "        text-align: right;\n",
       "    }\n",
       "</style>\n",
       "<table border=\"1\" class=\"dataframe\">\n",
       "  <thead>\n",
       "    <tr style=\"text-align: right;\">\n",
       "      <th></th>\n",
       "      <th>code</th>\n",
       "      <th>name</th>\n",
       "      <th>addr_1</th>\n",
       "      <th>addr_2</th>\n",
       "      <th>borough</th>\n",
       "      <th>village</th>\n",
       "      <th>post_code</th>\n",
       "    </tr>\n",
       "  </thead>\n",
       "  <tbody>\n",
       "    <tr>\n",
       "      <th>0</th>\n",
       "      <td>A81001</td>\n",
       "      <td>THE DENSHAM SURGERY</td>\n",
       "      <td>THE HEALTH CENTRE</td>\n",
       "      <td>LAWSON STREET</td>\n",
       "      <td>STOCKTON ON TEES</td>\n",
       "      <td>CLEVELAND</td>\n",
       "      <td>TS18 1HU</td>\n",
       "    </tr>\n",
       "    <tr>\n",
       "      <th>1</th>\n",
       "      <td>A81002</td>\n",
       "      <td>QUEENS PARK MEDICAL CENTRE</td>\n",
       "      <td>QUEENS PARK MEDICAL CTR</td>\n",
       "      <td>FARRER STREET</td>\n",
       "      <td>STOCKTON ON TEES</td>\n",
       "      <td>CLEVELAND</td>\n",
       "      <td>TS18 2AW</td>\n",
       "    </tr>\n",
       "    <tr>\n",
       "      <th>2</th>\n",
       "      <td>A81003</td>\n",
       "      <td>VICTORIA MEDICAL PRACTICE</td>\n",
       "      <td>THE HEALTH CENTRE</td>\n",
       "      <td>VICTORIA ROAD</td>\n",
       "      <td>HARTLEPOOL</td>\n",
       "      <td>CLEVELAND</td>\n",
       "      <td>TS26 8DB</td>\n",
       "    </tr>\n",
       "    <tr>\n",
       "      <th>3</th>\n",
       "      <td>A81004</td>\n",
       "      <td>WOODLANDS ROAD SURGERY</td>\n",
       "      <td>6 WOODLANDS ROAD</td>\n",
       "      <td>NaN</td>\n",
       "      <td>MIDDLESBROUGH</td>\n",
       "      <td>CLEVELAND</td>\n",
       "      <td>TS1 3BE</td>\n",
       "    </tr>\n",
       "    <tr>\n",
       "      <th>4</th>\n",
       "      <td>A81005</td>\n",
       "      <td>SPRINGWOOD SURGERY</td>\n",
       "      <td>SPRINGWOOD SURGERY</td>\n",
       "      <td>RECTORY LANE</td>\n",
       "      <td>GUISBOROUGH</td>\n",
       "      <td>NaN</td>\n",
       "      <td>TS14 7DJ</td>\n",
       "    </tr>\n",
       "  </tbody>\n",
       "</table>\n",
       "</div>"
      ],
      "text/plain": [
       "     code                        name                   addr_1         addr_2  \\\n",
       "0  A81001         THE DENSHAM SURGERY        THE HEALTH CENTRE  LAWSON STREET   \n",
       "1  A81002  QUEENS PARK MEDICAL CENTRE  QUEENS PARK MEDICAL CTR  FARRER STREET   \n",
       "2  A81003   VICTORIA MEDICAL PRACTICE        THE HEALTH CENTRE  VICTORIA ROAD   \n",
       "3  A81004      WOODLANDS ROAD SURGERY         6 WOODLANDS ROAD            NaN   \n",
       "4  A81005          SPRINGWOOD SURGERY       SPRINGWOOD SURGERY   RECTORY LANE   \n",
       "\n",
       "            borough    village post_code  \n",
       "0  STOCKTON ON TEES  CLEVELAND  TS18 1HU  \n",
       "1  STOCKTON ON TEES  CLEVELAND  TS18 2AW  \n",
       "2        HARTLEPOOL  CLEVELAND  TS26 8DB  \n",
       "3     MIDDLESBROUGH  CLEVELAND   TS1 3BE  \n",
       "4       GUISBOROUGH        NaN  TS14 7DJ  "
      ]
     },
     "execution_count": 41,
     "metadata": {},
     "output_type": "execute_result"
    }
   ],
   "source": [
    "practices.head(5)"
   ]
  },
  {
   "cell_type": "code",
   "execution_count": 42,
   "metadata": {},
   "outputs": [
    {
     "data": {
      "text/html": [
       "<div>\n",
       "<style scoped>\n",
       "    .dataframe tbody tr th:only-of-type {\n",
       "        vertical-align: middle;\n",
       "    }\n",
       "\n",
       "    .dataframe tbody tr th {\n",
       "        vertical-align: top;\n",
       "    }\n",
       "\n",
       "    .dataframe thead th {\n",
       "        text-align: right;\n",
       "    }\n",
       "</style>\n",
       "<table border=\"1\" class=\"dataframe\">\n",
       "  <thead>\n",
       "    <tr style=\"text-align: right;\">\n",
       "      <th></th>\n",
       "      <th>practice</th>\n",
       "      <th>bnf_code</th>\n",
       "      <th>bnf_name</th>\n",
       "      <th>items</th>\n",
       "      <th>nic</th>\n",
       "      <th>act_cost</th>\n",
       "      <th>quantity</th>\n",
       "    </tr>\n",
       "  </thead>\n",
       "  <tbody>\n",
       "    <tr>\n",
       "      <th>0</th>\n",
       "      <td>N85639</td>\n",
       "      <td>0106020C0</td>\n",
       "      <td>Bisacodyl_Tab E/C 5mg</td>\n",
       "      <td>1</td>\n",
       "      <td>0.39</td>\n",
       "      <td>0.47</td>\n",
       "      <td>12</td>\n",
       "    </tr>\n",
       "    <tr>\n",
       "      <th>1</th>\n",
       "      <td>N85639</td>\n",
       "      <td>0106040M0</td>\n",
       "      <td>Movicol Plain_Paed Pdr Sach 6.9g</td>\n",
       "      <td>1</td>\n",
       "      <td>4.38</td>\n",
       "      <td>4.07</td>\n",
       "      <td>30</td>\n",
       "    </tr>\n",
       "    <tr>\n",
       "      <th>2</th>\n",
       "      <td>N85639</td>\n",
       "      <td>0301011R0</td>\n",
       "      <td>Salbutamol_Inha 100mcg (200 D) CFF</td>\n",
       "      <td>1</td>\n",
       "      <td>1.50</td>\n",
       "      <td>1.40</td>\n",
       "      <td>1</td>\n",
       "    </tr>\n",
       "    <tr>\n",
       "      <th>3</th>\n",
       "      <td>N85639</td>\n",
       "      <td>0304010G0</td>\n",
       "      <td>Chlorphenamine Mal_Oral Soln 2mg/5ml</td>\n",
       "      <td>1</td>\n",
       "      <td>2.62</td>\n",
       "      <td>2.44</td>\n",
       "      <td>150</td>\n",
       "    </tr>\n",
       "    <tr>\n",
       "      <th>4</th>\n",
       "      <td>N85639</td>\n",
       "      <td>0401020K0</td>\n",
       "      <td>Diazepam_Tab 2mg</td>\n",
       "      <td>1</td>\n",
       "      <td>0.16</td>\n",
       "      <td>0.26</td>\n",
       "      <td>6</td>\n",
       "    </tr>\n",
       "  </tbody>\n",
       "</table>\n",
       "</div>"
      ],
      "text/plain": [
       "  practice   bnf_code                              bnf_name  items   nic  \\\n",
       "0   N85639  0106020C0                 Bisacodyl_Tab E/C 5mg      1  0.39   \n",
       "1   N85639  0106040M0      Movicol Plain_Paed Pdr Sach 6.9g      1  4.38   \n",
       "2   N85639  0301011R0    Salbutamol_Inha 100mcg (200 D) CFF      1  1.50   \n",
       "3   N85639  0304010G0  Chlorphenamine Mal_Oral Soln 2mg/5ml      1  2.62   \n",
       "4   N85639  0401020K0                      Diazepam_Tab 2mg      1  0.16   \n",
       "\n",
       "   act_cost  quantity  \n",
       "0      0.47        12  \n",
       "1      4.07        30  \n",
       "2      1.40         1  \n",
       "3      2.44       150  \n",
       "4      0.26         6  "
      ]
     },
     "execution_count": 42,
     "metadata": {},
     "output_type": "execute_result"
    }
   ],
   "source": [
    "scripts.head(5)"
   ]
  },
  {
   "cell_type": "code",
   "execution_count": 43,
   "metadata": {},
   "outputs": [],
   "source": [
    "# Create a list of unique practices\n",
    "unique_practices = (practices.sort_values('post_code')\n",
    "                              .groupby('code')\n",
    "                              .first()\n",
    "                              .reset_index()) # reset_index to help make the practices dataframe more compatible with dataframe"
   ]
  },
  {
   "cell_type": "code",
   "execution_count": 44,
   "metadata": {},
   "outputs": [
    {
     "data": {
      "text/html": [
       "<div>\n",
       "<style scoped>\n",
       "    .dataframe tbody tr th:only-of-type {\n",
       "        vertical-align: middle;\n",
       "    }\n",
       "\n",
       "    .dataframe tbody tr th {\n",
       "        vertical-align: top;\n",
       "    }\n",
       "\n",
       "    .dataframe thead th {\n",
       "        text-align: right;\n",
       "    }\n",
       "</style>\n",
       "<table border=\"1\" class=\"dataframe\">\n",
       "  <thead>\n",
       "    <tr style=\"text-align: right;\">\n",
       "      <th></th>\n",
       "      <th>code</th>\n",
       "      <th>name</th>\n",
       "      <th>addr_1</th>\n",
       "      <th>addr_2</th>\n",
       "      <th>borough</th>\n",
       "      <th>village</th>\n",
       "      <th>post_code</th>\n",
       "    </tr>\n",
       "  </thead>\n",
       "  <tbody>\n",
       "    <tr>\n",
       "      <th>0</th>\n",
       "      <td>A81001</td>\n",
       "      <td>THE DENSHAM SURGERY</td>\n",
       "      <td>THE HEALTH CENTRE</td>\n",
       "      <td>LAWSON STREET</td>\n",
       "      <td>STOCKTON ON TEES</td>\n",
       "      <td>CLEVELAND</td>\n",
       "      <td>TS18 1HU</td>\n",
       "    </tr>\n",
       "    <tr>\n",
       "      <th>1</th>\n",
       "      <td>A81002</td>\n",
       "      <td>QUEENS PARK MEDICAL CENTRE</td>\n",
       "      <td>QUEENS PARK MEDICAL CTR</td>\n",
       "      <td>FARRER STREET</td>\n",
       "      <td>STOCKTON ON TEES</td>\n",
       "      <td>CLEVELAND</td>\n",
       "      <td>TS18 2AW</td>\n",
       "    </tr>\n",
       "    <tr>\n",
       "      <th>2</th>\n",
       "      <td>A81003</td>\n",
       "      <td>VICTORIA MEDICAL PRACTICE</td>\n",
       "      <td>MCKENZIE HOUSE</td>\n",
       "      <td>17 KENDAL ROAD</td>\n",
       "      <td>HARTLEPOOL</td>\n",
       "      <td>CLEVELAND</td>\n",
       "      <td>TS25 1QU</td>\n",
       "    </tr>\n",
       "  </tbody>\n",
       "</table>\n",
       "</div>"
      ],
      "text/plain": [
       "     code                        name                   addr_1  \\\n",
       "0  A81001         THE DENSHAM SURGERY        THE HEALTH CENTRE   \n",
       "1  A81002  QUEENS PARK MEDICAL CENTRE  QUEENS PARK MEDICAL CTR   \n",
       "2  A81003   VICTORIA MEDICAL PRACTICE           MCKENZIE HOUSE   \n",
       "\n",
       "           addr_2           borough    village post_code  \n",
       "0   LAWSON STREET  STOCKTON ON TEES  CLEVELAND  TS18 1HU  \n",
       "1   FARRER STREET  STOCKTON ON TEES  CLEVELAND  TS18 2AW  \n",
       "2  17 KENDAL ROAD        HARTLEPOOL  CLEVELAND  TS25 1QU  "
      ]
     },
     "execution_count": 44,
     "metadata": {},
     "output_type": "execute_result"
    }
   ],
   "source": [
    "unique_practices.head(3)"
   ]
  },
  {
   "cell_type": "code",
   "execution_count": 45,
   "metadata": {},
   "outputs": [],
   "source": [
    "joined = scripts.merge(unique_practices[['code', 'post_code']],\n",
    "                      left_on = 'practice', right_on = 'code',\n",
    "                      how='left')"
   ]
  },
  {
   "cell_type": "code",
   "execution_count": 46,
   "metadata": {},
   "outputs": [
    {
     "data": {
      "text/html": [
       "<div>\n",
       "<style scoped>\n",
       "    .dataframe tbody tr th:only-of-type {\n",
       "        vertical-align: middle;\n",
       "    }\n",
       "\n",
       "    .dataframe tbody tr th {\n",
       "        vertical-align: top;\n",
       "    }\n",
       "\n",
       "    .dataframe thead th {\n",
       "        text-align: right;\n",
       "    }\n",
       "</style>\n",
       "<table border=\"1\" class=\"dataframe\">\n",
       "  <thead>\n",
       "    <tr style=\"text-align: right;\">\n",
       "      <th></th>\n",
       "      <th>practice</th>\n",
       "      <th>bnf_code</th>\n",
       "      <th>bnf_name</th>\n",
       "      <th>items</th>\n",
       "      <th>nic</th>\n",
       "      <th>act_cost</th>\n",
       "      <th>quantity</th>\n",
       "      <th>code</th>\n",
       "      <th>post_code</th>\n",
       "    </tr>\n",
       "  </thead>\n",
       "  <tbody>\n",
       "    <tr>\n",
       "      <th>0</th>\n",
       "      <td>N85639</td>\n",
       "      <td>0106020C0</td>\n",
       "      <td>Bisacodyl_Tab E/C 5mg</td>\n",
       "      <td>1</td>\n",
       "      <td>0.39</td>\n",
       "      <td>0.47</td>\n",
       "      <td>12</td>\n",
       "      <td>N85639</td>\n",
       "      <td>CH44 5UF</td>\n",
       "    </tr>\n",
       "    <tr>\n",
       "      <th>1</th>\n",
       "      <td>N85639</td>\n",
       "      <td>0106040M0</td>\n",
       "      <td>Movicol Plain_Paed Pdr Sach 6.9g</td>\n",
       "      <td>1</td>\n",
       "      <td>4.38</td>\n",
       "      <td>4.07</td>\n",
       "      <td>30</td>\n",
       "      <td>N85639</td>\n",
       "      <td>CH44 5UF</td>\n",
       "    </tr>\n",
       "    <tr>\n",
       "      <th>2</th>\n",
       "      <td>N85639</td>\n",
       "      <td>0301011R0</td>\n",
       "      <td>Salbutamol_Inha 100mcg (200 D) CFF</td>\n",
       "      <td>1</td>\n",
       "      <td>1.50</td>\n",
       "      <td>1.40</td>\n",
       "      <td>1</td>\n",
       "      <td>N85639</td>\n",
       "      <td>CH44 5UF</td>\n",
       "    </tr>\n",
       "    <tr>\n",
       "      <th>3</th>\n",
       "      <td>N85639</td>\n",
       "      <td>0304010G0</td>\n",
       "      <td>Chlorphenamine Mal_Oral Soln 2mg/5ml</td>\n",
       "      <td>1</td>\n",
       "      <td>2.62</td>\n",
       "      <td>2.44</td>\n",
       "      <td>150</td>\n",
       "      <td>N85639</td>\n",
       "      <td>CH44 5UF</td>\n",
       "    </tr>\n",
       "    <tr>\n",
       "      <th>4</th>\n",
       "      <td>N85639</td>\n",
       "      <td>0401020K0</td>\n",
       "      <td>Diazepam_Tab 2mg</td>\n",
       "      <td>1</td>\n",
       "      <td>0.16</td>\n",
       "      <td>0.26</td>\n",
       "      <td>6</td>\n",
       "      <td>N85639</td>\n",
       "      <td>CH44 5UF</td>\n",
       "    </tr>\n",
       "  </tbody>\n",
       "</table>\n",
       "</div>"
      ],
      "text/plain": [
       "  practice   bnf_code                              bnf_name  items   nic  \\\n",
       "0   N85639  0106020C0                 Bisacodyl_Tab E/C 5mg      1  0.39   \n",
       "1   N85639  0106040M0      Movicol Plain_Paed Pdr Sach 6.9g      1  4.38   \n",
       "2   N85639  0301011R0    Salbutamol_Inha 100mcg (200 D) CFF      1  1.50   \n",
       "3   N85639  0304010G0  Chlorphenamine Mal_Oral Soln 2mg/5ml      1  2.62   \n",
       "4   N85639  0401020K0                      Diazepam_Tab 2mg      1  0.16   \n",
       "\n",
       "   act_cost  quantity    code post_code  \n",
       "0      0.47        12  N85639  CH44 5UF  \n",
       "1      4.07        30  N85639  CH44 5UF  \n",
       "2      1.40         1  N85639  CH44 5UF  \n",
       "3      2.44       150  N85639  CH44 5UF  \n",
       "4      0.26         6  N85639  CH44 5UF  "
      ]
     },
     "execution_count": 46,
     "metadata": {},
     "output_type": "execute_result"
    }
   ],
   "source": [
    "joined.head()"
   ]
  },
  {
   "cell_type": "code",
   "execution_count": 47,
   "metadata": {},
   "outputs": [
    {
     "data": {
      "text/plain": [
       "(973193, 9)"
      ]
     },
     "execution_count": 47,
     "metadata": {},
     "output_type": "execute_result"
    }
   ],
   "source": [
    "joined.shape"
   ]
  },
  {
   "cell_type": "code",
   "execution_count": 48,
   "metadata": {},
   "outputs": [],
   "source": [
    "# Create a list of unique practices\n",
    "unique_practices = (practices.sort_values('post_code')\n",
    "                              .groupby('code')\n",
    "                              .first()\n",
    "                              .reset_index()) # reset_index to help make the practices dataframe more compatible with dataframe\n",
    "\n",
    "# Merge 'scripts' and 'unique_practices' DataFrames using LEFT join(merge)\n",
    "joined = scripts.merge(unique_practices[['code', 'post_code']],\n",
    "                      left_on = 'practice', right_on = 'code',\n",
    "                      how='left')"
   ]
  },
  {
   "cell_type": "code",
   "execution_count": 49,
   "metadata": {},
   "outputs": [
    {
     "data": {
      "text/plain": [
       "post_code  bnf_name                                \n",
       "B11 4BW    3m Health Care_Cavilon Durable Barrier C    7\n",
       "           3m Health Care_Cavilon No Sting Barrier     2\n",
       "           Abasaglar KwikPen_100u/ml 3ml Pf Pen        2\n",
       "Name: items, dtype: int64"
      ]
     },
     "execution_count": 49,
     "metadata": {},
     "output_type": "execute_result"
    }
   ],
   "source": [
    "# Group 'joined' by 'post_code'\n",
    "post_items_total = joined.groupby(['post_code', 'bnf_name'])['items'].sum()\n",
    "post_items_total.head(3)"
   ]
  },
  {
   "cell_type": "code",
   "execution_count": 50,
   "metadata": {},
   "outputs": [
    {
     "data": {
      "text/html": [
       "<div>\n",
       "<style scoped>\n",
       "    .dataframe tbody tr th:only-of-type {\n",
       "        vertical-align: middle;\n",
       "    }\n",
       "\n",
       "    .dataframe tbody tr th {\n",
       "        vertical-align: top;\n",
       "    }\n",
       "\n",
       "    .dataframe thead th {\n",
       "        text-align: right;\n",
       "    }\n",
       "</style>\n",
       "<table border=\"1\" class=\"dataframe\">\n",
       "  <thead>\n",
       "    <tr style=\"text-align: right;\">\n",
       "      <th></th>\n",
       "      <th>post_code</th>\n",
       "      <th>bnf_name</th>\n",
       "      <th>items</th>\n",
       "    </tr>\n",
       "  </thead>\n",
       "  <tbody>\n",
       "    <tr>\n",
       "      <th>0</th>\n",
       "      <td>B11 4BW</td>\n",
       "      <td>3m Health Care_Cavilon Durable Barrier C</td>\n",
       "      <td>7</td>\n",
       "    </tr>\n",
       "    <tr>\n",
       "      <th>1</th>\n",
       "      <td>B11 4BW</td>\n",
       "      <td>3m Health Care_Cavilon No Sting Barrier</td>\n",
       "      <td>2</td>\n",
       "    </tr>\n",
       "    <tr>\n",
       "      <th>2</th>\n",
       "      <td>B11 4BW</td>\n",
       "      <td>Abasaglar KwikPen_100u/ml 3ml Pf Pen</td>\n",
       "      <td>2</td>\n",
       "    </tr>\n",
       "  </tbody>\n",
       "</table>\n",
       "</div>"
      ],
      "text/plain": [
       "  post_code                                  bnf_name  items\n",
       "0   B11 4BW  3m Health Care_Cavilon Durable Barrier C      7\n",
       "1   B11 4BW   3m Health Care_Cavilon No Sting Barrier      2\n",
       "2   B11 4BW      Abasaglar KwikPen_100u/ml 3ml Pf Pen      2"
      ]
     },
     "execution_count": 50,
     "metadata": {},
     "output_type": "execute_result"
    }
   ],
   "source": [
    "# Change to a DataFrame\n",
    "post_items_total = joined.groupby(['post_code', 'bnf_name'])['items'].sum().reset_index()\n",
    "post_items_total.head(3)"
   ]
  },
  {
   "cell_type": "code",
   "execution_count": 51,
   "metadata": {},
   "outputs": [],
   "source": [
    "# Create a list of unique practices\n",
    "unique_practices = (practices.sort_values('post_code')\n",
    "                              .groupby('code')\n",
    "                              .first()\n",
    "                              .reset_index()) # reset_index to help make the practices dataframe more compatible with dataframe\n",
    "\n",
    "# Merge 'scripts' and 'unique_practices' DataFrames using LEFT join(merge)\n",
    "joined = scripts.merge(unique_practices[['code', 'post_code']],\n",
    "                      left_on = 'practice', right_on = 'code',\n",
    "                      how='left')\n",
    "\n",
    "# Group 'joined' by 'post_code' and bnf_name\n",
    "post_items_total = joined.groupby(['post_code', 'bnf_name'])['items'] \\\n",
    "                                    .sum().reset_index()\n"
   ]
  },
  {
   "cell_type": "code",
   "execution_count": 52,
   "metadata": {},
   "outputs": [],
   "source": [
    "max_idx = (post_items_total.groupby('post_code')['items']\n",
    "                          .idxmax().head())"
   ]
  },
  {
   "cell_type": "code",
   "execution_count": 53,
   "metadata": {},
   "outputs": [
    {
     "data": {
      "text/plain": [
       "post_code\n",
       "B11 4BW    1628\n",
       "B12 9LP    3323\n",
       "B18 7AL    5293\n",
       "B21 9RY    6924\n",
       "B23 6DJ    9096\n",
       "Name: items, dtype: int64"
      ]
     },
     "execution_count": 53,
     "metadata": {},
     "output_type": "execute_result"
    }
   ],
   "source": [
    "max_idx"
   ]
  },
  {
   "cell_type": "code",
   "execution_count": 54,
   "metadata": {},
   "outputs": [],
   "source": [
    "max_items = post_items_total.loc[max_idx]"
   ]
  },
  {
   "cell_type": "code",
   "execution_count": 55,
   "metadata": {},
   "outputs": [
    {
     "data": {
      "text/html": [
       "<div>\n",
       "<style scoped>\n",
       "    .dataframe tbody tr th:only-of-type {\n",
       "        vertical-align: middle;\n",
       "    }\n",
       "\n",
       "    .dataframe tbody tr th {\n",
       "        vertical-align: top;\n",
       "    }\n",
       "\n",
       "    .dataframe thead th {\n",
       "        text-align: right;\n",
       "    }\n",
       "</style>\n",
       "<table border=\"1\" class=\"dataframe\">\n",
       "  <thead>\n",
       "    <tr style=\"text-align: right;\">\n",
       "      <th></th>\n",
       "      <th>post_code</th>\n",
       "      <th>bnf_name</th>\n",
       "      <th>items</th>\n",
       "    </tr>\n",
       "  </thead>\n",
       "  <tbody>\n",
       "    <tr>\n",
       "      <th>1628</th>\n",
       "      <td>B11 4BW</td>\n",
       "      <td>Salbutamol_Inha 100mcg (200 D) CFF</td>\n",
       "      <td>706</td>\n",
       "    </tr>\n",
       "    <tr>\n",
       "      <th>3323</th>\n",
       "      <td>B12 9LP</td>\n",
       "      <td>Paracet_Tab 500mg</td>\n",
       "      <td>425</td>\n",
       "    </tr>\n",
       "    <tr>\n",
       "      <th>5293</th>\n",
       "      <td>B18 7AL</td>\n",
       "      <td>Salbutamol_Inha 100mcg (200 D) CFF</td>\n",
       "      <td>556</td>\n",
       "    </tr>\n",
       "    <tr>\n",
       "      <th>6924</th>\n",
       "      <td>B21 9RY</td>\n",
       "      <td>Metformin HCl_Tab 500mg</td>\n",
       "      <td>1033</td>\n",
       "    </tr>\n",
       "    <tr>\n",
       "      <th>9096</th>\n",
       "      <td>B23 6DJ</td>\n",
       "      <td>Lansoprazole_Cap 30mg (E/C Gran)</td>\n",
       "      <td>599</td>\n",
       "    </tr>\n",
       "  </tbody>\n",
       "</table>\n",
       "</div>"
      ],
      "text/plain": [
       "     post_code                            bnf_name  items\n",
       "1628   B11 4BW  Salbutamol_Inha 100mcg (200 D) CFF    706\n",
       "3323   B12 9LP                   Paracet_Tab 500mg    425\n",
       "5293   B18 7AL  Salbutamol_Inha 100mcg (200 D) CFF    556\n",
       "6924   B21 9RY             Metformin HCl_Tab 500mg   1033\n",
       "9096   B23 6DJ    Lansoprazole_Cap 30mg (E/C Gran)    599"
      ]
     },
     "execution_count": 55,
     "metadata": {},
     "output_type": "execute_result"
    }
   ],
   "source": [
    "max_items.head()"
   ]
  },
  {
   "cell_type": "code",
   "execution_count": 56,
   "metadata": {},
   "outputs": [],
   "source": [
    "# Create a list of unique practices\n",
    "unique_practices = (practices.sort_values('post_code')\n",
    "                              .groupby('code')\n",
    "                              .first()\n",
    "                              .reset_index()) # reset_index to help make the practices dataframe more compatible with dataframe\n",
    "\n",
    "# Merge 'scripts' and 'unique_practices' DataFrames using LEFT join(merge)\n",
    "joined = scripts.merge(unique_practices[['code', 'post_code']],\n",
    "                      left_on = 'practice', right_on = 'code',\n",
    "                      how='left')\n",
    "\n",
    "# Group 'joined' by 'post_code' and bnf_name\n",
    "post_items_total = joined.groupby(['post_code', 'bnf_name'])['items'] \\\n",
    "                                    .sum().reset_index()\n",
    "    \n",
    "# Group 'post_items_total' by 'post_code' get 'idxmax'\n",
    "max_idx = (post_items_total.groupby('post_code')['items']\n",
    "                          .idxmax())\n",
    "\n",
    "# Use list of idx to filter 'post_items_total'\n",
    "max_items = post_items_total.loc[max_idx].set_index('post_code')"
   ]
  },
  {
   "cell_type": "code",
   "execution_count": 57,
   "metadata": {},
   "outputs": [],
   "source": [
    "post_items = joined.groupby('post_code')['items'].sum()"
   ]
  },
  {
   "cell_type": "code",
   "execution_count": 58,
   "metadata": {},
   "outputs": [
    {
     "data": {
      "text/plain": [
       "post_code\n",
       "B11 4BW    22731\n",
       "B12 9LP    17073\n",
       "B18 7AL    20508\n",
       "B21 9RY    31027\n",
       "B23 6DJ    28011\n",
       "Name: items, dtype: int64"
      ]
     },
     "execution_count": 58,
     "metadata": {},
     "output_type": "execute_result"
    }
   ],
   "source": [
    "post_items.head()"
   ]
  },
  {
   "cell_type": "code",
   "execution_count": 59,
   "metadata": {
    "scrolled": true
   },
   "outputs": [
    {
     "data": {
      "text/html": [
       "<div>\n",
       "<style scoped>\n",
       "    .dataframe tbody tr th:only-of-type {\n",
       "        vertical-align: middle;\n",
       "    }\n",
       "\n",
       "    .dataframe tbody tr th {\n",
       "        vertical-align: top;\n",
       "    }\n",
       "\n",
       "    .dataframe thead th {\n",
       "        text-align: right;\n",
       "    }\n",
       "</style>\n",
       "<table border=\"1\" class=\"dataframe\">\n",
       "  <thead>\n",
       "    <tr style=\"text-align: right;\">\n",
       "      <th></th>\n",
       "      <th>bnf_name</th>\n",
       "      <th>items</th>\n",
       "      <th>items</th>\n",
       "    </tr>\n",
       "    <tr>\n",
       "      <th>post_code</th>\n",
       "      <th></th>\n",
       "      <th></th>\n",
       "      <th></th>\n",
       "    </tr>\n",
       "  </thead>\n",
       "  <tbody>\n",
       "    <tr>\n",
       "      <th>B11 4BW</th>\n",
       "      <td>Salbutamol_Inha 100mcg (200 D) CFF</td>\n",
       "      <td>706</td>\n",
       "      <td>22731</td>\n",
       "    </tr>\n",
       "    <tr>\n",
       "      <th>B12 9LP</th>\n",
       "      <td>Paracet_Tab 500mg</td>\n",
       "      <td>425</td>\n",
       "      <td>17073</td>\n",
       "    </tr>\n",
       "    <tr>\n",
       "      <th>B18 7AL</th>\n",
       "      <td>Salbutamol_Inha 100mcg (200 D) CFF</td>\n",
       "      <td>556</td>\n",
       "      <td>20508</td>\n",
       "    </tr>\n",
       "    <tr>\n",
       "      <th>B21 9RY</th>\n",
       "      <td>Metformin HCl_Tab 500mg</td>\n",
       "      <td>1033</td>\n",
       "      <td>31027</td>\n",
       "    </tr>\n",
       "    <tr>\n",
       "      <th>B23 6DJ</th>\n",
       "      <td>Lansoprazole_Cap 30mg (E/C Gran)</td>\n",
       "      <td>599</td>\n",
       "      <td>28011</td>\n",
       "    </tr>\n",
       "  </tbody>\n",
       "</table>\n",
       "</div>"
      ],
      "text/plain": [
       "                                     bnf_name  items  items\n",
       "post_code                                                  \n",
       "B11 4BW    Salbutamol_Inha 100mcg (200 D) CFF    706  22731\n",
       "B12 9LP                     Paracet_Tab 500mg    425  17073\n",
       "B18 7AL    Salbutamol_Inha 100mcg (200 D) CFF    556  20508\n",
       "B21 9RY               Metformin HCl_Tab 500mg   1033  31027\n",
       "B23 6DJ      Lansoprazole_Cap 30mg (E/C Gran)    599  28011"
      ]
     },
     "execution_count": 59,
     "metadata": {},
     "output_type": "execute_result"
    }
   ],
   "source": [
    "max_items = pd.concat([max_items, post_items], axis=1)\n",
    "max_items.head()"
   ]
  },
  {
   "cell_type": "code",
   "execution_count": 60,
   "metadata": {},
   "outputs": [],
   "source": [
    "# Create a list of unique practices\n",
    "unique_practices = (practices.sort_values('post_code')\n",
    "                              .groupby('code')\n",
    "                              .first()\n",
    "                              .reset_index()) # reset_index to help make the practices dataframe more compatible with dataframe\n",
    "\n",
    "# Merge 'scripts' and 'unique_practices' DataFrames using LEFT join(merge)\n",
    "joined = scripts.merge(unique_practices[['code', 'post_code']],\n",
    "                      left_on = 'practice', right_on = 'code',\n",
    "                      how='left')\n",
    "\n",
    "# Group 'joined' by 'post_code' and bnf_name\n",
    "post_items_total = joined.groupby(['post_code', 'bnf_name'])['items'] \\\n",
    "                                    .sum().reset_index()\n",
    "    \n",
    "# Group 'post_items_total' by 'post_code' get 'idxmax'\n",
    "max_idx = (post_items_total.groupby('post_code')['items']\n",
    "                          .idxmax())\n",
    "\n",
    "# Use list of idx to filter 'post_items_total'\n",
    "max_items = post_items_total.loc[max_idx].set_index('post_code')\n",
    "\n",
    "# Get 'items' totals for each 'post_code'\n",
    "post_items = joined.groupby('post_code')['items'].sum().rename('post_item')\n",
    "\n",
    "# Combine 'max_items' and 'post_totals'\n",
    "max_items = pd.concat([max_items, post_items], axis=1)"
   ]
  },
  {
   "cell_type": "code",
   "execution_count": 61,
   "metadata": {},
   "outputs": [
    {
     "data": {
      "text/html": [
       "<div>\n",
       "<style scoped>\n",
       "    .dataframe tbody tr th:only-of-type {\n",
       "        vertical-align: middle;\n",
       "    }\n",
       "\n",
       "    .dataframe tbody tr th {\n",
       "        vertical-align: top;\n",
       "    }\n",
       "\n",
       "    .dataframe thead th {\n",
       "        text-align: right;\n",
       "    }\n",
       "</style>\n",
       "<table border=\"1\" class=\"dataframe\">\n",
       "  <thead>\n",
       "    <tr style=\"text-align: right;\">\n",
       "      <th></th>\n",
       "      <th>bnf_name</th>\n",
       "      <th>items</th>\n",
       "      <th>post_item</th>\n",
       "    </tr>\n",
       "    <tr>\n",
       "      <th>post_code</th>\n",
       "      <th></th>\n",
       "      <th></th>\n",
       "      <th></th>\n",
       "    </tr>\n",
       "  </thead>\n",
       "  <tbody>\n",
       "    <tr>\n",
       "      <th>B11 4BW</th>\n",
       "      <td>Salbutamol_Inha 100mcg (200 D) CFF</td>\n",
       "      <td>706</td>\n",
       "      <td>22731</td>\n",
       "    </tr>\n",
       "    <tr>\n",
       "      <th>B12 9LP</th>\n",
       "      <td>Paracet_Tab 500mg</td>\n",
       "      <td>425</td>\n",
       "      <td>17073</td>\n",
       "    </tr>\n",
       "    <tr>\n",
       "      <th>B18 7AL</th>\n",
       "      <td>Salbutamol_Inha 100mcg (200 D) CFF</td>\n",
       "      <td>556</td>\n",
       "      <td>20508</td>\n",
       "    </tr>\n",
       "    <tr>\n",
       "      <th>B21 9RY</th>\n",
       "      <td>Metformin HCl_Tab 500mg</td>\n",
       "      <td>1033</td>\n",
       "      <td>31027</td>\n",
       "    </tr>\n",
       "    <tr>\n",
       "      <th>B23 6DJ</th>\n",
       "      <td>Lansoprazole_Cap 30mg (E/C Gran)</td>\n",
       "      <td>599</td>\n",
       "      <td>28011</td>\n",
       "    </tr>\n",
       "  </tbody>\n",
       "</table>\n",
       "</div>"
      ],
      "text/plain": [
       "                                     bnf_name  items  post_item\n",
       "post_code                                                      \n",
       "B11 4BW    Salbutamol_Inha 100mcg (200 D) CFF    706      22731\n",
       "B12 9LP                     Paracet_Tab 500mg    425      17073\n",
       "B18 7AL    Salbutamol_Inha 100mcg (200 D) CFF    556      20508\n",
       "B21 9RY               Metformin HCl_Tab 500mg   1033      31027\n",
       "B23 6DJ      Lansoprazole_Cap 30mg (E/C Gran)    599      28011"
      ]
     },
     "execution_count": 61,
     "metadata": {},
     "output_type": "execute_result"
    }
   ],
   "source": [
    "max_items.head()"
   ]
  },
  {
   "cell_type": "code",
   "execution_count": 62,
   "metadata": {},
   "outputs": [
    {
     "data": {
      "text/plain": [
       "post_code\n",
       "B11 4BW    22731\n",
       "B12 9LP    17073\n",
       "B18 7AL    20508\n",
       "Name: post_item, dtype: int64"
      ]
     },
     "execution_count": 62,
     "metadata": {},
     "output_type": "execute_result"
    }
   ],
   "source": [
    "post_items.head(3)"
   ]
  },
  {
   "cell_type": "code",
   "execution_count": 63,
   "metadata": {},
   "outputs": [
    {
     "data": {
      "text/html": [
       "<div>\n",
       "<style scoped>\n",
       "    .dataframe tbody tr th:only-of-type {\n",
       "        vertical-align: middle;\n",
       "    }\n",
       "\n",
       "    .dataframe tbody tr th {\n",
       "        vertical-align: top;\n",
       "    }\n",
       "\n",
       "    .dataframe thead th {\n",
       "        text-align: right;\n",
       "    }\n",
       "</style>\n",
       "<table border=\"1\" class=\"dataframe\">\n",
       "  <thead>\n",
       "    <tr style=\"text-align: right;\">\n",
       "      <th></th>\n",
       "      <th>bnf_name</th>\n",
       "      <th>items</th>\n",
       "      <th>post_item</th>\n",
       "      <th>proportion</th>\n",
       "    </tr>\n",
       "    <tr>\n",
       "      <th>post_code</th>\n",
       "      <th></th>\n",
       "      <th></th>\n",
       "      <th></th>\n",
       "      <th></th>\n",
       "    </tr>\n",
       "  </thead>\n",
       "  <tbody>\n",
       "    <tr>\n",
       "      <th>B11 4BW</th>\n",
       "      <td>Salbutamol_Inha 100mcg (200 D) CFF</td>\n",
       "      <td>706</td>\n",
       "      <td>22731</td>\n",
       "      <td>0.031059</td>\n",
       "    </tr>\n",
       "    <tr>\n",
       "      <th>B12 9LP</th>\n",
       "      <td>Paracet_Tab 500mg</td>\n",
       "      <td>425</td>\n",
       "      <td>17073</td>\n",
       "      <td>0.024893</td>\n",
       "    </tr>\n",
       "    <tr>\n",
       "      <th>B18 7AL</th>\n",
       "      <td>Salbutamol_Inha 100mcg (200 D) CFF</td>\n",
       "      <td>556</td>\n",
       "      <td>20508</td>\n",
       "      <td>0.027111</td>\n",
       "    </tr>\n",
       "    <tr>\n",
       "      <th>B21 9RY</th>\n",
       "      <td>Metformin HCl_Tab 500mg</td>\n",
       "      <td>1033</td>\n",
       "      <td>31027</td>\n",
       "      <td>0.033294</td>\n",
       "    </tr>\n",
       "    <tr>\n",
       "      <th>B23 6DJ</th>\n",
       "      <td>Lansoprazole_Cap 30mg (E/C Gran)</td>\n",
       "      <td>599</td>\n",
       "      <td>28011</td>\n",
       "      <td>0.021384</td>\n",
       "    </tr>\n",
       "  </tbody>\n",
       "</table>\n",
       "</div>"
      ],
      "text/plain": [
       "                                     bnf_name  items  post_item  proportion\n",
       "post_code                                                                  \n",
       "B11 4BW    Salbutamol_Inha 100mcg (200 D) CFF    706      22731    0.031059\n",
       "B12 9LP                     Paracet_Tab 500mg    425      17073    0.024893\n",
       "B18 7AL    Salbutamol_Inha 100mcg (200 D) CFF    556      20508    0.027111\n",
       "B21 9RY               Metformin HCl_Tab 500mg   1033      31027    0.033294\n",
       "B23 6DJ      Lansoprazole_Cap 30mg (E/C Gran)    599      28011    0.021384"
      ]
     },
     "execution_count": 63,
     "metadata": {},
     "output_type": "execute_result"
    }
   ],
   "source": [
    "max_items['proportion'] = max_items['items'] / max_items['post_item']\n",
    "max_items.head()"
   ]
  },
  {
   "cell_type": "code",
   "execution_count": 64,
   "metadata": {},
   "outputs": [],
   "source": [
    "# Create a list of unique practices\n",
    "unique_practices = (practices.sort_values('post_code')\n",
    "                              .groupby('code')\n",
    "                              .first()\n",
    "                              .reset_index()) # reset_index to help make the practices dataframe more compatible with dataframe\n",
    "\n",
    "# Merge 'scripts' and 'unique_practices' DataFrames using LEFT join(merge)\n",
    "joined = scripts.merge(unique_practices[['code', 'post_code']],\n",
    "                      left_on = 'practice', right_on = 'code',\n",
    "                      how='left')\n",
    "\n",
    "# Group 'joined' by 'post_code' and bnf_name\n",
    "post_items_total = joined.groupby(['post_code', 'bnf_name'])['items'] \\\n",
    "                                    .sum().reset_index()\n",
    "    \n",
    "# Group 'post_items_total' by 'post_code' get 'idxmax'\n",
    "max_idx = (post_items_total.groupby('post_code')['items']\n",
    "                          .idxmax())\n",
    "\n",
    "# Use list of idx to filter 'post_items_total'\n",
    "max_items = post_items_total.loc[max_idx].set_index('post_code')\n",
    "\n",
    "# Get 'items' totals for each 'post_code'\n",
    "post_items = joined.groupby('post_code')['items'].sum().rename('post_item')\n",
    "\n",
    "# Combine 'max_items' and 'post_totals'\n",
    "max_items = pd.concat([max_items, post_items], axis=1)\n",
    "\n",
    "# Create 'proportion' column \n",
    "max_items['proportion'] = max_items['items'] / max_items['post_item']"
   ]
  },
  {
   "cell_type": "code",
   "execution_count": 65,
   "metadata": {},
   "outputs": [
    {
     "data": {
      "text/html": [
       "<div>\n",
       "<style scoped>\n",
       "    .dataframe tbody tr th:only-of-type {\n",
       "        vertical-align: middle;\n",
       "    }\n",
       "\n",
       "    .dataframe tbody tr th {\n",
       "        vertical-align: top;\n",
       "    }\n",
       "\n",
       "    .dataframe thead th {\n",
       "        text-align: right;\n",
       "    }\n",
       "</style>\n",
       "<table border=\"1\" class=\"dataframe\">\n",
       "  <thead>\n",
       "    <tr style=\"text-align: right;\">\n",
       "      <th></th>\n",
       "      <th>bnf_name</th>\n",
       "      <th>proportion</th>\n",
       "    </tr>\n",
       "    <tr>\n",
       "      <th>post_code</th>\n",
       "      <th></th>\n",
       "      <th></th>\n",
       "    </tr>\n",
       "  </thead>\n",
       "  <tbody>\n",
       "    <tr>\n",
       "      <th>B11 4BW</th>\n",
       "      <td>Salbutamol_Inha 100mcg (200 D) CFF</td>\n",
       "      <td>0.031059</td>\n",
       "    </tr>\n",
       "    <tr>\n",
       "      <th>B12 9LP</th>\n",
       "      <td>Paracet_Tab 500mg</td>\n",
       "      <td>0.024893</td>\n",
       "    </tr>\n",
       "    <tr>\n",
       "      <th>B18 7AL</th>\n",
       "      <td>Salbutamol_Inha 100mcg (200 D) CFF</td>\n",
       "      <td>0.027111</td>\n",
       "    </tr>\n",
       "    <tr>\n",
       "      <th>B21 9RY</th>\n",
       "      <td>Metformin HCl_Tab 500mg</td>\n",
       "      <td>0.033294</td>\n",
       "    </tr>\n",
       "    <tr>\n",
       "      <th>B23 6DJ</th>\n",
       "      <td>Lansoprazole_Cap 30mg (E/C Gran)</td>\n",
       "      <td>0.021384</td>\n",
       "    </tr>\n",
       "  </tbody>\n",
       "</table>\n",
       "</div>"
      ],
      "text/plain": [
       "                                     bnf_name  proportion\n",
       "post_code                                                \n",
       "B11 4BW    Salbutamol_Inha 100mcg (200 D) CFF    0.031059\n",
       "B12 9LP                     Paracet_Tab 500mg    0.024893\n",
       "B18 7AL    Salbutamol_Inha 100mcg (200 D) CFF    0.027111\n",
       "B21 9RY               Metformin HCl_Tab 500mg    0.033294\n",
       "B23 6DJ      Lansoprazole_Cap 30mg (E/C Gran)    0.021384"
      ]
     },
     "execution_count": 65,
     "metadata": {},
     "output_type": "execute_result"
    }
   ],
   "source": [
    "# Drop Columns\n",
    "max_items.drop(['items', 'post_item'], axis=1, inplace=True)\n",
    "max_items.head()"
   ]
  },
  {
   "cell_type": "code",
   "execution_count": 66,
   "metadata": {},
   "outputs": [],
   "source": [
    "# Since the grader wants a list of tuples\n",
    "items_by_region = list(max_items.itertuples(name=None))[:100\n",
    "                                                       ]"
   ]
  },
  {
   "cell_type": "code",
   "execution_count": 67,
   "metadata": {
    "scrolled": true
   },
   "outputs": [
    {
     "data": {
      "text/plain": [
       "[('B11 4BW', 'Salbutamol_Inha 100mcg (200 D) CFF', 0.031058906339360346),\n",
       " ('B12 9LP', 'Paracet_Tab 500mg', 0.02489310607391788),\n",
       " ('B18 7AL', 'Salbutamol_Inha 100mcg (200 D) CFF', 0.027111371172225472),\n",
       " ('B21 9RY', 'Metformin HCl_Tab 500mg', 0.03329358300834757),\n",
       " ('B23 6DJ', 'Lansoprazole_Cap 30mg (E/C Gran)', 0.021384456106529576),\n",
       " ('B61 0AZ', 'Omeprazole_Cap E/C 20mg', 0.028713318284424378),\n",
       " ('B70 7AW', 'Paracet_Tab 500mg', 0.025135992162726547),\n",
       " ('B72 1RL', 'Omeprazole_Cap E/C 20mg', 0.020228765092141495),\n",
       " ('B8 1RZ', 'Metformin HCl_Tab 500mg', 0.021347750961484866),\n",
       " ('B9 5PU', 'Ventolin_Evohaler 100mcg (200 D)', 0.024826024522257815),\n",
       " ('B90 3LX', 'Omeprazole_Cap E/C 20mg', 0.026965103983080718),\n",
       " ('BA5 1XJ', 'Omeprazole_Cap E/C 20mg', 0.028261290947858113),\n",
       " ('BB11 2DL', 'Omeprazole_Cap E/C 20mg', 0.027381741821396993),\n",
       " ('BB2 1AX', 'Omeprazole_Cap E/C 20mg', 0.03428191046763188),\n",
       " ('BB3 1PY', 'Omeprazole_Cap E/C 20mg', 0.032683395995453356),\n",
       " ('BB4 5SL', 'Omeprazole_Cap E/C 20mg', 0.03747689029549087),\n",
       " ('BB4 7PL', 'Omeprazole_Cap E/C 20mg', 0.027477496877557173),\n",
       " ('BB7 2JG', 'Omeprazole_Cap E/C 20mg', 0.027980664806967485),\n",
       " ('BB8 0JZ', 'Atorvastatin_Tab 20mg', 0.021515746650768042),\n",
       " ('BB9 7SR', 'Omeprazole_Cap E/C 20mg', 0.02247662283190644),\n",
       " ('BD16 4RP', 'Lansoprazole_Cap 30mg (E/C Gran)', 0.022780283004198414),\n",
       " ('BD19 5AP', 'Lansoprazole_Cap 30mg (E/C Gran)', 0.02066220372715759),\n",
       " ('BD3 8QH', 'Atorvastatin_Tab 40mg', 0.031662850096882154),\n",
       " ('BD4 7SS', 'Atorvastatin_Tab 40mg', 0.03424183501960914),\n",
       " ('BH14 0DJ', 'Omeprazole_Cap E/C 20mg', 0.02838931332218254),\n",
       " ('BH18 8EE', 'Omeprazole_Cap E/C 20mg', 0.027092370049064923),\n",
       " ('BH23 3AF', 'Omeprazole_Cap E/C 20mg', 0.03546099290780142),\n",
       " ('BL1 3RG', 'Omeprazole_Cap E/C 20mg', 0.03362566656383588),\n",
       " ('BL1 8TU', 'Omeprazole_Cap E/C 20mg', 0.027729220222793487),\n",
       " ('BL2 6NT', 'Omeprazole_Cap E/C 20mg', 0.0271567320510379),\n",
       " ('BL3 5HP', 'Omeprazole_Cap E/C 20mg', 0.03129933420275929),\n",
       " ('BL9 0NJ', 'Omeprazole_Cap E/C 20mg', 0.032037565382786494),\n",
       " ('BL9 0SN', 'Omeprazole_Cap E/C 20mg', 0.03090454288711369),\n",
       " ('BN1 6AG', 'Lansoprazole_Cap 15mg (E/C Gran)', 0.021755523716160168),\n",
       " ('BN1 8DD', 'Aspirin Disper_Tab 75mg', 0.021517850460294887),\n",
       " ('BN9 9PW', 'Omeprazole_Cap E/C 20mg', 0.01855317763853853),\n",
       " ('BR2 9GT', 'Influenza_Vac Inact 0.5ml Pfs', 0.04301700334253742),\n",
       " ('BR3 3FD', 'Omeprazole_Cap E/C 20mg', 0.02865911645197545),\n",
       " ('BS16 3TD', 'Omeprazole_Cap E/C 20mg', 0.03752737892431249),\n",
       " ('BS23 3HQ', 'Omeprazole_Cap E/C 20mg', 0.030246216399367518),\n",
       " ('BS4 1WH', 'Omeprazole_Cap E/C 20mg', 0.029600778967867575),\n",
       " ('BS4 4HU', 'Omeprazole_Cap E/C 20mg', 0.037361354349095155),\n",
       " ('BS48 2XX', 'Omeprazole_Cap E/C 20mg', 0.030207346595095254),\n",
       " ('CA11 8HW', 'Omeprazole_Cap E/C 20mg', 0.027868623340321454),\n",
       " ('CB22 3HU', 'Omeprazole_Cap E/C 20mg', 0.038775726713346066),\n",
       " ('CB9 8HF', 'Omeprazole_Cap E/C 20mg', 0.03391110538046382),\n",
       " ('CH1 4DS', 'Lansoprazole_Cap 30mg (E/C Gran)', 0.0257736189772634),\n",
       " ('CH41 8DB', 'Omeprazole_Cap E/C 20mg', 0.03327732469980738),\n",
       " ('CH44 5UF', 'Omeprazole_Cap E/C 20mg', 0.03327334826839032),\n",
       " ('CH62 5HS', 'Omeprazole_Cap E/C 20mg', 0.037778835690968446),\n",
       " ('CH62 6EE', 'Influenza_Vac Inact 0.5ml Pfs', 0.057585894269547),\n",
       " ('CH65 6TG', 'Lansoprazole_Cap 30mg (E/C Gran)', 0.026067517902474142),\n",
       " ('CH66 3PB', 'Lansoprazole_Cap 30mg (E/C Gran)', 0.03100619319552803),\n",
       " ('CM18 6LY', 'Omeprazole_Cap E/C 20mg', 0.026445315758738635),\n",
       " ('CR0 0JA', 'Salbutamol_Inha 100mcg (200 D) CFF', 0.021571724750715768),\n",
       " ('CT11 8AD', 'Omeprazole_Cap E/C 20mg', 0.022307039864291774),\n",
       " ('CV1 4FS', 'Omeprazole_Cap E/C 20mg', 0.028455180531743392),\n",
       " ('CV12 8NQ', 'Omeprazole_Cap E/C 20mg', 0.026444799282852902),\n",
       " ('CV21 2DN', 'Omeprazole_Cap E/C 20mg', 0.04102890311294875),\n",
       " ('CV6 2FL', 'Omeprazole_Cap E/C 20mg', 0.036250663502669624),\n",
       " ('CV6 6DR', 'Omeprazole_Cap E/C 20mg', 0.030544721504009817),\n",
       " ('CW1 3AW', 'Omeprazole_Cap E/C 20mg', 0.03558258199497268),\n",
       " ('CW5 5NX', 'Omeprazole_Cap E/C 20mg', 0.03453647138997736),\n",
       " ('CW7 1AT', 'Omeprazole_Cap E/C 20mg', 0.03666371289322109),\n",
       " ('DA1 2HA', 'Omeprazole_Cap E/C 20mg', 0.019244977658938185),\n",
       " ('DA11 8BZ', 'Amoxicillin_Cap 500mg', 0.019686834904226208),\n",
       " ('DN16 2AB', 'Amlodipine_Tab 5mg', 0.019925280199252802),\n",
       " ('DN22 7XF', 'Simvastatin_Tab 40mg', 0.018624361621210474),\n",
       " ('DN31 3AE', 'Omeprazole_Cap E/C 20mg', 0.03432952436761402),\n",
       " ('DN34 4GB', 'Omeprazole_Cap E/C 20mg', 0.03709507845509909),\n",
       " ('DN6 0HZ', 'Paracet_Tab 500mg', 0.025764099668243102),\n",
       " ('DN8 4BQ', 'Lansoprazole_Cap 30mg (E/C Gran)', 0.021703061442945835),\n",
       " ('DY11 6SF', 'Omeprazole_Cap E/C 20mg', 0.021081859317153433),\n",
       " ('E15 4ES', 'Amlodipine_Tab 10mg', 0.02569068641412703),\n",
       " ('E7 0EP', 'Metformin HCl_Tab 500mg', 0.037244933982913224),\n",
       " ('FY2 0JG', 'Omeprazole_Cap E/C 20mg', 0.03627638093657511),\n",
       " ('FY4 1TJ', 'Omeprazole_Cap E/C 20mg', 0.04334478808705613),\n",
       " ('FY5 2TZ', 'Omeprazole_Cap E/C 20mg', 0.03540407051009112),\n",
       " ('FY5 3LF', 'Omeprazole_Cap E/C 20mg', 0.035122866094073016),\n",
       " ('FY7 8GU', 'Omeprazole_Cap E/C 20mg', 0.032058079778122195),\n",
       " ('FY8 5DZ', 'Omeprazole_Cap E/C 20mg', 0.02969960416717259),\n",
       " ('GL1 3PX', 'Omeprazole_Cap E/C 20mg', 0.025687801991914012),\n",
       " ('GL20 5GJ', 'Omeprazole_Cap E/C 20mg', 0.02412690753362688),\n",
       " ('GL50 4DP', 'Omeprazole_Cap E/C 20mg', 0.024009042366605605),\n",
       " ('GU9 9QS', 'Omeprazole_Cap E/C 20mg', 0.027052485943893322),\n",
       " ('HA0 4UZ', 'Metformin HCl_Tab 500mg', 0.027855843941147297),\n",
       " ('HA3 7LT', 'Omeprazole_Cap E/C 20mg', 0.02504635488712953),\n",
       " ('HD6 1AT', 'Lansoprazole_Cap 30mg (E/C Gran)', 0.021017471736896196),\n",
       " ('HG1 5AR', 'Omeprazole_Cap E/C 20mg', 0.02842489568845619),\n",
       " ('HR1 2JB', 'Omeprazole_Cap E/C 20mg', 0.028529603122966818),\n",
       " ('HR6 8HD', 'Omeprazole_Cap E/C 20mg', 0.027207967812149594),\n",
       " ('HU7 4DW', 'Salbutamol_Inha 100mcg (200 D) CFF', 0.025607843137254904),\n",
       " ('HU9 2LJ', 'Lansoprazole_Cap 30mg (E/C Gran)', 0.0243192109011288),\n",
       " ('IG7 4DF', 'Amlodipine_Tab 5mg', 0.01956475808155504),\n",
       " ('IP22 4WG', 'Omeprazole_Cap E/C 20mg', 0.02851095218241878),\n",
       " ('KT12 3LB', 'Omeprazole_Cap E/C 20mg', 0.01828471919895516),\n",
       " ('KT14 6DH', 'Amlodipine_Tab 5mg', 0.018667887710894296),\n",
       " ('KT16 8HZ', 'Amlodipine_Tab 5mg', 0.019319714781268066),\n",
       " ('KT6 6EZ', 'Omeprazole_Cap E/C 20mg', 0.02821316614420063),\n",
       " ('L31 0DJ', 'Omeprazole_Cap E/C 20mg', 0.029425653739448675)]"
      ]
     },
     "execution_count": 67,
     "metadata": {},
     "output_type": "execute_result"
    }
   ],
   "source": [
    "items_by_region"
   ]
  },
  {
   "cell_type": "code",
   "execution_count": 68,
   "metadata": {},
   "outputs": [],
   "source": [
    "# items_by_region = [(\"B11 4BW\", \"Salbutamol_Inha 100mcg (200 D) CFF\", 0.0310589063)] * 100"
   ]
  },
  {
   "cell_type": "code",
   "execution_count": 69,
   "metadata": {},
   "outputs": [
    {
     "name": "stdout",
     "output_type": "stream",
     "text": [
      "==================\n",
      "Your score:  1.0\n",
      "==================\n"
     ]
    }
   ],
   "source": [
    "grader.score.dw__items_by_region(items_by_region)"
   ]
  },
  {
   "cell_type": "markdown",
   "metadata": {},
   "source": [
    "## Question 4: script_anomalies\n",
    "\n",
    "Drug abuse is a source of human and monetary costs in health care. A first step in identifying practitioners that enable drug abuse is to look for practices where commonly abused drugs are prescribed unusually often. Let's try to find practices that prescribe an unusually high amount of opioids. The opioids we'll look for are given in the list below."
   ]
  },
  {
   "cell_type": "code",
   "execution_count": 70,
   "metadata": {},
   "outputs": [
    {
     "data": {
      "text/html": [
       "<div>\n",
       "<style scoped>\n",
       "    .dataframe tbody tr th:only-of-type {\n",
       "        vertical-align: middle;\n",
       "    }\n",
       "\n",
       "    .dataframe tbody tr th {\n",
       "        vertical-align: top;\n",
       "    }\n",
       "\n",
       "    .dataframe thead th {\n",
       "        text-align: right;\n",
       "    }\n",
       "</style>\n",
       "<table border=\"1\" class=\"dataframe\">\n",
       "  <thead>\n",
       "    <tr style=\"text-align: right;\">\n",
       "      <th></th>\n",
       "      <th>code</th>\n",
       "      <th>name</th>\n",
       "      <th>addr_1</th>\n",
       "      <th>addr_2</th>\n",
       "      <th>borough</th>\n",
       "      <th>village</th>\n",
       "      <th>post_code</th>\n",
       "    </tr>\n",
       "  </thead>\n",
       "  <tbody>\n",
       "    <tr>\n",
       "      <th>0</th>\n",
       "      <td>A81001</td>\n",
       "      <td>THE DENSHAM SURGERY</td>\n",
       "      <td>THE HEALTH CENTRE</td>\n",
       "      <td>LAWSON STREET</td>\n",
       "      <td>STOCKTON ON TEES</td>\n",
       "      <td>CLEVELAND</td>\n",
       "      <td>TS18 1HU</td>\n",
       "    </tr>\n",
       "    <tr>\n",
       "      <th>1</th>\n",
       "      <td>A81002</td>\n",
       "      <td>QUEENS PARK MEDICAL CENTRE</td>\n",
       "      <td>QUEENS PARK MEDICAL CTR</td>\n",
       "      <td>FARRER STREET</td>\n",
       "      <td>STOCKTON ON TEES</td>\n",
       "      <td>CLEVELAND</td>\n",
       "      <td>TS18 2AW</td>\n",
       "    </tr>\n",
       "    <tr>\n",
       "      <th>2</th>\n",
       "      <td>A81003</td>\n",
       "      <td>VICTORIA MEDICAL PRACTICE</td>\n",
       "      <td>THE HEALTH CENTRE</td>\n",
       "      <td>VICTORIA ROAD</td>\n",
       "      <td>HARTLEPOOL</td>\n",
       "      <td>CLEVELAND</td>\n",
       "      <td>TS26 8DB</td>\n",
       "    </tr>\n",
       "    <tr>\n",
       "      <th>3</th>\n",
       "      <td>A81004</td>\n",
       "      <td>WOODLANDS ROAD SURGERY</td>\n",
       "      <td>6 WOODLANDS ROAD</td>\n",
       "      <td>NaN</td>\n",
       "      <td>MIDDLESBROUGH</td>\n",
       "      <td>CLEVELAND</td>\n",
       "      <td>TS1 3BE</td>\n",
       "    </tr>\n",
       "    <tr>\n",
       "      <th>4</th>\n",
       "      <td>A81005</td>\n",
       "      <td>SPRINGWOOD SURGERY</td>\n",
       "      <td>SPRINGWOOD SURGERY</td>\n",
       "      <td>RECTORY LANE</td>\n",
       "      <td>GUISBOROUGH</td>\n",
       "      <td>NaN</td>\n",
       "      <td>TS14 7DJ</td>\n",
       "    </tr>\n",
       "  </tbody>\n",
       "</table>\n",
       "</div>"
      ],
      "text/plain": [
       "     code                        name                   addr_1         addr_2  \\\n",
       "0  A81001         THE DENSHAM SURGERY        THE HEALTH CENTRE  LAWSON STREET   \n",
       "1  A81002  QUEENS PARK MEDICAL CENTRE  QUEENS PARK MEDICAL CTR  FARRER STREET   \n",
       "2  A81003   VICTORIA MEDICAL PRACTICE        THE HEALTH CENTRE  VICTORIA ROAD   \n",
       "3  A81004      WOODLANDS ROAD SURGERY         6 WOODLANDS ROAD            NaN   \n",
       "4  A81005          SPRINGWOOD SURGERY       SPRINGWOOD SURGERY   RECTORY LANE   \n",
       "\n",
       "            borough    village post_code  \n",
       "0  STOCKTON ON TEES  CLEVELAND  TS18 1HU  \n",
       "1  STOCKTON ON TEES  CLEVELAND  TS18 2AW  \n",
       "2        HARTLEPOOL  CLEVELAND  TS26 8DB  \n",
       "3     MIDDLESBROUGH  CLEVELAND   TS1 3BE  \n",
       "4       GUISBOROUGH        NaN  TS14 7DJ  "
      ]
     },
     "execution_count": 70,
     "metadata": {},
     "output_type": "execute_result"
    }
   ],
   "source": [
    "practices.head()"
   ]
  },
  {
   "cell_type": "code",
   "execution_count": 71,
   "metadata": {},
   "outputs": [
    {
     "data": {
      "text/html": [
       "<div>\n",
       "<style scoped>\n",
       "    .dataframe tbody tr th:only-of-type {\n",
       "        vertical-align: middle;\n",
       "    }\n",
       "\n",
       "    .dataframe tbody tr th {\n",
       "        vertical-align: top;\n",
       "    }\n",
       "\n",
       "    .dataframe thead th {\n",
       "        text-align: right;\n",
       "    }\n",
       "</style>\n",
       "<table border=\"1\" class=\"dataframe\">\n",
       "  <thead>\n",
       "    <tr style=\"text-align: right;\">\n",
       "      <th></th>\n",
       "      <th>practice</th>\n",
       "      <th>bnf_code</th>\n",
       "      <th>bnf_name</th>\n",
       "      <th>items</th>\n",
       "      <th>nic</th>\n",
       "      <th>act_cost</th>\n",
       "      <th>quantity</th>\n",
       "    </tr>\n",
       "  </thead>\n",
       "  <tbody>\n",
       "    <tr>\n",
       "      <th>0</th>\n",
       "      <td>N85639</td>\n",
       "      <td>0106020C0</td>\n",
       "      <td>Bisacodyl_Tab E/C 5mg</td>\n",
       "      <td>1</td>\n",
       "      <td>0.39</td>\n",
       "      <td>0.47</td>\n",
       "      <td>12</td>\n",
       "    </tr>\n",
       "    <tr>\n",
       "      <th>1</th>\n",
       "      <td>N85639</td>\n",
       "      <td>0106040M0</td>\n",
       "      <td>Movicol Plain_Paed Pdr Sach 6.9g</td>\n",
       "      <td>1</td>\n",
       "      <td>4.38</td>\n",
       "      <td>4.07</td>\n",
       "      <td>30</td>\n",
       "    </tr>\n",
       "    <tr>\n",
       "      <th>2</th>\n",
       "      <td>N85639</td>\n",
       "      <td>0301011R0</td>\n",
       "      <td>Salbutamol_Inha 100mcg (200 D) CFF</td>\n",
       "      <td>1</td>\n",
       "      <td>1.50</td>\n",
       "      <td>1.40</td>\n",
       "      <td>1</td>\n",
       "    </tr>\n",
       "    <tr>\n",
       "      <th>3</th>\n",
       "      <td>N85639</td>\n",
       "      <td>0304010G0</td>\n",
       "      <td>Chlorphenamine Mal_Oral Soln 2mg/5ml</td>\n",
       "      <td>1</td>\n",
       "      <td>2.62</td>\n",
       "      <td>2.44</td>\n",
       "      <td>150</td>\n",
       "    </tr>\n",
       "    <tr>\n",
       "      <th>4</th>\n",
       "      <td>N85639</td>\n",
       "      <td>0401020K0</td>\n",
       "      <td>Diazepam_Tab 2mg</td>\n",
       "      <td>1</td>\n",
       "      <td>0.16</td>\n",
       "      <td>0.26</td>\n",
       "      <td>6</td>\n",
       "    </tr>\n",
       "  </tbody>\n",
       "</table>\n",
       "</div>"
      ],
      "text/plain": [
       "  practice   bnf_code                              bnf_name  items   nic  \\\n",
       "0   N85639  0106020C0                 Bisacodyl_Tab E/C 5mg      1  0.39   \n",
       "1   N85639  0106040M0      Movicol Plain_Paed Pdr Sach 6.9g      1  4.38   \n",
       "2   N85639  0301011R0    Salbutamol_Inha 100mcg (200 D) CFF      1  1.50   \n",
       "3   N85639  0304010G0  Chlorphenamine Mal_Oral Soln 2mg/5ml      1  2.62   \n",
       "4   N85639  0401020K0                      Diazepam_Tab 2mg      1  0.16   \n",
       "\n",
       "   act_cost  quantity  \n",
       "0      0.47        12  \n",
       "1      4.07        30  \n",
       "2      1.40         1  \n",
       "3      2.44       150  \n",
       "4      0.26         6  "
      ]
     },
     "execution_count": 71,
     "metadata": {},
     "output_type": "execute_result"
    }
   ],
   "source": [
    "scripts.head()"
   ]
  },
  {
   "cell_type": "markdown",
   "metadata": {},
   "source": [
    "**Opioids** are a class of drugs that include the illegal drug heroin, synthetic opioids such as fentanyl, and pain relievers available legally by prescription, such as oxycodone (OxyContin®), hydrocodone (Vicodin®), codeine, morphine, and many others."
   ]
  },
  {
   "cell_type": "code",
   "execution_count": 72,
   "metadata": {},
   "outputs": [],
   "source": [
    "opioids = ['morphine', 'oxycodone', 'methadone', 'fentanyl', 'pethidine', 'buprenorphine', 'propoxyphene', 'codeine']"
   ]
  },
  {
   "cell_type": "markdown",
   "metadata": {},
   "source": [
    "These are generic names for drugs, not brand names. Generic drug names can be found using the `'bnf_code'` field in `scripts` along with the `chem` table.. Use the list of opioids provided above along with these fields to make a new field in the `scripts` data that flags whether the row corresponds with a opioid prescription."
   ]
  },
  {
   "cell_type": "code",
   "execution_count": 73,
   "metadata": {},
   "outputs": [
    {
     "data": {
      "text/plain": [
       "(3487, 2)"
      ]
     },
     "execution_count": 73,
     "metadata": {},
     "output_type": "execute_result"
    }
   ],
   "source": [
    "chem.shape"
   ]
  },
  {
   "cell_type": "code",
   "execution_count": 74,
   "metadata": {},
   "outputs": [
    {
     "data": {
      "text/html": [
       "<div>\n",
       "<style scoped>\n",
       "    .dataframe tbody tr th:only-of-type {\n",
       "        vertical-align: middle;\n",
       "    }\n",
       "\n",
       "    .dataframe tbody tr th {\n",
       "        vertical-align: top;\n",
       "    }\n",
       "\n",
       "    .dataframe thead th {\n",
       "        text-align: right;\n",
       "    }\n",
       "</style>\n",
       "<table border=\"1\" class=\"dataframe\">\n",
       "  <thead>\n",
       "    <tr style=\"text-align: right;\">\n",
       "      <th></th>\n",
       "      <th>CHEM SUB</th>\n",
       "      <th>NAME</th>\n",
       "    </tr>\n",
       "  </thead>\n",
       "  <tbody>\n",
       "    <tr>\n",
       "      <th>0</th>\n",
       "      <td>0101010A0</td>\n",
       "      <td>Alexitol Sodium</td>\n",
       "    </tr>\n",
       "    <tr>\n",
       "      <th>1</th>\n",
       "      <td>0101010B0</td>\n",
       "      <td>Almasilate</td>\n",
       "    </tr>\n",
       "    <tr>\n",
       "      <th>2</th>\n",
       "      <td>0101010C0</td>\n",
       "      <td>Aluminium Hydroxide</td>\n",
       "    </tr>\n",
       "    <tr>\n",
       "      <th>3</th>\n",
       "      <td>0101010D0</td>\n",
       "      <td>Aluminium Hydroxide With Magnesium</td>\n",
       "    </tr>\n",
       "    <tr>\n",
       "      <th>4</th>\n",
       "      <td>0101010E0</td>\n",
       "      <td>Hydrotalcite</td>\n",
       "    </tr>\n",
       "  </tbody>\n",
       "</table>\n",
       "</div>"
      ],
      "text/plain": [
       "    CHEM SUB                                NAME\n",
       "0  0101010A0                     Alexitol Sodium\n",
       "1  0101010B0                          Almasilate\n",
       "2  0101010C0                 Aluminium Hydroxide\n",
       "3  0101010D0  Aluminium Hydroxide With Magnesium\n",
       "4  0101010E0                        Hydrotalcite"
      ]
     },
     "execution_count": 74,
     "metadata": {},
     "output_type": "execute_result"
    }
   ],
   "source": [
    "chem.head()"
   ]
  },
  {
   "cell_type": "code",
   "execution_count": 75,
   "metadata": {},
   "outputs": [
    {
     "data": {
      "text/plain": [
       "'morphine|oxycodone|methadone|fentanyl|pethidine|buprenorphine|propoxyphene|codeine'"
      ]
     },
     "execution_count": 75,
     "metadata": {},
     "output_type": "execute_result"
    }
   ],
   "source": [
    "'|'.join(opioids)"
   ]
  },
  {
   "cell_type": "code",
   "execution_count": 76,
   "metadata": {},
   "outputs": [
    {
     "data": {
      "text/plain": [
       "0    False\n",
       "1    False\n",
       "2    False\n",
       "3    False\n",
       "4    False\n",
       "Name: NAME, dtype: bool"
      ]
     },
     "execution_count": 76,
     "metadata": {},
     "output_type": "execute_result"
    }
   ],
   "source": [
    "# Create `opioids` column in 'chem' table\n",
    "mask = chem['NAME'].str.contains('|'.join(opioids), case=False) \n",
    "mask.head()"
   ]
  },
  {
   "cell_type": "code",
   "execution_count": 77,
   "metadata": {},
   "outputs": [],
   "source": [
    "# Merge scripts and chem\n",
    "# joined = scripts.merge(chem, left_on='bnf_code', right_on='CHEM SUB', how='left')"
   ]
  },
  {
   "cell_type": "code",
   "execution_count": 78,
   "metadata": {},
   "outputs": [],
   "source": [
    "# joined.head()"
   ]
  },
  {
   "cell_type": "code",
   "execution_count": 79,
   "metadata": {},
   "outputs": [],
   "source": [
    "# Create `opioids` column in 'chem' table\n",
    "mask = chem['NAME'].str.contains('|'.join(opioids), case=False)\n",
    "bad_drugs = chem[mask]['CHEM SUB'].unique()\n",
    "\n",
    "# Merge 'scripts' and 'chem' \n",
    "scripts['opioid'] = scripts['bnf_code'].isin(bad_drugs).astype(int)"
   ]
  },
  {
   "cell_type": "code",
   "execution_count": 80,
   "metadata": {},
   "outputs": [
    {
     "data": {
      "text/html": [
       "<div>\n",
       "<style scoped>\n",
       "    .dataframe tbody tr th:only-of-type {\n",
       "        vertical-align: middle;\n",
       "    }\n",
       "\n",
       "    .dataframe tbody tr th {\n",
       "        vertical-align: top;\n",
       "    }\n",
       "\n",
       "    .dataframe thead th {\n",
       "        text-align: right;\n",
       "    }\n",
       "</style>\n",
       "<table border=\"1\" class=\"dataframe\">\n",
       "  <thead>\n",
       "    <tr style=\"text-align: right;\">\n",
       "      <th></th>\n",
       "      <th>practice</th>\n",
       "      <th>bnf_code</th>\n",
       "      <th>bnf_name</th>\n",
       "      <th>items</th>\n",
       "      <th>nic</th>\n",
       "      <th>act_cost</th>\n",
       "      <th>quantity</th>\n",
       "      <th>opioid</th>\n",
       "    </tr>\n",
       "  </thead>\n",
       "  <tbody>\n",
       "    <tr>\n",
       "      <th>6</th>\n",
       "      <td>N85639</td>\n",
       "      <td>0407010F0</td>\n",
       "      <td>Co-Codamol_Cap 30mg/500mg</td>\n",
       "      <td>1</td>\n",
       "      <td>0.84</td>\n",
       "      <td>0.89</td>\n",
       "      <td>24</td>\n",
       "      <td>1</td>\n",
       "    </tr>\n",
       "    <tr>\n",
       "      <th>7</th>\n",
       "      <td>N85639</td>\n",
       "      <td>0407010F0</td>\n",
       "      <td>Zapain_Tab 30mg/500mg</td>\n",
       "      <td>1</td>\n",
       "      <td>3.03</td>\n",
       "      <td>2.82</td>\n",
       "      <td>100</td>\n",
       "      <td>1</td>\n",
       "    </tr>\n",
       "    <tr>\n",
       "      <th>527</th>\n",
       "      <td>N81013</td>\n",
       "      <td>0407010F0</td>\n",
       "      <td>Co-Codamol_Tab 8mg/500mg</td>\n",
       "      <td>37</td>\n",
       "      <td>101.91</td>\n",
       "      <td>96.13</td>\n",
       "      <td>3446</td>\n",
       "      <td>1</td>\n",
       "    </tr>\n",
       "    <tr>\n",
       "      <th>528</th>\n",
       "      <td>N81013</td>\n",
       "      <td>0407010F0</td>\n",
       "      <td>Co-Codamol Eff_Tab 8mg/500mg</td>\n",
       "      <td>1</td>\n",
       "      <td>8.53</td>\n",
       "      <td>8.01</td>\n",
       "      <td>124</td>\n",
       "      <td>1</td>\n",
       "    </tr>\n",
       "    <tr>\n",
       "      <th>529</th>\n",
       "      <td>N81013</td>\n",
       "      <td>0407010F0</td>\n",
       "      <td>Co-Codamol_Tab 30mg/500mg</td>\n",
       "      <td>14</td>\n",
       "      <td>59.39</td>\n",
       "      <td>55.36</td>\n",
       "      <td>1496</td>\n",
       "      <td>1</td>\n",
       "    </tr>\n",
       "  </tbody>\n",
       "</table>\n",
       "</div>"
      ],
      "text/plain": [
       "    practice   bnf_code                      bnf_name  items     nic  \\\n",
       "6     N85639  0407010F0     Co-Codamol_Cap 30mg/500mg      1    0.84   \n",
       "7     N85639  0407010F0         Zapain_Tab 30mg/500mg      1    3.03   \n",
       "527   N81013  0407010F0      Co-Codamol_Tab 8mg/500mg     37  101.91   \n",
       "528   N81013  0407010F0  Co-Codamol Eff_Tab 8mg/500mg      1    8.53   \n",
       "529   N81013  0407010F0     Co-Codamol_Tab 30mg/500mg     14   59.39   \n",
       "\n",
       "     act_cost  quantity  opioid  \n",
       "6        0.89        24       1  \n",
       "7        2.82       100       1  \n",
       "527     96.13      3446       1  \n",
       "528      8.01       124       1  \n",
       "529     55.36      1496       1  "
      ]
     },
     "execution_count": 80,
     "metadata": {},
     "output_type": "execute_result"
    }
   ],
   "source": [
    "scripts[scripts['opioid']==1].head()"
   ]
  },
  {
   "cell_type": "code",
   "execution_count": 81,
   "metadata": {
    "scrolled": true
   },
   "outputs": [
    {
     "data": {
      "text/html": [
       "<div>\n",
       "<style scoped>\n",
       "    .dataframe tbody tr th:only-of-type {\n",
       "        vertical-align: middle;\n",
       "    }\n",
       "\n",
       "    .dataframe tbody tr th {\n",
       "        vertical-align: top;\n",
       "    }\n",
       "\n",
       "    .dataframe thead th {\n",
       "        text-align: right;\n",
       "    }\n",
       "</style>\n",
       "<table border=\"1\" class=\"dataframe\">\n",
       "  <thead>\n",
       "    <tr style=\"text-align: right;\">\n",
       "      <th></th>\n",
       "      <th>practice</th>\n",
       "      <th>bnf_code</th>\n",
       "      <th>bnf_name</th>\n",
       "      <th>items</th>\n",
       "      <th>nic</th>\n",
       "      <th>act_cost</th>\n",
       "      <th>quantity</th>\n",
       "      <th>opioid</th>\n",
       "    </tr>\n",
       "  </thead>\n",
       "  <tbody>\n",
       "    <tr>\n",
       "      <th>6</th>\n",
       "      <td>N85639</td>\n",
       "      <td>0407010F0</td>\n",
       "      <td>Co-Codamol_Cap 30mg/500mg</td>\n",
       "      <td>1</td>\n",
       "      <td>0.84</td>\n",
       "      <td>0.89</td>\n",
       "      <td>24</td>\n",
       "      <td>1</td>\n",
       "    </tr>\n",
       "    <tr>\n",
       "      <th>7</th>\n",
       "      <td>N85639</td>\n",
       "      <td>0407010F0</td>\n",
       "      <td>Zapain_Tab 30mg/500mg</td>\n",
       "      <td>1</td>\n",
       "      <td>3.03</td>\n",
       "      <td>2.82</td>\n",
       "      <td>100</td>\n",
       "      <td>1</td>\n",
       "    </tr>\n",
       "    <tr>\n",
       "      <th>527</th>\n",
       "      <td>N81013</td>\n",
       "      <td>0407010F0</td>\n",
       "      <td>Co-Codamol_Tab 8mg/500mg</td>\n",
       "      <td>37</td>\n",
       "      <td>101.91</td>\n",
       "      <td>96.13</td>\n",
       "      <td>3446</td>\n",
       "      <td>1</td>\n",
       "    </tr>\n",
       "    <tr>\n",
       "      <th>528</th>\n",
       "      <td>N81013</td>\n",
       "      <td>0407010F0</td>\n",
       "      <td>Co-Codamol Eff_Tab 8mg/500mg</td>\n",
       "      <td>1</td>\n",
       "      <td>8.53</td>\n",
       "      <td>8.01</td>\n",
       "      <td>124</td>\n",
       "      <td>1</td>\n",
       "    </tr>\n",
       "    <tr>\n",
       "      <th>529</th>\n",
       "      <td>N81013</td>\n",
       "      <td>0407010F0</td>\n",
       "      <td>Co-Codamol_Tab 30mg/500mg</td>\n",
       "      <td>14</td>\n",
       "      <td>59.39</td>\n",
       "      <td>55.36</td>\n",
       "      <td>1496</td>\n",
       "      <td>1</td>\n",
       "    </tr>\n",
       "    <tr>\n",
       "      <th>530</th>\n",
       "      <td>N81013</td>\n",
       "      <td>0407010F0</td>\n",
       "      <td>Co-Codamol_Tab 15mg/500mg</td>\n",
       "      <td>2</td>\n",
       "      <td>10.54</td>\n",
       "      <td>9.99</td>\n",
       "      <td>110</td>\n",
       "      <td>1</td>\n",
       "    </tr>\n",
       "    <tr>\n",
       "      <th>531</th>\n",
       "      <td>N81013</td>\n",
       "      <td>0407010F0</td>\n",
       "      <td>Solpadol_Tab Eff 30mg/500mg</td>\n",
       "      <td>4</td>\n",
       "      <td>35.60</td>\n",
       "      <td>33.00</td>\n",
       "      <td>400</td>\n",
       "      <td>1</td>\n",
       "    </tr>\n",
       "    <tr>\n",
       "      <th>532</th>\n",
       "      <td>N81013</td>\n",
       "      <td>0407010F0</td>\n",
       "      <td>Zapain_Tab 30mg/500mg</td>\n",
       "      <td>148</td>\n",
       "      <td>504.84</td>\n",
       "      <td>474.38</td>\n",
       "      <td>16662</td>\n",
       "      <td>1</td>\n",
       "    </tr>\n",
       "    <tr>\n",
       "      <th>533</th>\n",
       "      <td>N81013</td>\n",
       "      <td>0407010F0</td>\n",
       "      <td>Zapain_Cap 30mg/500mg</td>\n",
       "      <td>6</td>\n",
       "      <td>35.11</td>\n",
       "      <td>32.68</td>\n",
       "      <td>912</td>\n",
       "      <td>1</td>\n",
       "    </tr>\n",
       "    <tr>\n",
       "      <th>538</th>\n",
       "      <td>N81013</td>\n",
       "      <td>0407010N0</td>\n",
       "      <td>Co-Dydramol_Tab 10mg/500mg</td>\n",
       "      <td>11</td>\n",
       "      <td>34.69</td>\n",
       "      <td>32.35</td>\n",
       "      <td>1108</td>\n",
       "      <td>1</td>\n",
       "    </tr>\n",
       "    <tr>\n",
       "      <th>539</th>\n",
       "      <td>N81013</td>\n",
       "      <td>0407010N0</td>\n",
       "      <td>Paracet/Dihydrocodeine_Tab 500mg/20mg</td>\n",
       "      <td>1</td>\n",
       "      <td>22.26</td>\n",
       "      <td>20.62</td>\n",
       "      <td>224</td>\n",
       "      <td>1</td>\n",
       "    </tr>\n",
       "    <tr>\n",
       "      <th>540</th>\n",
       "      <td>N81013</td>\n",
       "      <td>0407010N0</td>\n",
       "      <td>Paracet/Dihydrocodeine_Tab 500mg/30mg</td>\n",
       "      <td>6</td>\n",
       "      <td>137.37</td>\n",
       "      <td>127.35</td>\n",
       "      <td>1128</td>\n",
       "      <td>1</td>\n",
       "    </tr>\n",
       "    <tr>\n",
       "      <th>541</th>\n",
       "      <td>N81013</td>\n",
       "      <td>0407020AD</td>\n",
       "      <td>Oxycodone HCl_Oral Soln 5mg/5ml S/F</td>\n",
       "      <td>3</td>\n",
       "      <td>29.13</td>\n",
       "      <td>27.00</td>\n",
       "      <td>750</td>\n",
       "      <td>1</td>\n",
       "    </tr>\n",
       "    <tr>\n",
       "      <th>542</th>\n",
       "      <td>N81013</td>\n",
       "      <td>0407020AD</td>\n",
       "      <td>Longtec_Tab 5mg M/R</td>\n",
       "      <td>4</td>\n",
       "      <td>6.28</td>\n",
       "      <td>6.26</td>\n",
       "      <td>28</td>\n",
       "      <td>1</td>\n",
       "    </tr>\n",
       "    <tr>\n",
       "      <th>543</th>\n",
       "      <td>N81013</td>\n",
       "      <td>0407020AD</td>\n",
       "      <td>Longtec_Tab 10mg M/R</td>\n",
       "      <td>5</td>\n",
       "      <td>8.96</td>\n",
       "      <td>8.85</td>\n",
       "      <td>40</td>\n",
       "      <td>1</td>\n",
       "    </tr>\n",
       "    <tr>\n",
       "      <th>544</th>\n",
       "      <td>N81013</td>\n",
       "      <td>0407020AD</td>\n",
       "      <td>Longtec_Tab 20mg M/R</td>\n",
       "      <td>5</td>\n",
       "      <td>37.56</td>\n",
       "      <td>35.23</td>\n",
       "      <td>84</td>\n",
       "      <td>1</td>\n",
       "    </tr>\n",
       "    <tr>\n",
       "      <th>545</th>\n",
       "      <td>N81013</td>\n",
       "      <td>0407020AD</td>\n",
       "      <td>Longtec_Tab 40mg M/R</td>\n",
       "      <td>5</td>\n",
       "      <td>100.17</td>\n",
       "      <td>93.19</td>\n",
       "      <td>112</td>\n",
       "      <td>1</td>\n",
       "    </tr>\n",
       "    <tr>\n",
       "      <th>546</th>\n",
       "      <td>N81013</td>\n",
       "      <td>0407020AD</td>\n",
       "      <td>Longtec_Tab 30mg M/R</td>\n",
       "      <td>2</td>\n",
       "      <td>51.72</td>\n",
       "      <td>48.00</td>\n",
       "      <td>76</td>\n",
       "      <td>1</td>\n",
       "    </tr>\n",
       "    <tr>\n",
       "      <th>547</th>\n",
       "      <td>N81013</td>\n",
       "      <td>0407020AD</td>\n",
       "      <td>Shortec_Cap 5mg</td>\n",
       "      <td>5</td>\n",
       "      <td>61.74</td>\n",
       "      <td>57.61</td>\n",
       "      <td>504</td>\n",
       "      <td>1</td>\n",
       "    </tr>\n",
       "    <tr>\n",
       "      <th>548</th>\n",
       "      <td>N81013</td>\n",
       "      <td>0407020AD</td>\n",
       "      <td>Shortec_Cap 20mg</td>\n",
       "      <td>1</td>\n",
       "      <td>54.86</td>\n",
       "      <td>50.80</td>\n",
       "      <td>112</td>\n",
       "      <td>1</td>\n",
       "    </tr>\n",
       "    <tr>\n",
       "      <th>549</th>\n",
       "      <td>N81013</td>\n",
       "      <td>0407020A0</td>\n",
       "      <td>Fentanyl_Transdermal Patch 12mcg/hr</td>\n",
       "      <td>1</td>\n",
       "      <td>12.59</td>\n",
       "      <td>11.67</td>\n",
       "      <td>5</td>\n",
       "      <td>1</td>\n",
       "    </tr>\n",
       "    <tr>\n",
       "      <th>550</th>\n",
       "      <td>N81013</td>\n",
       "      <td>0407020A0</td>\n",
       "      <td>Fentanyl_Transdermal Patch 37.5mcg/hr</td>\n",
       "      <td>2</td>\n",
       "      <td>30.92</td>\n",
       "      <td>28.85</td>\n",
       "      <td>10</td>\n",
       "      <td>1</td>\n",
       "    </tr>\n",
       "    <tr>\n",
       "      <th>551</th>\n",
       "      <td>N81013</td>\n",
       "      <td>0407020A0</td>\n",
       "      <td>Durogesic DTrans_T/Derm Patch 25mcg</td>\n",
       "      <td>1</td>\n",
       "      <td>53.97</td>\n",
       "      <td>49.98</td>\n",
       "      <td>15</td>\n",
       "      <td>1</td>\n",
       "    </tr>\n",
       "    <tr>\n",
       "      <th>552</th>\n",
       "      <td>N81013</td>\n",
       "      <td>0407020A0</td>\n",
       "      <td>Durogesic DTrans_T/Derm Patch 12mcg</td>\n",
       "      <td>1</td>\n",
       "      <td>37.77</td>\n",
       "      <td>34.98</td>\n",
       "      <td>15</td>\n",
       "      <td>1</td>\n",
       "    </tr>\n",
       "    <tr>\n",
       "      <th>553</th>\n",
       "      <td>N81013</td>\n",
       "      <td>0407020A0</td>\n",
       "      <td>Matrifen_Patch 12mcg/hr</td>\n",
       "      <td>3</td>\n",
       "      <td>22.56</td>\n",
       "      <td>20.92</td>\n",
       "      <td>15</td>\n",
       "      <td>1</td>\n",
       "    </tr>\n",
       "    <tr>\n",
       "      <th>554</th>\n",
       "      <td>N81013</td>\n",
       "      <td>0407020A0</td>\n",
       "      <td>Matrifen_Patch 25mcg/hr</td>\n",
       "      <td>3</td>\n",
       "      <td>43.04</td>\n",
       "      <td>39.88</td>\n",
       "      <td>20</td>\n",
       "      <td>1</td>\n",
       "    </tr>\n",
       "    <tr>\n",
       "      <th>555</th>\n",
       "      <td>N81013</td>\n",
       "      <td>0407020A0</td>\n",
       "      <td>Matrifen_Patch 50mcg/hr</td>\n",
       "      <td>2</td>\n",
       "      <td>40.24</td>\n",
       "      <td>37.28</td>\n",
       "      <td>10</td>\n",
       "      <td>1</td>\n",
       "    </tr>\n",
       "    <tr>\n",
       "      <th>556</th>\n",
       "      <td>N81013</td>\n",
       "      <td>0407020A0</td>\n",
       "      <td>Matrifen_Patch 100mcg/hr</td>\n",
       "      <td>2</td>\n",
       "      <td>138.36</td>\n",
       "      <td>128.12</td>\n",
       "      <td>20</td>\n",
       "      <td>1</td>\n",
       "    </tr>\n",
       "    <tr>\n",
       "      <th>557</th>\n",
       "      <td>N81013</td>\n",
       "      <td>0407020A0</td>\n",
       "      <td>Fencino_Transdermal Patch 12mcg/hr</td>\n",
       "      <td>5</td>\n",
       "      <td>42.30</td>\n",
       "      <td>39.22</td>\n",
       "      <td>25</td>\n",
       "      <td>1</td>\n",
       "    </tr>\n",
       "    <tr>\n",
       "      <th>558</th>\n",
       "      <td>N81013</td>\n",
       "      <td>0407020A0</td>\n",
       "      <td>Fencino_Transdermal Patch 25mcg/hr</td>\n",
       "      <td>4</td>\n",
       "      <td>60.50</td>\n",
       "      <td>56.06</td>\n",
       "      <td>25</td>\n",
       "      <td>1</td>\n",
       "    </tr>\n",
       "    <tr>\n",
       "      <th>...</th>\n",
       "      <td>...</td>\n",
       "      <td>...</td>\n",
       "      <td>...</td>\n",
       "      <td>...</td>\n",
       "      <td>...</td>\n",
       "      <td>...</td>\n",
       "      <td>...</td>\n",
       "      <td>...</td>\n",
       "    </tr>\n",
       "    <tr>\n",
       "      <th>2113</th>\n",
       "      <td>N81029</td>\n",
       "      <td>0407010F0</td>\n",
       "      <td>Zapain_Cap 30mg/500mg</td>\n",
       "      <td>10</td>\n",
       "      <td>33.97</td>\n",
       "      <td>32.17</td>\n",
       "      <td>882</td>\n",
       "      <td>1</td>\n",
       "    </tr>\n",
       "    <tr>\n",
       "      <th>2121</th>\n",
       "      <td>N81029</td>\n",
       "      <td>0407010N0</td>\n",
       "      <td>Co-Dydramol_Tab 10mg/500mg</td>\n",
       "      <td>16</td>\n",
       "      <td>64.80</td>\n",
       "      <td>60.28</td>\n",
       "      <td>2070</td>\n",
       "      <td>1</td>\n",
       "    </tr>\n",
       "    <tr>\n",
       "      <th>2122</th>\n",
       "      <td>N81029</td>\n",
       "      <td>0407020AD</td>\n",
       "      <td>Oxycodone HCl_Oral Soln 5mg/5ml S/F</td>\n",
       "      <td>3</td>\n",
       "      <td>29.13</td>\n",
       "      <td>27.00</td>\n",
       "      <td>750</td>\n",
       "      <td>1</td>\n",
       "    </tr>\n",
       "    <tr>\n",
       "      <th>2123</th>\n",
       "      <td>N81029</td>\n",
       "      <td>0407020AD</td>\n",
       "      <td>OxyNorm_Oral Soln 5mg/5ml S/F</td>\n",
       "      <td>2</td>\n",
       "      <td>29.13</td>\n",
       "      <td>26.99</td>\n",
       "      <td>750</td>\n",
       "      <td>1</td>\n",
       "    </tr>\n",
       "    <tr>\n",
       "      <th>2124</th>\n",
       "      <td>N81029</td>\n",
       "      <td>0407020AD</td>\n",
       "      <td>OxyNorm_Cap 5mg</td>\n",
       "      <td>1</td>\n",
       "      <td>22.86</td>\n",
       "      <td>21.18</td>\n",
       "      <td>112</td>\n",
       "      <td>1</td>\n",
       "    </tr>\n",
       "    <tr>\n",
       "      <th>2125</th>\n",
       "      <td>N81029</td>\n",
       "      <td>0407020AD</td>\n",
       "      <td>OxyNorm_Cap 10mg</td>\n",
       "      <td>4</td>\n",
       "      <td>45.72</td>\n",
       "      <td>42.78</td>\n",
       "      <td>112</td>\n",
       "      <td>1</td>\n",
       "    </tr>\n",
       "    <tr>\n",
       "      <th>2126</th>\n",
       "      <td>N81029</td>\n",
       "      <td>0407020AD</td>\n",
       "      <td>Longtec_Tab 5mg M/R</td>\n",
       "      <td>3</td>\n",
       "      <td>37.56</td>\n",
       "      <td>34.81</td>\n",
       "      <td>168</td>\n",
       "      <td>1</td>\n",
       "    </tr>\n",
       "    <tr>\n",
       "      <th>2127</th>\n",
       "      <td>N81029</td>\n",
       "      <td>0407020AD</td>\n",
       "      <td>Longtec_Tab 10mg M/R</td>\n",
       "      <td>9</td>\n",
       "      <td>137.72</td>\n",
       "      <td>127.60</td>\n",
       "      <td>616</td>\n",
       "      <td>1</td>\n",
       "    </tr>\n",
       "    <tr>\n",
       "      <th>2128</th>\n",
       "      <td>N81029</td>\n",
       "      <td>0407020AD</td>\n",
       "      <td>Longtec_Tab 20mg M/R</td>\n",
       "      <td>5</td>\n",
       "      <td>125.20</td>\n",
       "      <td>115.97</td>\n",
       "      <td>280</td>\n",
       "      <td>1</td>\n",
       "    </tr>\n",
       "    <tr>\n",
       "      <th>2129</th>\n",
       "      <td>N81029</td>\n",
       "      <td>0407020AD</td>\n",
       "      <td>Longtec_Tab 40mg M/R</td>\n",
       "      <td>1</td>\n",
       "      <td>100.18</td>\n",
       "      <td>92.75</td>\n",
       "      <td>112</td>\n",
       "      <td>1</td>\n",
       "    </tr>\n",
       "    <tr>\n",
       "      <th>2130</th>\n",
       "      <td>N81029</td>\n",
       "      <td>0407020AD</td>\n",
       "      <td>Longtec_Tab 80mg M/R</td>\n",
       "      <td>2</td>\n",
       "      <td>100.20</td>\n",
       "      <td>92.98</td>\n",
       "      <td>56</td>\n",
       "      <td>1</td>\n",
       "    </tr>\n",
       "    <tr>\n",
       "      <th>2131</th>\n",
       "      <td>N81029</td>\n",
       "      <td>0407020AD</td>\n",
       "      <td>Longtec_Tab 15mg M/R</td>\n",
       "      <td>1</td>\n",
       "      <td>19.06</td>\n",
       "      <td>17.66</td>\n",
       "      <td>56</td>\n",
       "      <td>1</td>\n",
       "    </tr>\n",
       "    <tr>\n",
       "      <th>2132</th>\n",
       "      <td>N81029</td>\n",
       "      <td>0407020AD</td>\n",
       "      <td>Shortec_Cap 5mg</td>\n",
       "      <td>4</td>\n",
       "      <td>37.73</td>\n",
       "      <td>35.07</td>\n",
       "      <td>308</td>\n",
       "      <td>1</td>\n",
       "    </tr>\n",
       "    <tr>\n",
       "      <th>2133</th>\n",
       "      <td>N81029</td>\n",
       "      <td>0407020AD</td>\n",
       "      <td>Shortec_Cap 10mg</td>\n",
       "      <td>11</td>\n",
       "      <td>150.92</td>\n",
       "      <td>140.25</td>\n",
       "      <td>616</td>\n",
       "      <td>1</td>\n",
       "    </tr>\n",
       "    <tr>\n",
       "      <th>2134</th>\n",
       "      <td>N81029</td>\n",
       "      <td>0407020AD</td>\n",
       "      <td>Shortec_Cap 20mg</td>\n",
       "      <td>4</td>\n",
       "      <td>109.72</td>\n",
       "      <td>101.64</td>\n",
       "      <td>224</td>\n",
       "      <td>1</td>\n",
       "    </tr>\n",
       "    <tr>\n",
       "      <th>2135</th>\n",
       "      <td>N81029</td>\n",
       "      <td>0407020A0</td>\n",
       "      <td>Durogesic DTrans_T/Derm Patch 25mcg</td>\n",
       "      <td>1</td>\n",
       "      <td>35.98</td>\n",
       "      <td>33.32</td>\n",
       "      <td>10</td>\n",
       "      <td>1</td>\n",
       "    </tr>\n",
       "    <tr>\n",
       "      <th>2136</th>\n",
       "      <td>N81029</td>\n",
       "      <td>0407020A0</td>\n",
       "      <td>Durogesic DTrans_T/Derm Patch 75mcg</td>\n",
       "      <td>2</td>\n",
       "      <td>140.97</td>\n",
       "      <td>130.52</td>\n",
       "      <td>15</td>\n",
       "      <td>1</td>\n",
       "    </tr>\n",
       "    <tr>\n",
       "      <th>2137</th>\n",
       "      <td>N81029</td>\n",
       "      <td>0407020A0</td>\n",
       "      <td>Durogesic DTrans_T/Derm Patch 100mcg</td>\n",
       "      <td>1</td>\n",
       "      <td>115.72</td>\n",
       "      <td>107.14</td>\n",
       "      <td>10</td>\n",
       "      <td>1</td>\n",
       "    </tr>\n",
       "    <tr>\n",
       "      <th>2138</th>\n",
       "      <td>N81029</td>\n",
       "      <td>0407020A0</td>\n",
       "      <td>Durogesic DTrans_T/Derm Patch 12mcg</td>\n",
       "      <td>1</td>\n",
       "      <td>25.18</td>\n",
       "      <td>23.32</td>\n",
       "      <td>10</td>\n",
       "      <td>1</td>\n",
       "    </tr>\n",
       "    <tr>\n",
       "      <th>2139</th>\n",
       "      <td>N81029</td>\n",
       "      <td>0407020A0</td>\n",
       "      <td>Matrifen_Patch 12mcg/hr</td>\n",
       "      <td>7</td>\n",
       "      <td>82.72</td>\n",
       "      <td>76.67</td>\n",
       "      <td>55</td>\n",
       "      <td>1</td>\n",
       "    </tr>\n",
       "    <tr>\n",
       "      <th>2140</th>\n",
       "      <td>N81029</td>\n",
       "      <td>0407020A0</td>\n",
       "      <td>Matrifen_Patch 25mcg/hr</td>\n",
       "      <td>2</td>\n",
       "      <td>43.04</td>\n",
       "      <td>39.86</td>\n",
       "      <td>20</td>\n",
       "      <td>1</td>\n",
       "    </tr>\n",
       "    <tr>\n",
       "      <th>2141</th>\n",
       "      <td>N81029</td>\n",
       "      <td>0407020A0</td>\n",
       "      <td>Matrifen_Patch 50mcg/hr</td>\n",
       "      <td>6</td>\n",
       "      <td>185.10</td>\n",
       "      <td>171.53</td>\n",
       "      <td>46</td>\n",
       "      <td>1</td>\n",
       "    </tr>\n",
       "    <tr>\n",
       "      <th>2142</th>\n",
       "      <td>N81029</td>\n",
       "      <td>0407020A0</td>\n",
       "      <td>Matrifen_Patch 75mcg/hr</td>\n",
       "      <td>4</td>\n",
       "      <td>196.42</td>\n",
       "      <td>181.89</td>\n",
       "      <td>35</td>\n",
       "      <td>1</td>\n",
       "    </tr>\n",
       "    <tr>\n",
       "      <th>2143</th>\n",
       "      <td>N81029</td>\n",
       "      <td>0407020A0</td>\n",
       "      <td>Fencino_Transdermal Patch 12mcg/hr</td>\n",
       "      <td>3</td>\n",
       "      <td>50.76</td>\n",
       "      <td>47.04</td>\n",
       "      <td>30</td>\n",
       "      <td>1</td>\n",
       "    </tr>\n",
       "    <tr>\n",
       "      <th>2144</th>\n",
       "      <td>N81029</td>\n",
       "      <td>0407020A0</td>\n",
       "      <td>Fencino_Transdermal Patch 25mcg/hr</td>\n",
       "      <td>5</td>\n",
       "      <td>145.20</td>\n",
       "      <td>134.49</td>\n",
       "      <td>60</td>\n",
       "      <td>1</td>\n",
       "    </tr>\n",
       "    <tr>\n",
       "      <th>2145</th>\n",
       "      <td>N81029</td>\n",
       "      <td>0407020A0</td>\n",
       "      <td>Fencino_Transdermal Patch 50mcg/hr</td>\n",
       "      <td>4</td>\n",
       "      <td>158.34</td>\n",
       "      <td>146.63</td>\n",
       "      <td>35</td>\n",
       "      <td>1</td>\n",
       "    </tr>\n",
       "    <tr>\n",
       "      <th>2146</th>\n",
       "      <td>N81029</td>\n",
       "      <td>0407020A0</td>\n",
       "      <td>Fencino_Transdermal Patch 75mcg/hr</td>\n",
       "      <td>2</td>\n",
       "      <td>126.16</td>\n",
       "      <td>116.82</td>\n",
       "      <td>20</td>\n",
       "      <td>1</td>\n",
       "    </tr>\n",
       "    <tr>\n",
       "      <th>2147</th>\n",
       "      <td>N81029</td>\n",
       "      <td>0407020B0</td>\n",
       "      <td>Buprenorphine_Tab Subling 200mcg S/F</td>\n",
       "      <td>1</td>\n",
       "      <td>12.10</td>\n",
       "      <td>11.31</td>\n",
       "      <td>120</td>\n",
       "      <td>1</td>\n",
       "    </tr>\n",
       "    <tr>\n",
       "      <th>2148</th>\n",
       "      <td>N81029</td>\n",
       "      <td>0407020B0</td>\n",
       "      <td>Buprenorphine_Patch 70mcg/hr (96hr)</td>\n",
       "      <td>1</td>\n",
       "      <td>63.20</td>\n",
       "      <td>58.52</td>\n",
       "      <td>8</td>\n",
       "      <td>1</td>\n",
       "    </tr>\n",
       "    <tr>\n",
       "      <th>2149</th>\n",
       "      <td>N81029</td>\n",
       "      <td>0407020B0</td>\n",
       "      <td>Buprenorphine_Patch 5mcg/hr (7day)</td>\n",
       "      <td>3</td>\n",
       "      <td>52.80</td>\n",
       "      <td>48.92</td>\n",
       "      <td>12</td>\n",
       "      <td>1</td>\n",
       "    </tr>\n",
       "  </tbody>\n",
       "</table>\n",
       "<p>100 rows × 8 columns</p>\n",
       "</div>"
      ],
      "text/plain": [
       "     practice   bnf_code                              bnf_name  items     nic  \\\n",
       "6      N85639  0407010F0             Co-Codamol_Cap 30mg/500mg      1    0.84   \n",
       "7      N85639  0407010F0                 Zapain_Tab 30mg/500mg      1    3.03   \n",
       "527    N81013  0407010F0              Co-Codamol_Tab 8mg/500mg     37  101.91   \n",
       "528    N81013  0407010F0          Co-Codamol Eff_Tab 8mg/500mg      1    8.53   \n",
       "529    N81013  0407010F0             Co-Codamol_Tab 30mg/500mg     14   59.39   \n",
       "...       ...        ...                                   ...    ...     ...   \n",
       "2145   N81029  0407020A0    Fencino_Transdermal Patch 50mcg/hr      4  158.34   \n",
       "2146   N81029  0407020A0    Fencino_Transdermal Patch 75mcg/hr      2  126.16   \n",
       "2147   N81029  0407020B0  Buprenorphine_Tab Subling 200mcg S/F      1   12.10   \n",
       "2148   N81029  0407020B0   Buprenorphine_Patch 70mcg/hr (96hr)      1   63.20   \n",
       "2149   N81029  0407020B0    Buprenorphine_Patch 5mcg/hr (7day)      3   52.80   \n",
       "\n",
       "      act_cost  quantity  opioid  \n",
       "6         0.89        24       1  \n",
       "7         2.82       100       1  \n",
       "527      96.13      3446       1  \n",
       "528       8.01       124       1  \n",
       "529      55.36      1496       1  \n",
       "...        ...       ...     ...  \n",
       "2145    146.63        35       1  \n",
       "2146    116.82        20       1  \n",
       "2147     11.31       120       1  \n",
       "2148     58.52         8       1  \n",
       "2149     48.92        12       1  \n",
       "\n",
       "[100 rows x 8 columns]"
      ]
     },
     "execution_count": 81,
     "metadata": {},
     "output_type": "execute_result"
    }
   ],
   "source": [
    "scripts[scripts['opioid']==1].head(100)"
   ]
  },
  {
   "cell_type": "code",
   "execution_count": 82,
   "metadata": {},
   "outputs": [],
   "source": [
    "# scripts.head()"
   ]
  },
  {
   "cell_type": "markdown",
   "metadata": {},
   "source": [
    "Now for each practice calculate the proportion of its prescriptions containing opioids.\n",
    "\n",
    "**Hint:** Consider the following list: `[0, 1, 1, 0, 0, 0]`. What proportion of the entries are 1s? What is the mean value?"
   ]
  },
  {
   "cell_type": "code",
   "execution_count": 83,
   "metadata": {},
   "outputs": [
    {
     "data": {
      "text/plain": [
       "0.3333333333333333"
      ]
     },
     "execution_count": 83,
     "metadata": {},
     "output_type": "execute_result"
    }
   ],
   "source": [
    "np.mean([0, 1, 1, 0, 0, 0])"
   ]
  },
  {
   "cell_type": "code",
   "execution_count": 84,
   "metadata": {},
   "outputs": [],
   "source": [
    "opioids_per_practice = scripts.groupby('practice')['opioid'].mean()"
   ]
  },
  {
   "cell_type": "code",
   "execution_count": 85,
   "metadata": {},
   "outputs": [
    {
     "data": {
      "text/plain": [
       "practice\n",
       "A81005    0.033179\n",
       "A81007    0.043329\n",
       "A81011    0.046556\n",
       "A81012    0.042793\n",
       "A81017    0.038140\n",
       "Name: opioid, dtype: float64"
      ]
     },
     "execution_count": 85,
     "metadata": {},
     "output_type": "execute_result"
    }
   ],
   "source": [
    "opioids_per_practice.head()"
   ]
  },
  {
   "cell_type": "code",
   "execution_count": 86,
   "metadata": {},
   "outputs": [
    {
     "data": {
      "text/plain": [
       "0.03580276471367961"
      ]
     },
     "execution_count": 86,
     "metadata": {},
     "output_type": "execute_result"
    }
   ],
   "source": [
    "scripts['opioid'].mean()"
   ]
  },
  {
   "cell_type": "code",
   "execution_count": 87,
   "metadata": {},
   "outputs": [],
   "source": [
    "# opioids_per_practice = ..."
   ]
  },
  {
   "cell_type": "markdown",
   "metadata": {},
   "source": [
    "How do these proportions compare to the overall opioid prescription rate? Subtract off the proportion of all prescriptions that are opioids from each practice's proportion."
   ]
  },
  {
   "cell_type": "code",
   "execution_count": 88,
   "metadata": {},
   "outputs": [],
   "source": [
    "relative_opioids_per_practice = opioids_per_practice - scripts['opioid'].mean()"
   ]
  },
  {
   "cell_type": "code",
   "execution_count": 89,
   "metadata": {},
   "outputs": [
    {
     "data": {
      "text/plain": [
       "practice\n",
       "A81005   -0.002624\n",
       "A81007    0.007526\n",
       "A81011    0.010753\n",
       "A81012    0.006990\n",
       "A81017    0.002337\n",
       "Name: opioid, dtype: float64"
      ]
     },
     "execution_count": 89,
     "metadata": {},
     "output_type": "execute_result"
    }
   ],
   "source": [
    "relative_opioids_per_practice.head()"
   ]
  },
  {
   "cell_type": "code",
   "execution_count": 90,
   "metadata": {},
   "outputs": [
    {
     "data": {
      "text/plain": [
       "practice\n",
       "A81005    0.033179\n",
       "A81007    0.043329\n",
       "A81011    0.046556\n",
       "A81012    0.042793\n",
       "A81017    0.038140\n",
       "Name: opioid, dtype: float64"
      ]
     },
     "execution_count": 90,
     "metadata": {},
     "output_type": "execute_result"
    }
   ],
   "source": [
    "opioids_per_practice.head()"
   ]
  },
  {
   "cell_type": "code",
   "execution_count": null,
   "metadata": {},
   "outputs": [],
   "source": []
  },
  {
   "cell_type": "markdown",
   "metadata": {},
   "source": [
    "Now that we know the difference between each practice's opioid prescription rate and the overall rate, we can identify which practices prescribe opioids at above average or below average rates. However, are the differences from the overall rate important or just random deviations? In other words, are the differences from the overall rate big or small?\n",
    "\n",
    "To answer this question we have to quantify the difference we would typically expect between a given practice's opioid prescription rate and the overall rate. This quantity is called the **standard error**, and is related to the **standard deviation**, $\\sigma$. The standard error in this case is\n",
    "\n",
    "$$ \\frac{\\sigma}{\\sqrt{n}} $$\n",
    "\n",
    "where $n$ is the number of prescriptions each practice made. Calculate the standard error for each practice. Then divide `relative_opioids_per_practice` by the standard errors. We'll call the final result `opioid_scores`."
   ]
  },
  {
   "cell_type": "code",
   "execution_count": 91,
   "metadata": {},
   "outputs": [
    {
     "data": {
      "text/plain": [
       "<matplotlib.axes._subplots.AxesSubplot at 0x7f98e2d44f28>"
      ]
     },
     "execution_count": 91,
     "metadata": {},
     "output_type": "execute_result"
    },
    {
     "data": {
      "image/png": "[encoded data removed]",
      "text/plain": [
       "<Figure size 864x576 with 1 Axes>"
      ]
     },
     "metadata": {},
     "output_type": "display_data"
    }
   ],
   "source": [
    "relative_opioids_per_practice.hist()\n",
    "# This shows skewness "
   ]
  },
  {
   "cell_type": "code",
   "execution_count": 92,
   "metadata": {},
   "outputs": [
    {
     "data": {
      "text/plain": [
       "0.18579817605238425"
      ]
     },
     "execution_count": 92,
     "metadata": {},
     "output_type": "execute_result"
    }
   ],
   "source": [
    "scripts['opioid'].std()"
   ]
  },
  {
   "cell_type": "markdown",
   "metadata": {},
   "source": [
    "joined['opioid'].std() / sqrt of the number of scripts written in each practice"
   ]
  },
  {
   "cell_type": "code",
   "execution_count": 93,
   "metadata": {},
   "outputs": [
    {
     "data": {
      "text/plain": [
       "N83028    2844\n",
       "L83100    2797\n",
       "D81043    2459\n",
       "B81008    2396\n",
       "B81026    2347\n",
       "          ... \n",
       "Y05366       1\n",
       "Y03179       1\n",
       "Y01174       1\n",
       "C85617       1\n",
       "Y03010       1\n",
       "Name: practice, Length: 856, dtype: int64"
      ]
     },
     "execution_count": 93,
     "metadata": {},
     "output_type": "execute_result"
    }
   ],
   "source": [
    "joined.practice.value_counts()"
   ]
  },
  {
   "cell_type": "code",
   "execution_count": 94,
   "metadata": {},
   "outputs": [
    {
     "data": {
      "text/plain": [
       "N83028    0.003484\n",
       "L83100    0.003513\n",
       "D81043    0.003747\n",
       "B81008    0.003796\n",
       "B81026    0.003835\n",
       "            ...   \n",
       "Y05366    0.185798\n",
       "Y03179    0.185798\n",
       "Y01174    0.185798\n",
       "C85617    0.185798\n",
       "Y03010    0.185798\n",
       "Name: practice, Length: 856, dtype: float64"
      ]
     },
     "execution_count": 94,
     "metadata": {},
     "output_type": "execute_result"
    }
   ],
   "source": [
    "scripts['opioid'].std() / np.sqrt(joined.practice.value_counts())"
   ]
  },
  {
   "cell_type": "code",
   "execution_count": 95,
   "metadata": {},
   "outputs": [],
   "source": [
    "standard_error_per_practice = scripts['opioid'].std() / np.sqrt(joined.practice.value_counts())\n",
    "opioid_scores = relative_opioids_per_practice / standard_error_per_practice"
   ]
  },
  {
   "cell_type": "code",
   "execution_count": 96,
   "metadata": {},
   "outputs": [
    {
     "data": {
      "text/plain": [
       "N83028    0.003484\n",
       "L83100    0.003513\n",
       "D81043    0.003747\n",
       "B81008    0.003796\n",
       "B81026    0.003835\n",
       "Name: practice, dtype: float64"
      ]
     },
     "execution_count": 96,
     "metadata": {},
     "output_type": "execute_result"
    }
   ],
   "source": [
    "standard_error_per_practice.head()"
   ]
  },
  {
   "cell_type": "code",
   "execution_count": 97,
   "metadata": {},
   "outputs": [
    {
     "data": {
      "text/plain": [
       "A81005   -0.548306\n",
       "A81007    1.544557\n",
       "A81011    2.291795\n",
       "A81012    1.373060\n",
       "A81017    0.583168\n",
       "dtype: float64"
      ]
     },
     "execution_count": 97,
     "metadata": {},
     "output_type": "execute_result"
    }
   ],
   "source": [
    "opioid_scores.head()"
   ]
  },
  {
   "cell_type": "code",
   "execution_count": 98,
   "metadata": {},
   "outputs": [
    {
     "data": {
      "text/plain": [
       "<matplotlib.axes._subplots.AxesSubplot at 0x7f98e0338da0>"
      ]
     },
     "execution_count": 98,
     "metadata": {},
     "output_type": "execute_result"
    },
    {
     "data": {
      "image/png": "[encoded data removed]",
      "text/plain": [
       "<Figure size 864x576 with 1 Axes>"
      ]
     },
     "metadata": {},
     "output_type": "display_data"
    }
   ],
   "source": [
    "opioid_scores.hist()"
   ]
  },
  {
   "cell_type": "markdown",
   "metadata": {},
   "source": [
    "The quantity we have calculated in `opioid_scores` is called a **z-score**:\n",
    "\n",
    "$$ \\frac{\\bar{X} - \\mu}{\\sqrt{\\sigma^2/n}} $$\n",
    "\n",
    "Here $\\bar{X}$ corresponds with the proportion for each practice, $\\mu$ corresponds with the proportion across all practices, $\\sigma^2$ corresponds with the variance of the proportion across all practices, and $n$ is the number of prescriptions made by each practice. Notice $\\bar{X}$ and $n$ will be different for each practice, while $\\mu$ and $\\sigma$ are determined across all prescriptions, and so are the same for every z-score. The z-score is a useful statistical tool used for hypothesis testing, finding outliers, and comparing data about different types of objects or events.\n",
    "\n",
    "Now that we've calculated this statistic, take the 100 practices with the largest z-score. Return your result as a list of tuples in the form `(practice_name, z-score, number_of_scripts)`. Sort your tuples by z-score in descending order. Note that some practice codes will correspond with multiple names. In this case, use the first match when sorting names alphabetically."
   ]
  },
  {
   "cell_type": "code",
   "execution_count": 99,
   "metadata": {},
   "outputs": [
    {
     "data": {
      "text/html": [
       "<div>\n",
       "<style scoped>\n",
       "    .dataframe tbody tr th:only-of-type {\n",
       "        vertical-align: middle;\n",
       "    }\n",
       "\n",
       "    .dataframe tbody tr th {\n",
       "        vertical-align: top;\n",
       "    }\n",
       "\n",
       "    .dataframe thead th {\n",
       "        text-align: right;\n",
       "    }\n",
       "</style>\n",
       "<table border=\"1\" class=\"dataframe\">\n",
       "  <thead>\n",
       "    <tr style=\"text-align: right;\">\n",
       "      <th></th>\n",
       "      <th>code</th>\n",
       "      <th>name</th>\n",
       "      <th>addr_1</th>\n",
       "      <th>addr_2</th>\n",
       "      <th>borough</th>\n",
       "      <th>village</th>\n",
       "      <th>post_code</th>\n",
       "    </tr>\n",
       "  </thead>\n",
       "  <tbody>\n",
       "    <tr>\n",
       "      <th>0</th>\n",
       "      <td>A81001</td>\n",
       "      <td>THE DENSHAM SURGERY</td>\n",
       "      <td>THE HEALTH CENTRE</td>\n",
       "      <td>LAWSON STREET</td>\n",
       "      <td>STOCKTON ON TEES</td>\n",
       "      <td>CLEVELAND</td>\n",
       "      <td>TS18 1HU</td>\n",
       "    </tr>\n",
       "    <tr>\n",
       "      <th>1</th>\n",
       "      <td>A81002</td>\n",
       "      <td>QUEENS PARK MEDICAL CENTRE</td>\n",
       "      <td>QUEENS PARK MEDICAL CTR</td>\n",
       "      <td>FARRER STREET</td>\n",
       "      <td>STOCKTON ON TEES</td>\n",
       "      <td>CLEVELAND</td>\n",
       "      <td>TS18 2AW</td>\n",
       "    </tr>\n",
       "    <tr>\n",
       "      <th>2</th>\n",
       "      <td>A81003</td>\n",
       "      <td>VICTORIA MEDICAL PRACTICE</td>\n",
       "      <td>THE HEALTH CENTRE</td>\n",
       "      <td>VICTORIA ROAD</td>\n",
       "      <td>HARTLEPOOL</td>\n",
       "      <td>CLEVELAND</td>\n",
       "      <td>TS26 8DB</td>\n",
       "    </tr>\n",
       "    <tr>\n",
       "      <th>3</th>\n",
       "      <td>A81004</td>\n",
       "      <td>WOODLANDS ROAD SURGERY</td>\n",
       "      <td>6 WOODLANDS ROAD</td>\n",
       "      <td>NaN</td>\n",
       "      <td>MIDDLESBROUGH</td>\n",
       "      <td>CLEVELAND</td>\n",
       "      <td>TS1 3BE</td>\n",
       "    </tr>\n",
       "    <tr>\n",
       "      <th>4</th>\n",
       "      <td>A81005</td>\n",
       "      <td>SPRINGWOOD SURGERY</td>\n",
       "      <td>SPRINGWOOD SURGERY</td>\n",
       "      <td>RECTORY LANE</td>\n",
       "      <td>GUISBOROUGH</td>\n",
       "      <td>NaN</td>\n",
       "      <td>TS14 7DJ</td>\n",
       "    </tr>\n",
       "  </tbody>\n",
       "</table>\n",
       "</div>"
      ],
      "text/plain": [
       "     code                        name                   addr_1         addr_2  \\\n",
       "0  A81001         THE DENSHAM SURGERY        THE HEALTH CENTRE  LAWSON STREET   \n",
       "1  A81002  QUEENS PARK MEDICAL CENTRE  QUEENS PARK MEDICAL CTR  FARRER STREET   \n",
       "2  A81003   VICTORIA MEDICAL PRACTICE        THE HEALTH CENTRE  VICTORIA ROAD   \n",
       "3  A81004      WOODLANDS ROAD SURGERY         6 WOODLANDS ROAD            NaN   \n",
       "4  A81005          SPRINGWOOD SURGERY       SPRINGWOOD SURGERY   RECTORY LANE   \n",
       "\n",
       "            borough    village post_code  \n",
       "0  STOCKTON ON TEES  CLEVELAND  TS18 1HU  \n",
       "1  STOCKTON ON TEES  CLEVELAND  TS18 2AW  \n",
       "2        HARTLEPOOL  CLEVELAND  TS26 8DB  \n",
       "3     MIDDLESBROUGH  CLEVELAND   TS1 3BE  \n",
       "4       GUISBOROUGH        NaN  TS14 7DJ  "
      ]
     },
     "execution_count": 99,
     "metadata": {},
     "output_type": "execute_result"
    }
   ],
   "source": [
    "practices.head()"
   ]
  },
  {
   "cell_type": "code",
   "execution_count": 100,
   "metadata": {},
   "outputs": [],
   "source": [
    "unique_practices = practices.groupby('code')['name'].min()\n",
    "# anomalies = [(\"NATIONAL ENHANCED SERVICE\", 11.6958178629, 7)] * 100"
   ]
  },
  {
   "cell_type": "code",
   "execution_count": 101,
   "metadata": {},
   "outputs": [
    {
     "data": {
      "text/plain": [
       "pandas.core.series.Series"
      ]
     },
     "execution_count": 101,
     "metadata": {},
     "output_type": "execute_result"
    }
   ],
   "source": [
    "type(unique_practices)"
   ]
  },
  {
   "cell_type": "code",
   "execution_count": 102,
   "metadata": {},
   "outputs": [
    {
     "data": {
      "text/plain": [
       "code\n",
       "A81001           THE DENSHAM SURGERY\n",
       "A81002    QUEENS PARK MEDICAL CENTRE\n",
       "A81003     VICTORIA MEDICAL PRACTICE\n",
       "A81004       BLUEBELL MEDICAL CENTRE\n",
       "A81005            SPRINGWOOD SURGERY\n",
       "Name: name, dtype: object"
      ]
     },
     "execution_count": 102,
     "metadata": {},
     "output_type": "execute_result"
    }
   ],
   "source": [
    "unique_practices.head()"
   ]
  },
  {
   "cell_type": "code",
   "execution_count": 103,
   "metadata": {},
   "outputs": [
    {
     "data": {
      "text/plain": [
       "A81005   -0.548306\n",
       "A81007    1.544557\n",
       "A81011    2.291795\n",
       "A81012    1.373060\n",
       "A81017    0.583168\n",
       "dtype: float64"
      ]
     },
     "execution_count": 103,
     "metadata": {},
     "output_type": "execute_result"
    }
   ],
   "source": [
    "opioid_scores.head()"
   ]
  },
  {
   "cell_type": "code",
   "execution_count": 104,
   "metadata": {},
   "outputs": [
    {
     "data": {
      "text/html": [
       "<div>\n",
       "<style scoped>\n",
       "    .dataframe tbody tr th:only-of-type {\n",
       "        vertical-align: middle;\n",
       "    }\n",
       "\n",
       "    .dataframe tbody tr th {\n",
       "        vertical-align: top;\n",
       "    }\n",
       "\n",
       "    .dataframe thead th {\n",
       "        text-align: right;\n",
       "    }\n",
       "</style>\n",
       "<table border=\"1\" class=\"dataframe\">\n",
       "  <thead>\n",
       "    <tr style=\"text-align: right;\">\n",
       "      <th></th>\n",
       "      <th>0</th>\n",
       "    </tr>\n",
       "  </thead>\n",
       "  <tbody>\n",
       "    <tr>\n",
       "      <th>A81005</th>\n",
       "      <td>-0.548306</td>\n",
       "    </tr>\n",
       "    <tr>\n",
       "      <th>A81007</th>\n",
       "      <td>1.544557</td>\n",
       "    </tr>\n",
       "    <tr>\n",
       "      <th>A81011</th>\n",
       "      <td>2.291795</td>\n",
       "    </tr>\n",
       "    <tr>\n",
       "      <th>A81012</th>\n",
       "      <td>1.373060</td>\n",
       "    </tr>\n",
       "    <tr>\n",
       "      <th>A81017</th>\n",
       "      <td>0.583168</td>\n",
       "    </tr>\n",
       "  </tbody>\n",
       "</table>\n",
       "</div>"
      ],
      "text/plain": [
       "               0\n",
       "A81005 -0.548306\n",
       "A81007  1.544557\n",
       "A81011  2.291795\n",
       "A81012  1.373060\n",
       "A81017  0.583168"
      ]
     },
     "execution_count": 104,
     "metadata": {},
     "output_type": "execute_result"
    }
   ],
   "source": [
    "opioid_scores.to_frame().head()"
   ]
  },
  {
   "cell_type": "code",
   "execution_count": 105,
   "metadata": {},
   "outputs": [],
   "source": [
    "anomalies = opioid_scores.rename('scores').to_frame().join(unique_practices, how='left').head()"
   ]
  },
  {
   "cell_type": "code",
   "execution_count": 106,
   "metadata": {},
   "outputs": [
    {
     "data": {
      "text/html": [
       "<div>\n",
       "<style scoped>\n",
       "    .dataframe tbody tr th:only-of-type {\n",
       "        vertical-align: middle;\n",
       "    }\n",
       "\n",
       "    .dataframe tbody tr th {\n",
       "        vertical-align: top;\n",
       "    }\n",
       "\n",
       "    .dataframe thead th {\n",
       "        text-align: right;\n",
       "    }\n",
       "</style>\n",
       "<table border=\"1\" class=\"dataframe\">\n",
       "  <thead>\n",
       "    <tr style=\"text-align: right;\">\n",
       "      <th></th>\n",
       "      <th>scores</th>\n",
       "      <th>name</th>\n",
       "    </tr>\n",
       "  </thead>\n",
       "  <tbody>\n",
       "    <tr>\n",
       "      <th>A81005</th>\n",
       "      <td>-0.548306</td>\n",
       "      <td>SPRINGWOOD SURGERY</td>\n",
       "    </tr>\n",
       "    <tr>\n",
       "      <th>A81007</th>\n",
       "      <td>1.544557</td>\n",
       "      <td>BANKHOUSE SURGERY</td>\n",
       "    </tr>\n",
       "    <tr>\n",
       "      <th>A81011</th>\n",
       "      <td>2.291795</td>\n",
       "      <td>CHADWICK PRACTICE</td>\n",
       "    </tr>\n",
       "    <tr>\n",
       "      <th>A81012</th>\n",
       "      <td>1.373060</td>\n",
       "      <td>WESTBOURNE MEDICAL CENTRE</td>\n",
       "    </tr>\n",
       "    <tr>\n",
       "      <th>A81017</th>\n",
       "      <td>0.583168</td>\n",
       "      <td>WOODBRIDGE PRACTICE</td>\n",
       "    </tr>\n",
       "  </tbody>\n",
       "</table>\n",
       "</div>"
      ],
      "text/plain": [
       "          scores                       name\n",
       "A81005 -0.548306         SPRINGWOOD SURGERY\n",
       "A81007  1.544557          BANKHOUSE SURGERY\n",
       "A81011  2.291795          CHADWICK PRACTICE\n",
       "A81012  1.373060  WESTBOURNE MEDICAL CENTRE\n",
       "A81017  0.583168        WOODBRIDGE PRACTICE"
      ]
     },
     "execution_count": 106,
     "metadata": {},
     "output_type": "execute_result"
    }
   ],
   "source": [
    "anomalies.head()"
   ]
  },
  {
   "cell_type": "code",
   "execution_count": 107,
   "metadata": {},
   "outputs": [],
   "source": [
    "unique_practices = practices.groupby('code')['name'].min()\n",
    "# anomalies = [(\"NATIONAL ENHANCED SERVICE\", 11.6958178629, 7)] * 100\n",
    "\n",
    "anomalies = opioid_scores.rename('scores').to_frame().join(unique_practices, how='left')"
   ]
  },
  {
   "cell_type": "code",
   "execution_count": 108,
   "metadata": {},
   "outputs": [
    {
     "data": {
      "text/plain": [
       "N83028    2844\n",
       "L83100    2797\n",
       "D81043    2459\n",
       "B81008    2396\n",
       "B81026    2347\n",
       "          ... \n",
       "Y05366       1\n",
       "Y03179       1\n",
       "Y01174       1\n",
       "C85617       1\n",
       "Y03010       1\n",
       "Name: practice, Length: 856, dtype: int64"
      ]
     },
     "execution_count": 108,
     "metadata": {},
     "output_type": "execute_result"
    }
   ],
   "source": [
    "scripts['practice'].value_counts()"
   ]
  },
  {
   "cell_type": "code",
   "execution_count": 109,
   "metadata": {},
   "outputs": [],
   "source": [
    "unique_practices = practices.groupby('code')['name'].min()\n",
    "# anomalies = [(\"NATIONAL ENHANCED SERVICE\", 11.6958178629, 7)] * 100\n",
    "\n",
    "anomalies = opioid_scores.rename('scores').to_frame().join(unique_practices, how='left')\n",
    "\n",
    "anomalies = anomalies.join(scripts['practice'].value_counts(), how='left')"
   ]
  },
  {
   "cell_type": "code",
   "execution_count": 110,
   "metadata": {},
   "outputs": [
    {
     "data": {
      "text/html": [
       "<div>\n",
       "<style scoped>\n",
       "    .dataframe tbody tr th:only-of-type {\n",
       "        vertical-align: middle;\n",
       "    }\n",
       "\n",
       "    .dataframe tbody tr th {\n",
       "        vertical-align: top;\n",
       "    }\n",
       "\n",
       "    .dataframe thead th {\n",
       "        text-align: right;\n",
       "    }\n",
       "</style>\n",
       "<table border=\"1\" class=\"dataframe\">\n",
       "  <thead>\n",
       "    <tr style=\"text-align: right;\">\n",
       "      <th></th>\n",
       "      <th>scores</th>\n",
       "      <th>name</th>\n",
       "      <th>practice</th>\n",
       "    </tr>\n",
       "  </thead>\n",
       "  <tbody>\n",
       "    <tr>\n",
       "      <th>A81005</th>\n",
       "      <td>-0.548306</td>\n",
       "      <td>SPRINGWOOD SURGERY</td>\n",
       "      <td>1507</td>\n",
       "    </tr>\n",
       "    <tr>\n",
       "      <th>A81007</th>\n",
       "      <td>1.544557</td>\n",
       "      <td>BANKHOUSE SURGERY</td>\n",
       "      <td>1454</td>\n",
       "    </tr>\n",
       "    <tr>\n",
       "      <th>A81011</th>\n",
       "      <td>2.291795</td>\n",
       "      <td>CHADWICK PRACTICE</td>\n",
       "      <td>1568</td>\n",
       "    </tr>\n",
       "    <tr>\n",
       "      <th>A81012</th>\n",
       "      <td>1.373060</td>\n",
       "      <td>WESTBOURNE MEDICAL CENTRE</td>\n",
       "      <td>1332</td>\n",
       "    </tr>\n",
       "    <tr>\n",
       "      <th>A81017</th>\n",
       "      <td>0.583168</td>\n",
       "      <td>WOODBRIDGE PRACTICE</td>\n",
       "      <td>2150</td>\n",
       "    </tr>\n",
       "  </tbody>\n",
       "</table>\n",
       "</div>"
      ],
      "text/plain": [
       "          scores                       name  practice\n",
       "A81005 -0.548306         SPRINGWOOD SURGERY      1507\n",
       "A81007  1.544557          BANKHOUSE SURGERY      1454\n",
       "A81011  2.291795          CHADWICK PRACTICE      1568\n",
       "A81012  1.373060  WESTBOURNE MEDICAL CENTRE      1332\n",
       "A81017  0.583168        WOODBRIDGE PRACTICE      2150"
      ]
     },
     "execution_count": 110,
     "metadata": {},
     "output_type": "execute_result"
    }
   ],
   "source": [
    "anomalies.head()"
   ]
  },
  {
   "cell_type": "code",
   "execution_count": 111,
   "metadata": {},
   "outputs": [],
   "source": [
    "anomalies = anomalies.sort_values('scores', ascending=False).head(100)"
   ]
  },
  {
   "cell_type": "code",
   "execution_count": 112,
   "metadata": {},
   "outputs": [
    {
     "data": {
      "text/html": [
       "<div>\n",
       "<style scoped>\n",
       "    .dataframe tbody tr th:only-of-type {\n",
       "        vertical-align: middle;\n",
       "    }\n",
       "\n",
       "    .dataframe tbody tr th {\n",
       "        vertical-align: top;\n",
       "    }\n",
       "\n",
       "    .dataframe thead th {\n",
       "        text-align: right;\n",
       "    }\n",
       "</style>\n",
       "<table border=\"1\" class=\"dataframe\">\n",
       "  <thead>\n",
       "    <tr style=\"text-align: right;\">\n",
       "      <th></th>\n",
       "      <th>scores</th>\n",
       "      <th>name</th>\n",
       "      <th>practice</th>\n",
       "    </tr>\n",
       "  </thead>\n",
       "  <tbody>\n",
       "    <tr>\n",
       "      <th>Y01852</th>\n",
       "      <td>11.695818</td>\n",
       "      <td>NATIONAL ENHANCED SERVICE</td>\n",
       "      <td>7</td>\n",
       "    </tr>\n",
       "    <tr>\n",
       "      <th>Y03006</th>\n",
       "      <td>7.339043</td>\n",
       "      <td>OUTREACH SERVICE NH / RH</td>\n",
       "      <td>2</td>\n",
       "    </tr>\n",
       "    <tr>\n",
       "      <th>Y03668</th>\n",
       "      <td>6.150582</td>\n",
       "      <td>BRISDOC HEALTHCARE SERVICES OOH</td>\n",
       "      <td>60</td>\n",
       "    </tr>\n",
       "    <tr>\n",
       "      <th>G81703</th>\n",
       "      <td>5.123032</td>\n",
       "      <td>H&amp;R P C SPECIAL SCHEME</td>\n",
       "      <td>36</td>\n",
       "    </tr>\n",
       "    <tr>\n",
       "      <th>Y04997</th>\n",
       "      <td>4.958866</td>\n",
       "      <td>HMR BARDOC OOH</td>\n",
       "      <td>321</td>\n",
       "    </tr>\n",
       "  </tbody>\n",
       "</table>\n",
       "</div>"
      ],
      "text/plain": [
       "           scores                             name  practice\n",
       "Y01852  11.695818        NATIONAL ENHANCED SERVICE         7\n",
       "Y03006   7.339043         OUTREACH SERVICE NH / RH         2\n",
       "Y03668   6.150582  BRISDOC HEALTHCARE SERVICES OOH        60\n",
       "G81703   5.123032           H&R P C SPECIAL SCHEME        36\n",
       "Y04997   4.958866                   HMR BARDOC OOH       321"
      ]
     },
     "execution_count": 112,
     "metadata": {},
     "output_type": "execute_result"
    }
   ],
   "source": [
    "anomalies.head()"
   ]
  },
  {
   "cell_type": "code",
   "execution_count": 113,
   "metadata": {},
   "outputs": [
    {
     "data": {
      "text/html": [
       "<div>\n",
       "<style scoped>\n",
       "    .dataframe tbody tr th:only-of-type {\n",
       "        vertical-align: middle;\n",
       "    }\n",
       "\n",
       "    .dataframe tbody tr th {\n",
       "        vertical-align: top;\n",
       "    }\n",
       "\n",
       "    .dataframe thead th {\n",
       "        text-align: right;\n",
       "    }\n",
       "</style>\n",
       "<table border=\"1\" class=\"dataframe\">\n",
       "  <thead>\n",
       "    <tr style=\"text-align: right;\">\n",
       "      <th></th>\n",
       "      <th>name</th>\n",
       "      <th>scores</th>\n",
       "      <th>practice</th>\n",
       "    </tr>\n",
       "  </thead>\n",
       "  <tbody>\n",
       "    <tr>\n",
       "      <th>Y01852</th>\n",
       "      <td>NATIONAL ENHANCED SERVICE</td>\n",
       "      <td>11.695818</td>\n",
       "      <td>7</td>\n",
       "    </tr>\n",
       "    <tr>\n",
       "      <th>Y03006</th>\n",
       "      <td>OUTREACH SERVICE NH / RH</td>\n",
       "      <td>7.339043</td>\n",
       "      <td>2</td>\n",
       "    </tr>\n",
       "    <tr>\n",
       "      <th>Y03668</th>\n",
       "      <td>BRISDOC HEALTHCARE SERVICES OOH</td>\n",
       "      <td>6.150582</td>\n",
       "      <td>60</td>\n",
       "    </tr>\n",
       "    <tr>\n",
       "      <th>G81703</th>\n",
       "      <td>H&amp;R P C SPECIAL SCHEME</td>\n",
       "      <td>5.123032</td>\n",
       "      <td>36</td>\n",
       "    </tr>\n",
       "    <tr>\n",
       "      <th>Y04997</th>\n",
       "      <td>HMR BARDOC OOH</td>\n",
       "      <td>4.958866</td>\n",
       "      <td>321</td>\n",
       "    </tr>\n",
       "  </tbody>\n",
       "</table>\n",
       "</div>"
      ],
      "text/plain": [
       "                                   name     scores  practice\n",
       "Y01852        NATIONAL ENHANCED SERVICE  11.695818         7\n",
       "Y03006         OUTREACH SERVICE NH / RH   7.339043         2\n",
       "Y03668  BRISDOC HEALTHCARE SERVICES OOH   6.150582        60\n",
       "G81703           H&R P C SPECIAL SCHEME   5.123032        36\n",
       "Y04997                   HMR BARDOC OOH   4.958866       321"
      ]
     },
     "execution_count": 113,
     "metadata": {},
     "output_type": "execute_result"
    }
   ],
   "source": [
    "anomalies = anomalies.sort_values('scores', ascending=False).head(100)\n",
    "anomalies = anomalies[['name', 'scores', 'practice']]\n",
    "anomalies.head()"
   ]
  },
  {
   "cell_type": "code",
   "execution_count": 114,
   "metadata": {},
   "outputs": [
    {
     "data": {
      "text/plain": [
       "pandas.core.frame.DataFrame"
      ]
     },
     "execution_count": 114,
     "metadata": {},
     "output_type": "execute_result"
    }
   ],
   "source": [
    "type(anomalies)"
   ]
  },
  {
   "cell_type": "code",
   "execution_count": 115,
   "metadata": {},
   "outputs": [
    {
     "data": {
      "text/plain": [
       "[('NATIONAL ENHANCED SERVICE', 11.695817862936027, 7),\n",
       " ('OUTREACH SERVICE NH / RH', 7.339043019238823, 2),\n",
       " ('BRISDOC HEALTHCARE SERVICES OOH', 6.1505817490838295, 60)]"
      ]
     },
     "execution_count": 115,
     "metadata": {},
     "output_type": "execute_result"
    }
   ],
   "source": [
    "anomalies = list(anomalies.itertuples(index=False, name=None))\n",
    "anomalies[:3]"
   ]
  },
  {
   "cell_type": "code",
   "execution_count": 116,
   "metadata": {},
   "outputs": [],
   "source": [
    "# results.head()"
   ]
  },
  {
   "cell_type": "code",
   "execution_count": 117,
   "metadata": {},
   "outputs": [
    {
     "name": "stdout",
     "output_type": "stream",
     "text": [
      "==================\n",
      "Your score:  1.0\n",
      "==================\n"
     ]
    }
   ],
   "source": [
    "grader.score.dw__script_anomalies(anomalies)"
   ]
  },
  {
   "cell_type": "markdown",
   "metadata": {},
   "source": [
    "## Question 5: script_growth\n",
    "\n",
    "Another way to identify anomalies is by comparing current data to historical data. In the case of identifying sites of drug abuse, we might compare a practice's current rate of opioid prescription to their rate 5 or 10 years ago. Unless the nature of the practice has changed, the profile of drugs they prescribe should be relatively stable. We might also want to identify trends through time for business reasons, identifying drugs that are gaining market share. That's what we'll do in this question.\n",
    "\n",
    "We'll load in beneficiary data from 6 months earlier, June 2016, and calculate the percent growth in prescription rate from June 2016 to January 2017 for each `bnf_name`. We'll return the 50 items with largest growth and the 50 items with the largest shrinkage (i.e. negative percent growth) as a list of tuples sorted by growth rate in descending order in the format `(script_name, growth_rate, raw_2016_count)`. You'll notice that many of the 50 fastest growing items have low counts of prescriptions in 2016. Filter out any items that were prescribed less than 50 times."
   ]
  },
  {
   "cell_type": "code",
   "execution_count": 118,
   "metadata": {},
   "outputs": [
    {
     "data": {
      "text/html": [
       "<div>\n",
       "<style scoped>\n",
       "    .dataframe tbody tr th:only-of-type {\n",
       "        vertical-align: middle;\n",
       "    }\n",
       "\n",
       "    .dataframe tbody tr th {\n",
       "        vertical-align: top;\n",
       "    }\n",
       "\n",
       "    .dataframe thead th {\n",
       "        text-align: right;\n",
       "    }\n",
       "</style>\n",
       "<table border=\"1\" class=\"dataframe\">\n",
       "  <thead>\n",
       "    <tr style=\"text-align: right;\">\n",
       "      <th></th>\n",
       "      <th>practice</th>\n",
       "      <th>bnf_code</th>\n",
       "      <th>bnf_name</th>\n",
       "      <th>items</th>\n",
       "      <th>nic</th>\n",
       "      <th>act_cost</th>\n",
       "      <th>quantity</th>\n",
       "    </tr>\n",
       "  </thead>\n",
       "  <tbody>\n",
       "    <tr>\n",
       "      <th>0</th>\n",
       "      <td>N85638</td>\n",
       "      <td>0301011R0</td>\n",
       "      <td>Salamol_Inha 100mcg (200 D) CFF (Teva)</td>\n",
       "      <td>2</td>\n",
       "      <td>2.92</td>\n",
       "      <td>2.73</td>\n",
       "      <td>2</td>\n",
       "    </tr>\n",
       "    <tr>\n",
       "      <th>1</th>\n",
       "      <td>N85638</td>\n",
       "      <td>0301011R0</td>\n",
       "      <td>Easyhaler_Salbutamol Sulf 200mcg (200D)</td>\n",
       "      <td>1</td>\n",
       "      <td>6.63</td>\n",
       "      <td>6.15</td>\n",
       "      <td>1</td>\n",
       "    </tr>\n",
       "    <tr>\n",
       "      <th>2</th>\n",
       "      <td>N85638</td>\n",
       "      <td>0301020I0</td>\n",
       "      <td>Ipratrop Brom_Inh Soln 500mcg/2ml Ud</td>\n",
       "      <td>1</td>\n",
       "      <td>1.77</td>\n",
       "      <td>1.75</td>\n",
       "      <td>12</td>\n",
       "    </tr>\n",
       "    <tr>\n",
       "      <th>3</th>\n",
       "      <td>N85638</td>\n",
       "      <td>0301020I0</td>\n",
       "      <td>Ipratrop Brom_Inh Soln 250mcg/1ml Ud</td>\n",
       "      <td>1</td>\n",
       "      <td>4.47</td>\n",
       "      <td>4.15</td>\n",
       "      <td>20</td>\n",
       "    </tr>\n",
       "    <tr>\n",
       "      <th>4</th>\n",
       "      <td>N85638</td>\n",
       "      <td>0302000C0</td>\n",
       "      <td>Clenil Modulite_Inha 50mcg (200D)</td>\n",
       "      <td>1</td>\n",
       "      <td>3.70</td>\n",
       "      <td>3.44</td>\n",
       "      <td>1</td>\n",
       "    </tr>\n",
       "    <tr>\n",
       "      <th>5</th>\n",
       "      <td>N85638</td>\n",
       "      <td>0302000C0</td>\n",
       "      <td>Clenil Modulite_Inha 100mcg (200D)</td>\n",
       "      <td>2</td>\n",
       "      <td>14.84</td>\n",
       "      <td>13.76</td>\n",
       "      <td>2</td>\n",
       "    </tr>\n",
       "    <tr>\n",
       "      <th>6</th>\n",
       "      <td>N85638</td>\n",
       "      <td>0302000C0</td>\n",
       "      <td>Clenil Modulite_Inha 200mcg (200D)</td>\n",
       "      <td>1</td>\n",
       "      <td>16.17</td>\n",
       "      <td>14.98</td>\n",
       "      <td>1</td>\n",
       "    </tr>\n",
       "    <tr>\n",
       "      <th>7</th>\n",
       "      <td>N85638</td>\n",
       "      <td>0302000C0</td>\n",
       "      <td>Fostair_Inh 100mcg/6mcg (120D) CFF</td>\n",
       "      <td>3</td>\n",
       "      <td>117.28</td>\n",
       "      <td>108.61</td>\n",
       "      <td>4</td>\n",
       "    </tr>\n",
       "    <tr>\n",
       "      <th>8</th>\n",
       "      <td>N85638</td>\n",
       "      <td>0302000K0</td>\n",
       "      <td>Symbicort_Turbohaler 200mcg/6mcg (120 D)</td>\n",
       "      <td>2</td>\n",
       "      <td>76.00</td>\n",
       "      <td>70.38</td>\n",
       "      <td>2</td>\n",
       "    </tr>\n",
       "    <tr>\n",
       "      <th>9</th>\n",
       "      <td>N85638</td>\n",
       "      <td>0302000K0</td>\n",
       "      <td>Symbicort_Turbohaler 400mcg/12mcg (60 D)</td>\n",
       "      <td>1</td>\n",
       "      <td>38.00</td>\n",
       "      <td>35.19</td>\n",
       "      <td>1</td>\n",
       "    </tr>\n",
       "  </tbody>\n",
       "</table>\n",
       "</div>"
      ],
      "text/plain": [
       "  practice   bnf_code                                  bnf_name  items  \\\n",
       "0   N85638  0301011R0    Salamol_Inha 100mcg (200 D) CFF (Teva)      2   \n",
       "1   N85638  0301011R0   Easyhaler_Salbutamol Sulf 200mcg (200D)      1   \n",
       "2   N85638  0301020I0      Ipratrop Brom_Inh Soln 500mcg/2ml Ud      1   \n",
       "3   N85638  0301020I0      Ipratrop Brom_Inh Soln 250mcg/1ml Ud      1   \n",
       "4   N85638  0302000C0         Clenil Modulite_Inha 50mcg (200D)      1   \n",
       "5   N85638  0302000C0        Clenil Modulite_Inha 100mcg (200D)      2   \n",
       "6   N85638  0302000C0        Clenil Modulite_Inha 200mcg (200D)      1   \n",
       "7   N85638  0302000C0        Fostair_Inh 100mcg/6mcg (120D) CFF      3   \n",
       "8   N85638  0302000K0  Symbicort_Turbohaler 200mcg/6mcg (120 D)      2   \n",
       "9   N85638  0302000K0  Symbicort_Turbohaler 400mcg/12mcg (60 D)      1   \n",
       "\n",
       "      nic  act_cost  quantity  \n",
       "0    2.92      2.73         2  \n",
       "1    6.63      6.15         1  \n",
       "2    1.77      1.75        12  \n",
       "3    4.47      4.15        20  \n",
       "4    3.70      3.44         1  \n",
       "5   14.84     13.76         2  \n",
       "6   16.17     14.98         1  \n",
       "7  117.28    108.61         4  \n",
       "8   76.00     70.38         2  \n",
       "9   38.00     35.19         1  "
      ]
     },
     "execution_count": 118,
     "metadata": {},
     "output_type": "execute_result"
    }
   ],
   "source": [
    "scripts16 = pd.read_csv('./dw-data/201606scripts_sample.csv.gz')\n",
    "scripts16.head(10)"
   ]
  },
  {
   "cell_type": "code",
   "execution_count": 119,
   "metadata": {},
   "outputs": [],
   "source": [
    "from collections import Counter\n",
    "\n",
    "c = Counter(scripts16['bnf_name'].to_list())"
   ]
  },
  {
   "cell_type": "code",
   "execution_count": 120,
   "metadata": {},
   "outputs": [
    {
     "data": {
      "text/plain": [
       "688"
      ]
     },
     "execution_count": 120,
     "metadata": {},
     "output_type": "execute_result"
    }
   ],
   "source": [
    "c['Symbicort_Turbohaler 200mcg/6mcg (120 D)']"
   ]
  },
  {
   "cell_type": "code",
   "execution_count": 121,
   "metadata": {},
   "outputs": [
    {
     "data": {
      "text/plain": [
       "176"
      ]
     },
     "execution_count": 121,
     "metadata": {},
     "output_type": "execute_result"
    }
   ],
   "source": [
    "c['Ipratrop Brom_Inh Soln 250mcg/1ml Ud']"
   ]
  },
  {
   "cell_type": "code",
   "execution_count": 122,
   "metadata": {},
   "outputs": [
    {
     "data": {
      "text/plain": [
       "[('Salamol_Inha 100mcg (200 D) CFF (Teva)', 340),\n",
       " ('Easyhaler_Salbutamol Sulf 200mcg (200D)', 185),\n",
       " ('Ipratrop Brom_Inh Soln 500mcg/2ml Ud', 342),\n",
       " ('Ipratrop Brom_Inh Soln 250mcg/1ml Ud', 176),\n",
       " ('Clenil Modulite_Inha 50mcg (200D)', 692)]"
      ]
     },
     "execution_count": 122,
     "metadata": {},
     "output_type": "execute_result"
    }
   ],
   "source": [
    "# Will tell us how many times the drugs appeared in the 'DataFrame'\n",
    "list(c.items())[:5]"
   ]
  },
  {
   "cell_type": "code",
   "execution_count": 123,
   "metadata": {},
   "outputs": [
    {
     "data": {
      "text/plain": [
       "[('Salamol_Inha 100mcg (200 D) CFF (Teva)', 340),\n",
       " ('Easyhaler_Salbutamol Sulf 200mcg (200D)', 185),\n",
       " ('Ipratrop Brom_Inh Soln 500mcg/2ml Ud', 342),\n",
       " ('Ipratrop Brom_Inh Soln 250mcg/1ml Ud', 176),\n",
       " ('Clenil Modulite_Inha 50mcg (200D)', 692)]"
      ]
     },
     "execution_count": 123,
     "metadata": {},
     "output_type": "execute_result"
    }
   ],
   "source": [
    "from collections import Counter\n",
    "\n",
    "c = Counter(scripts16['bnf_name'].to_list())\n",
    "\n",
    "# Will tell us how many times the drugs appeared in the 'DataFrame'\n",
    "list(c.items())[:5]"
   ]
  },
  {
   "cell_type": "code",
   "execution_count": 124,
   "metadata": {},
   "outputs": [],
   "source": [
    "# To calculate the percent growth in prescription rate from June 2016 to January 2017 for each bnf_name\n",
    "pct_growth =( scripts['bnf_name'].value_counts() \n",
    "             / scripts16['bnf_name'].value_counts() \n",
    "             - 1)"
   ]
  },
  {
   "cell_type": "code",
   "execution_count": 125,
   "metadata": {},
   "outputs": [
    {
     "data": {
      "text/plain": [
       "Vensir XL_Cap 225mg                     92.000\n",
       "Fludroxycortide_Tape 7.5cm x 20cm       52.000\n",
       "Tamiflu_Cap 75mg                        43.000\n",
       "Enstilar_Foam Aero 50mcg/0.5mg/g        27.125\n",
       "Memantine HCl_Orodisper Tab 10mg S/F    27.000\n",
       "Name: bnf_name, dtype: float64"
      ]
     },
     "execution_count": 125,
     "metadata": {},
     "output_type": "execute_result"
    }
   ],
   "source": [
    "pct_growth.sort_values(ascending=False).head()"
   ]
  },
  {
   "cell_type": "code",
   "execution_count": 126,
   "metadata": {},
   "outputs": [
    {
     "data": {
      "text/plain": [
       "GlucoRX FinePoint Needles Pen Inj Screw     1532\n",
       "3m Health Care_Cavilon Durable Barrier C     825\n",
       "Fluclox Sod_Cap 500mg                        796\n",
       "Amoxicillin_Cap 500mg                        790\n",
       "Prednisolone_Tab 5mg                         786\n",
       "                                            ... \n",
       "HealthAid_Vit B Comp Suprem Cap                1\n",
       "Jobst Opaque Class 1 Thigh Open Toe + La       1\n",
       "Askina Foam 10cm x 10cm Wound Dress Poly       1\n",
       "Amphotericin_B Loz 10mg S/F                    1\n",
       "Allopurinol_Oral Soln 100mg/5ml                1\n",
       "Name: bnf_name, Length: 13540, dtype: int64"
      ]
     },
     "execution_count": 126,
     "metadata": {},
     "output_type": "execute_result"
    }
   ],
   "source": [
    "scripts16['bnf_name'].value_counts()"
   ]
  },
  {
   "cell_type": "code",
   "execution_count": 127,
   "metadata": {},
   "outputs": [],
   "source": [
    "pct_growth1 = pd.concat([pct_growth,\n",
    "                         scripts16.bnf_name.value_counts().rename('counts_16')], \n",
    "                        axis=1, \n",
    "                        sort=True)"
   ]
  },
  {
   "cell_type": "code",
   "execution_count": 128,
   "metadata": {},
   "outputs": [
    {
     "data": {
      "text/html": [
       "<div>\n",
       "<style scoped>\n",
       "    .dataframe tbody tr th:only-of-type {\n",
       "        vertical-align: middle;\n",
       "    }\n",
       "\n",
       "    .dataframe tbody tr th {\n",
       "        vertical-align: top;\n",
       "    }\n",
       "\n",
       "    .dataframe thead th {\n",
       "        text-align: right;\n",
       "    }\n",
       "</style>\n",
       "<table border=\"1\" class=\"dataframe\">\n",
       "  <thead>\n",
       "    <tr style=\"text-align: right;\">\n",
       "      <th></th>\n",
       "      <th>bnf_name</th>\n",
       "      <th>counts_16</th>\n",
       "    </tr>\n",
       "  </thead>\n",
       "  <tbody>\n",
       "    <tr>\n",
       "      <th>365 Film 10cm x 12cm VP Adh Film Dress</th>\n",
       "      <td>NaN</td>\n",
       "      <td>NaN</td>\n",
       "    </tr>\n",
       "    <tr>\n",
       "      <th>365 Film 15cm x 20cm VP Adh Film Dress</th>\n",
       "      <td>NaN</td>\n",
       "      <td>1.0</td>\n",
       "    </tr>\n",
       "    <tr>\n",
       "      <th>365 Film 4cm x 5cm VP Adh Film Dress</th>\n",
       "      <td>NaN</td>\n",
       "      <td>1.0</td>\n",
       "    </tr>\n",
       "    <tr>\n",
       "      <th>365 Non Adherent 10cm x 10cm Pfa Plas Fa</th>\n",
       "      <td>0.0</td>\n",
       "      <td>3.0</td>\n",
       "    </tr>\n",
       "    <tr>\n",
       "      <th>365 Non Adherent 10cm x 20cm Pfa Plas Fa</th>\n",
       "      <td>NaN</td>\n",
       "      <td>NaN</td>\n",
       "    </tr>\n",
       "  </tbody>\n",
       "</table>\n",
       "</div>"
      ],
      "text/plain": [
       "                                          bnf_name  counts_16\n",
       "365 Film 10cm x 12cm VP Adh Film Dress         NaN        NaN\n",
       "365 Film 15cm x 20cm VP Adh Film Dress         NaN        1.0\n",
       "365 Film 4cm x 5cm VP Adh Film Dress           NaN        1.0\n",
       "365 Non Adherent 10cm x 10cm Pfa Plas Fa       0.0        3.0\n",
       "365 Non Adherent 10cm x 20cm Pfa Plas Fa       NaN        NaN"
      ]
     },
     "execution_count": 128,
     "metadata": {},
     "output_type": "execute_result"
    }
   ],
   "source": [
    "pct_growth1.head()"
   ]
  },
  {
   "cell_type": "code",
   "execution_count": 129,
   "metadata": {},
   "outputs": [],
   "source": [
    "# To calculate the percent growth in prescription rate from June 2016 to January 2017 for each bnf_name\n",
    "pct_growth =( scripts['bnf_name'].value_counts() \n",
    "             / scripts16['bnf_name'].value_counts() \n",
    "             - 1)\n",
    "\n",
    "pct_growth = pd.concat([pct_growth,\n",
    "                         scripts16.bnf_name.value_counts().rename('counts_16')], \n",
    "                        axis=1, \n",
    "                        sort=True)"
   ]
  },
  {
   "cell_type": "code",
   "execution_count": 130,
   "metadata": {},
   "outputs": [
    {
     "data": {
      "text/html": [
       "<div>\n",
       "<style scoped>\n",
       "    .dataframe tbody tr th:only-of-type {\n",
       "        vertical-align: middle;\n",
       "    }\n",
       "\n",
       "    .dataframe tbody tr th {\n",
       "        vertical-align: top;\n",
       "    }\n",
       "\n",
       "    .dataframe thead th {\n",
       "        text-align: right;\n",
       "    }\n",
       "</style>\n",
       "<table border=\"1\" class=\"dataframe\">\n",
       "  <thead>\n",
       "    <tr style=\"text-align: right;\">\n",
       "      <th></th>\n",
       "      <th>bnf_name</th>\n",
       "      <th>counts_16</th>\n",
       "    </tr>\n",
       "  </thead>\n",
       "  <tbody>\n",
       "    <tr>\n",
       "      <th>Butec_Transdermal Patch 5mcg/hr</th>\n",
       "      <td>3.467742</td>\n",
       "      <td>62.0</td>\n",
       "    </tr>\n",
       "    <tr>\n",
       "      <th>Butec_Transdermal Patch 10mcg/hr</th>\n",
       "      <td>3.000000</td>\n",
       "      <td>69.0</td>\n",
       "    </tr>\n",
       "    <tr>\n",
       "      <th>Fostair NEXThaler_Inh 200mcg/6mcg (120D)</th>\n",
       "      <td>1.430233</td>\n",
       "      <td>86.0</td>\n",
       "    </tr>\n",
       "    <tr>\n",
       "      <th>Pneumococcal_Vac 0.5ml Vl (23 Valent)</th>\n",
       "      <td>1.269430</td>\n",
       "      <td>193.0</td>\n",
       "    </tr>\n",
       "    <tr>\n",
       "      <th>Spiolto Respimat_Inha2.5/2.5mcg(60D)+Dev</th>\n",
       "      <td>1.269231</td>\n",
       "      <td>52.0</td>\n",
       "    </tr>\n",
       "  </tbody>\n",
       "</table>\n",
       "</div>"
      ],
      "text/plain": [
       "                                          bnf_name  counts_16\n",
       "Butec_Transdermal Patch 5mcg/hr           3.467742       62.0\n",
       "Butec_Transdermal Patch 10mcg/hr          3.000000       69.0\n",
       "Fostair NEXThaler_Inh 200mcg/6mcg (120D)  1.430233       86.0\n",
       "Pneumococcal_Vac 0.5ml Vl (23 Valent)     1.269430      193.0\n",
       "Spiolto Respimat_Inha2.5/2.5mcg(60D)+Dev  1.269231       52.0"
      ]
     },
     "execution_count": 130,
     "metadata": {},
     "output_type": "execute_result"
    }
   ],
   "source": [
    "mask = pct_growth['counts_16'] > 50\n",
    "pct_growth[mask].sort_values('bnf_name', ascending=False).head()"
   ]
  },
  {
   "cell_type": "code",
   "execution_count": 132,
   "metadata": {},
   "outputs": [],
   "source": [
    "# To calculate the percent growth in prescription rate from June 2016 to January 2017 for each bnf_name\n",
    "pct_growth =( scripts['bnf_name'].value_counts() \n",
    "             / scripts16['bnf_name'].value_counts() \n",
    "             - 1)\n",
    "# Add 'bnf_name.value_counts() from 2016'\n",
    "pct_growth = pd.concat([pct_growth.rename('pct_growth'),\n",
    "                         scripts16.bnf_name.value_counts().rename('counts_16')], \n",
    "                        axis=1, \n",
    "                        sort=True)\n",
    "\n",
    "# Filter and Drop NA\n",
    "mask = pct_growth['counts_16'] >= 50\n",
    "filtered_growth = pct_growth[mask].dropna().sort_values('counts_16', ascending=False)"
   ]
  },
  {
   "cell_type": "code",
   "execution_count": 133,
   "metadata": {},
   "outputs": [
    {
     "data": {
      "text/html": [
       "<div>\n",
       "<style scoped>\n",
       "    .dataframe tbody tr th:only-of-type {\n",
       "        vertical-align: middle;\n",
       "    }\n",
       "\n",
       "    .dataframe tbody tr th {\n",
       "        vertical-align: top;\n",
       "    }\n",
       "\n",
       "    .dataframe thead th {\n",
       "        text-align: right;\n",
       "    }\n",
       "</style>\n",
       "<table border=\"1\" class=\"dataframe\">\n",
       "  <thead>\n",
       "    <tr style=\"text-align: right;\">\n",
       "      <th></th>\n",
       "      <th>pct_growth</th>\n",
       "      <th>counts_16</th>\n",
       "    </tr>\n",
       "  </thead>\n",
       "  <tbody>\n",
       "    <tr>\n",
       "      <th>365 Film 10cm x 12cm VP Adh Film Dress</th>\n",
       "      <td>NaN</td>\n",
       "      <td>NaN</td>\n",
       "    </tr>\n",
       "    <tr>\n",
       "      <th>365 Film 15cm x 20cm VP Adh Film Dress</th>\n",
       "      <td>NaN</td>\n",
       "      <td>1.0</td>\n",
       "    </tr>\n",
       "    <tr>\n",
       "      <th>365 Film 4cm x 5cm VP Adh Film Dress</th>\n",
       "      <td>NaN</td>\n",
       "      <td>1.0</td>\n",
       "    </tr>\n",
       "    <tr>\n",
       "      <th>365 Non Adherent 10cm x 10cm Pfa Plas Fa</th>\n",
       "      <td>0.0</td>\n",
       "      <td>3.0</td>\n",
       "    </tr>\n",
       "    <tr>\n",
       "      <th>365 Non Adherent 10cm x 20cm Pfa Plas Fa</th>\n",
       "      <td>NaN</td>\n",
       "      <td>NaN</td>\n",
       "    </tr>\n",
       "  </tbody>\n",
       "</table>\n",
       "</div>"
      ],
      "text/plain": [
       "                                          pct_growth  counts_16\n",
       "365 Film 10cm x 12cm VP Adh Film Dress           NaN        NaN\n",
       "365 Film 15cm x 20cm VP Adh Film Dress           NaN        1.0\n",
       "365 Film 4cm x 5cm VP Adh Film Dress             NaN        1.0\n",
       "365 Non Adherent 10cm x 10cm Pfa Plas Fa         0.0        3.0\n",
       "365 Non Adherent 10cm x 20cm Pfa Plas Fa         NaN        NaN"
      ]
     },
     "execution_count": 133,
     "metadata": {},
     "output_type": "execute_result"
    }
   ],
   "source": [
    "pct_growth.head()"
   ]
  },
  {
   "cell_type": "code",
   "execution_count": 134,
   "metadata": {},
   "outputs": [
    {
     "data": {
      "text/plain": [
       "(15424, 2)"
      ]
     },
     "execution_count": 134,
     "metadata": {},
     "output_type": "execute_result"
    }
   ],
   "source": [
    "pct_growth.shape"
   ]
  },
  {
   "cell_type": "code",
   "execution_count": 135,
   "metadata": {
    "scrolled": true
   },
   "outputs": [
    {
     "data": {
      "text/html": [
       "<div>\n",
       "<style scoped>\n",
       "    .dataframe tbody tr th:only-of-type {\n",
       "        vertical-align: middle;\n",
       "    }\n",
       "\n",
       "    .dataframe tbody tr th {\n",
       "        vertical-align: top;\n",
       "    }\n",
       "\n",
       "    .dataframe thead th {\n",
       "        text-align: right;\n",
       "    }\n",
       "</style>\n",
       "<table border=\"1\" class=\"dataframe\">\n",
       "  <thead>\n",
       "    <tr style=\"text-align: right;\">\n",
       "      <th></th>\n",
       "      <th>pct_growth</th>\n",
       "      <th>counts_16</th>\n",
       "    </tr>\n",
       "  </thead>\n",
       "  <tbody>\n",
       "    <tr>\n",
       "      <th>365 Film 10cm x 12cm VP Adh Film Dress</th>\n",
       "      <td>NaN</td>\n",
       "      <td>NaN</td>\n",
       "    </tr>\n",
       "    <tr>\n",
       "      <th>365 Film 15cm x 20cm VP Adh Film Dress</th>\n",
       "      <td>NaN</td>\n",
       "      <td>1.0</td>\n",
       "    </tr>\n",
       "    <tr>\n",
       "      <th>365 Film 4cm x 5cm VP Adh Film Dress</th>\n",
       "      <td>NaN</td>\n",
       "      <td>1.0</td>\n",
       "    </tr>\n",
       "    <tr>\n",
       "      <th>365 Non Adherent 10cm x 10cm Pfa Plas Fa</th>\n",
       "      <td>0.000000</td>\n",
       "      <td>3.0</td>\n",
       "    </tr>\n",
       "    <tr>\n",
       "      <th>365 Non Adherent 10cm x 20cm Pfa Plas Fa</th>\n",
       "      <td>NaN</td>\n",
       "      <td>NaN</td>\n",
       "    </tr>\n",
       "    <tr>\n",
       "      <th>365 Non Woven Island 10cm x 10cm Adh Dre</th>\n",
       "      <td>NaN</td>\n",
       "      <td>1.0</td>\n",
       "    </tr>\n",
       "    <tr>\n",
       "      <th>365 Non Woven Island 10cm x 15cm Adh Dre</th>\n",
       "      <td>NaN</td>\n",
       "      <td>1.0</td>\n",
       "    </tr>\n",
       "    <tr>\n",
       "      <th>365 Non Woven Island 6cm x 8cm Adh Dress</th>\n",
       "      <td>NaN</td>\n",
       "      <td>1.0</td>\n",
       "    </tr>\n",
       "    <tr>\n",
       "      <th>365 Non Woven Island 8cm x 10cm Adh Dres</th>\n",
       "      <td>NaN</td>\n",
       "      <td>NaN</td>\n",
       "    </tr>\n",
       "    <tr>\n",
       "      <th>365 Transpt Island 12cm x 10cm VP Adh Fi</th>\n",
       "      <td>NaN</td>\n",
       "      <td>4.0</td>\n",
       "    </tr>\n",
       "    <tr>\n",
       "      <th>365 Transpt Island 5cm x 7.2cm VP Adh Fi</th>\n",
       "      <td>NaN</td>\n",
       "      <td>NaN</td>\n",
       "    </tr>\n",
       "    <tr>\n",
       "      <th>365 Transpt Island 8.5cm x 15.5cm VP Adh</th>\n",
       "      <td>0.000000</td>\n",
       "      <td>1.0</td>\n",
       "    </tr>\n",
       "    <tr>\n",
       "      <th>3M Kind Removal 2.5cm x 5m Surg Adh Tape</th>\n",
       "      <td>NaN</td>\n",
       "      <td>2.0</td>\n",
       "    </tr>\n",
       "    <tr>\n",
       "      <th>3M Kind Removal 5cm x 5m Surg Adh Tape S</th>\n",
       "      <td>NaN</td>\n",
       "      <td>2.0</td>\n",
       "    </tr>\n",
       "    <tr>\n",
       "      <th>3M Micropore Silicone 2.5cm x 5m Surg Ad</th>\n",
       "      <td>NaN</td>\n",
       "      <td>NaN</td>\n",
       "    </tr>\n",
       "    <tr>\n",
       "      <th>3M Micropore Silicone 5cm x 5m Surg Adh</th>\n",
       "      <td>NaN</td>\n",
       "      <td>NaN</td>\n",
       "    </tr>\n",
       "    <tr>\n",
       "      <th>3m Health Care_Cavilon Durable Barrier C</th>\n",
       "      <td>-0.010909</td>\n",
       "      <td>825.0</td>\n",
       "    </tr>\n",
       "    <tr>\n",
       "      <th>3m Health Care_Cavilon No Sting 1ml Barr</th>\n",
       "      <td>-0.034632</td>\n",
       "      <td>231.0</td>\n",
       "    </tr>\n",
       "    <tr>\n",
       "      <th>3m Health Care_Cavilon No Sting 3ml Barr</th>\n",
       "      <td>-0.104762</td>\n",
       "      <td>105.0</td>\n",
       "    </tr>\n",
       "    <tr>\n",
       "      <th>3m Health Care_Cavilon No Sting Barrier</th>\n",
       "      <td>-0.092511</td>\n",
       "      <td>454.0</td>\n",
       "    </tr>\n",
       "    <tr>\n",
       "      <th>4Head_Top Headache Relief Stick</th>\n",
       "      <td>1.000000</td>\n",
       "      <td>2.0</td>\n",
       "    </tr>\n",
       "    <tr>\n",
       "      <th>A &amp; P_Infants Pdrs</th>\n",
       "      <td>0.000000</td>\n",
       "      <td>5.0</td>\n",
       "    </tr>\n",
       "    <tr>\n",
       "      <th>A.S Saliva Orthana Spy 50ml (App)</th>\n",
       "      <td>0.440476</td>\n",
       "      <td>84.0</td>\n",
       "    </tr>\n",
       "    <tr>\n",
       "      <th>A.S Saliva Orthana Spy Refill 500ml (App</th>\n",
       "      <td>-0.333333</td>\n",
       "      <td>9.0</td>\n",
       "    </tr>\n",
       "    <tr>\n",
       "      <th>A.T. 10_Soln 0.25mg/1ml</th>\n",
       "      <td>NaN</td>\n",
       "      <td>NaN</td>\n",
       "    </tr>\n",
       "    <tr>\n",
       "      <th>A2A Spacer</th>\n",
       "      <td>0.533333</td>\n",
       "      <td>15.0</td>\n",
       "    </tr>\n",
       "    <tr>\n",
       "      <th>A2A Spacer + Sml/Med Mask</th>\n",
       "      <td>0.409091</td>\n",
       "      <td>44.0</td>\n",
       "    </tr>\n",
       "    <tr>\n",
       "      <th>AAA_Sore Throat A/Spy 7.5g</th>\n",
       "      <td>-0.428571</td>\n",
       "      <td>7.0</td>\n",
       "    </tr>\n",
       "    <tr>\n",
       "      <th>ACC-600_Tab Eff</th>\n",
       "      <td>NaN</td>\n",
       "      <td>NaN</td>\n",
       "    </tr>\n",
       "    <tr>\n",
       "      <th>ACWY Vax_Vac 0.5ml Vl + Dil</th>\n",
       "      <td>NaN</td>\n",
       "      <td>2.0</td>\n",
       "    </tr>\n",
       "    <tr>\n",
       "      <th>AMI_Corsinel Suportx Ab Belt High Wte Ex</th>\n",
       "      <td>NaN</td>\n",
       "      <td>NaN</td>\n",
       "    </tr>\n",
       "    <tr>\n",
       "      <th>AMI_Corsinel Suportx Ab Belt Low Wte Sml</th>\n",
       "      <td>NaN</td>\n",
       "      <td>NaN</td>\n",
       "    </tr>\n",
       "    <tr>\n",
       "      <th>AMI_Corsinel Suportx Ab Tube Wte ExLge (</th>\n",
       "      <td>0.000000</td>\n",
       "      <td>1.0</td>\n",
       "    </tr>\n",
       "    <tr>\n",
       "      <th>AMI_Corsinel Suportx Ab Tube Wte Lge (94</th>\n",
       "      <td>3.000000</td>\n",
       "      <td>1.0</td>\n",
       "    </tr>\n",
       "    <tr>\n",
       "      <th>AMI_Corsinel Suportx Ab Tube Wte Med (86</th>\n",
       "      <td>1.000000</td>\n",
       "      <td>2.0</td>\n",
       "    </tr>\n",
       "    <tr>\n",
       "      <th>AMI_Corsinel Suportx Ab Tube Wte Sml (78</th>\n",
       "      <td>0.000000</td>\n",
       "      <td>2.0</td>\n",
       "    </tr>\n",
       "    <tr>\n",
       "      <th>AMI_Corsinel Suportx Ab Tube Wte XSml (7</th>\n",
       "      <td>NaN</td>\n",
       "      <td>1.0</td>\n",
       "    </tr>\n",
       "    <tr>\n",
       "      <th>AMI_Corsinel Suportx Easy Panel Belt Wte</th>\n",
       "      <td>0.000000</td>\n",
       "      <td>1.0</td>\n",
       "    </tr>\n",
       "    <tr>\n",
       "      <th>AMI_Corsinel Suportx M/M Fle</th>\n",
       "      <td>-0.400000</td>\n",
       "      <td>5.0</td>\n",
       "    </tr>\n",
       "    <tr>\n",
       "      <th>AMI_Corsinel Suportx M/M Male</th>\n",
       "      <td>NaN</td>\n",
       "      <td>NaN</td>\n",
       "    </tr>\n",
       "    <tr>\n",
       "      <th>AMI_Corsinel Suportx StomaSafe Plus Belt</th>\n",
       "      <td>NaN</td>\n",
       "      <td>10.0</td>\n",
       "    </tr>\n",
       "    <tr>\n",
       "      <th>AMI_Suportx Hernia Support Girdles Fle H</th>\n",
       "      <td>-0.166667</td>\n",
       "      <td>6.0</td>\n",
       "    </tr>\n",
       "    <tr>\n",
       "      <th>AMI_Suportx Hernia Support Girdles Fle L</th>\n",
       "      <td>0.461538</td>\n",
       "      <td>13.0</td>\n",
       "    </tr>\n",
       "    <tr>\n",
       "      <th>AMI_Suportx Hernia Support Girdles Male</th>\n",
       "      <td>-0.250000</td>\n",
       "      <td>8.0</td>\n",
       "    </tr>\n",
       "    <tr>\n",
       "      <th>AMI_Suportx Ostomy &amp; A/Support Ladies Br</th>\n",
       "      <td>-0.153846</td>\n",
       "      <td>13.0</td>\n",
       "    </tr>\n",
       "    <tr>\n",
       "      <th>AMI_Suportx Ostomy &amp; A/Support Ladies Sh</th>\n",
       "      <td>NaN</td>\n",
       "      <td>3.0</td>\n",
       "    </tr>\n",
       "    <tr>\n",
       "      <th>AMI_Suportx Ostomy Support Mens Shorts B</th>\n",
       "      <td>0.500000</td>\n",
       "      <td>2.0</td>\n",
       "    </tr>\n",
       "    <tr>\n",
       "      <th>AMI_Suportx Ostomy Support Mens Shorts D</th>\n",
       "      <td>0.000000</td>\n",
       "      <td>2.0</td>\n",
       "    </tr>\n",
       "    <tr>\n",
       "      <th>AMI_Suportx Ostomy Support Mens Shorts W</th>\n",
       "      <td>-0.500000</td>\n",
       "      <td>2.0</td>\n",
       "    </tr>\n",
       "    <tr>\n",
       "      <th>AMI_Suportx Ostomy Support Mens Trunks B</th>\n",
       "      <td>1.666667</td>\n",
       "      <td>3.0</td>\n",
       "    </tr>\n",
       "  </tbody>\n",
       "</table>\n",
       "</div>"
      ],
      "text/plain": [
       "                                          pct_growth  counts_16\n",
       "365 Film 10cm x 12cm VP Adh Film Dress           NaN        NaN\n",
       "365 Film 15cm x 20cm VP Adh Film Dress           NaN        1.0\n",
       "365 Film 4cm x 5cm VP Adh Film Dress             NaN        1.0\n",
       "365 Non Adherent 10cm x 10cm Pfa Plas Fa    0.000000        3.0\n",
       "365 Non Adherent 10cm x 20cm Pfa Plas Fa         NaN        NaN\n",
       "365 Non Woven Island 10cm x 10cm Adh Dre         NaN        1.0\n",
       "365 Non Woven Island 10cm x 15cm Adh Dre         NaN        1.0\n",
       "365 Non Woven Island 6cm x 8cm Adh Dress         NaN        1.0\n",
       "365 Non Woven Island 8cm x 10cm Adh Dres         NaN        NaN\n",
       "365 Transpt Island 12cm x 10cm VP Adh Fi         NaN        4.0\n",
       "365 Transpt Island 5cm x 7.2cm VP Adh Fi         NaN        NaN\n",
       "365 Transpt Island 8.5cm x 15.5cm VP Adh    0.000000        1.0\n",
       "3M Kind Removal 2.5cm x 5m Surg Adh Tape         NaN        2.0\n",
       "3M Kind Removal 5cm x 5m Surg Adh Tape S         NaN        2.0\n",
       "3M Micropore Silicone 2.5cm x 5m Surg Ad         NaN        NaN\n",
       "3M Micropore Silicone 5cm x 5m Surg Adh          NaN        NaN\n",
       "3m Health Care_Cavilon Durable Barrier C   -0.010909      825.0\n",
       "3m Health Care_Cavilon No Sting 1ml Barr   -0.034632      231.0\n",
       "3m Health Care_Cavilon No Sting 3ml Barr   -0.104762      105.0\n",
       "3m Health Care_Cavilon No Sting Barrier    -0.092511      454.0\n",
       "4Head_Top Headache Relief Stick             1.000000        2.0\n",
       "A & P_Infants Pdrs                          0.000000        5.0\n",
       "A.S Saliva Orthana Spy 50ml (App)           0.440476       84.0\n",
       "A.S Saliva Orthana Spy Refill 500ml (App   -0.333333        9.0\n",
       "A.T. 10_Soln 0.25mg/1ml                          NaN        NaN\n",
       "A2A Spacer                                  0.533333       15.0\n",
       "A2A Spacer + Sml/Med Mask                   0.409091       44.0\n",
       "AAA_Sore Throat A/Spy 7.5g                 -0.428571        7.0\n",
       "ACC-600_Tab Eff                                  NaN        NaN\n",
       "ACWY Vax_Vac 0.5ml Vl + Dil                      NaN        2.0\n",
       "AMI_Corsinel Suportx Ab Belt High Wte Ex         NaN        NaN\n",
       "AMI_Corsinel Suportx Ab Belt Low Wte Sml         NaN        NaN\n",
       "AMI_Corsinel Suportx Ab Tube Wte ExLge (    0.000000        1.0\n",
       "AMI_Corsinel Suportx Ab Tube Wte Lge (94    3.000000        1.0\n",
       "AMI_Corsinel Suportx Ab Tube Wte Med (86    1.000000        2.0\n",
       "AMI_Corsinel Suportx Ab Tube Wte Sml (78    0.000000        2.0\n",
       "AMI_Corsinel Suportx Ab Tube Wte XSml (7         NaN        1.0\n",
       "AMI_Corsinel Suportx Easy Panel Belt Wte    0.000000        1.0\n",
       "AMI_Corsinel Suportx M/M Fle               -0.400000        5.0\n",
       "AMI_Corsinel Suportx M/M Male                    NaN        NaN\n",
       "AMI_Corsinel Suportx StomaSafe Plus Belt         NaN       10.0\n",
       "AMI_Suportx Hernia Support Girdles Fle H   -0.166667        6.0\n",
       "AMI_Suportx Hernia Support Girdles Fle L    0.461538       13.0\n",
       "AMI_Suportx Hernia Support Girdles Male    -0.250000        8.0\n",
       "AMI_Suportx Ostomy & A/Support Ladies Br   -0.153846       13.0\n",
       "AMI_Suportx Ostomy & A/Support Ladies Sh         NaN        3.0\n",
       "AMI_Suportx Ostomy Support Mens Shorts B    0.500000        2.0\n",
       "AMI_Suportx Ostomy Support Mens Shorts D    0.000000        2.0\n",
       "AMI_Suportx Ostomy Support Mens Shorts W   -0.500000        2.0\n",
       "AMI_Suportx Ostomy Support Mens Trunks B    1.666667        3.0"
      ]
     },
     "execution_count": 135,
     "metadata": {},
     "output_type": "execute_result"
    }
   ],
   "source": [
    "pct_growth.iloc[:50]"
   ]
  },
  {
   "cell_type": "code",
   "execution_count": 136,
   "metadata": {
    "scrolled": true
   },
   "outputs": [
    {
     "data": {
      "text/html": [
       "<div>\n",
       "<style scoped>\n",
       "    .dataframe tbody tr th:only-of-type {\n",
       "        vertical-align: middle;\n",
       "    }\n",
       "\n",
       "    .dataframe tbody tr th {\n",
       "        vertical-align: top;\n",
       "    }\n",
       "\n",
       "    .dataframe thead th {\n",
       "        text-align: right;\n",
       "    }\n",
       "</style>\n",
       "<table border=\"1\" class=\"dataframe\">\n",
       "  <thead>\n",
       "    <tr style=\"text-align: right;\">\n",
       "      <th></th>\n",
       "      <th>pct_growth</th>\n",
       "      <th>counts_16</th>\n",
       "    </tr>\n",
       "  </thead>\n",
       "  <tbody>\n",
       "    <tr>\n",
       "      <th>iHealth (Reagent)_Strips</th>\n",
       "      <td>-0.500000</td>\n",
       "      <td>2.0</td>\n",
       "    </tr>\n",
       "    <tr>\n",
       "      <th>iMEDicare Select Maint Set Constrictor R</th>\n",
       "      <td>NaN</td>\n",
       "      <td>2.0</td>\n",
       "    </tr>\n",
       "    <tr>\n",
       "      <th>iMEDicare SomaCorrect Vacuum Pump</th>\n",
       "      <td>NaN</td>\n",
       "      <td>NaN</td>\n",
       "    </tr>\n",
       "    <tr>\n",
       "      <th>iMEDicare SomaCorrect Xtra Vacuum Pump</th>\n",
       "      <td>0.181818</td>\n",
       "      <td>11.0</td>\n",
       "    </tr>\n",
       "    <tr>\n",
       "      <th>iMEDicare SomaErect Response II Vacuum P</th>\n",
       "      <td>-0.040000</td>\n",
       "      <td>25.0</td>\n",
       "    </tr>\n",
       "    <tr>\n",
       "      <th>iMEDicare SomaErect Response II XL Vacuu</th>\n",
       "      <td>2.000000</td>\n",
       "      <td>2.0</td>\n",
       "    </tr>\n",
       "    <tr>\n",
       "      <th>iMEDicare SureEase Maint Set Constrictor</th>\n",
       "      <td>NaN</td>\n",
       "      <td>2.0</td>\n",
       "    </tr>\n",
       "    <tr>\n",
       "      <th>iMEDicare Ultimate (Surefit) Maint Set C</th>\n",
       "      <td>0.075000</td>\n",
       "      <td>40.0</td>\n",
       "    </tr>\n",
       "    <tr>\n",
       "      <th>iMEDicare Ultra Maint Set Constrictor Ri</th>\n",
       "      <td>0.500000</td>\n",
       "      <td>2.0</td>\n",
       "    </tr>\n",
       "    <tr>\n",
       "      <th>iMEDicare_Afex Active L Urin</th>\n",
       "      <td>NaN</td>\n",
       "      <td>NaN</td>\n",
       "    </tr>\n",
       "    <tr>\n",
       "      <th>iMEDicare_Afex Active M Urin</th>\n",
       "      <td>NaN</td>\n",
       "      <td>1.0</td>\n",
       "    </tr>\n",
       "    <tr>\n",
       "      <th>iMEDicare_Afex Core L Urin System</th>\n",
       "      <td>NaN</td>\n",
       "      <td>NaN</td>\n",
       "    </tr>\n",
       "    <tr>\n",
       "      <th>iMEDicare_Afex Mobility Assisted M Urin</th>\n",
       "      <td>NaN</td>\n",
       "      <td>NaN</td>\n",
       "    </tr>\n",
       "    <tr>\n",
       "      <th>iMEDicare_Brief Lge</th>\n",
       "      <td>NaN</td>\n",
       "      <td>NaN</td>\n",
       "    </tr>\n",
       "    <tr>\n",
       "      <th>iMEDicare_Brief Med</th>\n",
       "      <td>NaN</td>\n",
       "      <td>1.0</td>\n",
       "    </tr>\n",
       "    <tr>\n",
       "      <th>iMEDicare_Brief Sml</th>\n",
       "      <td>NaN</td>\n",
       "      <td>NaN</td>\n",
       "    </tr>\n",
       "    <tr>\n",
       "      <th>iMEDicare_Brief XL</th>\n",
       "      <td>NaN</td>\n",
       "      <td>NaN</td>\n",
       "    </tr>\n",
       "    <tr>\n",
       "      <th>iMEDicare_High Receptacle</th>\n",
       "      <td>0.500000</td>\n",
       "      <td>2.0</td>\n",
       "    </tr>\n",
       "    <tr>\n",
       "      <th>iMEDicare_Leg Bag Holder Blk</th>\n",
       "      <td>0.000000</td>\n",
       "      <td>1.0</td>\n",
       "    </tr>\n",
       "    <tr>\n",
       "      <th>iMEDicare_Low Receptacle</th>\n",
       "      <td>NaN</td>\n",
       "      <td>NaN</td>\n",
       "    </tr>\n",
       "    <tr>\n",
       "      <th>iMEDicare_Tube Assembly Complete</th>\n",
       "      <td>NaN</td>\n",
       "      <td>NaN</td>\n",
       "    </tr>\n",
       "    <tr>\n",
       "      <th>iMEDicare_Urine Collection Bag 1200ml</th>\n",
       "      <td>NaN</td>\n",
       "      <td>NaN</td>\n",
       "    </tr>\n",
       "    <tr>\n",
       "      <th>iMEDicare_Urine Collection Bag 1500ml</th>\n",
       "      <td>NaN</td>\n",
       "      <td>NaN</td>\n",
       "    </tr>\n",
       "    <tr>\n",
       "      <th>iMEDicare_Urine Collection Bag 2000ml</th>\n",
       "      <td>NaN</td>\n",
       "      <td>1.0</td>\n",
       "    </tr>\n",
       "    <tr>\n",
       "      <th>iMEDicare_Urine Collection Bag 500ml</th>\n",
       "      <td>0.500000</td>\n",
       "      <td>2.0</td>\n",
       "    </tr>\n",
       "    <tr>\n",
       "      <th>iMEDicare_Urine Collection Bag 500ml Ven</th>\n",
       "      <td>NaN</td>\n",
       "      <td>NaN</td>\n",
       "    </tr>\n",
       "    <tr>\n",
       "      <th>imuDERM Urea Emollient</th>\n",
       "      <td>0.636364</td>\n",
       "      <td>11.0</td>\n",
       "    </tr>\n",
       "    <tr>\n",
       "      <th>kliniderm Foam Lite Border 10cm x 10cm W</th>\n",
       "      <td>NaN</td>\n",
       "      <td>NaN</td>\n",
       "    </tr>\n",
       "    <tr>\n",
       "      <th>kliniderm Foam Lite Border 15cm x 15cm W</th>\n",
       "      <td>0.000000</td>\n",
       "      <td>1.0</td>\n",
       "    </tr>\n",
       "    <tr>\n",
       "      <th>kliniderm Foam Lite Border 4cm x 5cm Wou</th>\n",
       "      <td>2.000000</td>\n",
       "      <td>1.0</td>\n",
       "    </tr>\n",
       "    <tr>\n",
       "      <th>kliniderm Foam Lite Border 7.5cmx7.5cm W</th>\n",
       "      <td>NaN</td>\n",
       "      <td>NaN</td>\n",
       "    </tr>\n",
       "    <tr>\n",
       "      <th>kliniderm Foam Slc 10cm x 10cm Wound Dre</th>\n",
       "      <td>0.000000</td>\n",
       "      <td>2.0</td>\n",
       "    </tr>\n",
       "    <tr>\n",
       "      <th>kliniderm Foam Slc 5cm x 5cm Wound Dress</th>\n",
       "      <td>4.000000</td>\n",
       "      <td>1.0</td>\n",
       "    </tr>\n",
       "    <tr>\n",
       "      <th>kliniderm Foam Slc Border 10cm x 10cm Wo</th>\n",
       "      <td>0.538462</td>\n",
       "      <td>13.0</td>\n",
       "    </tr>\n",
       "    <tr>\n",
       "      <th>kliniderm Foam Slc Border 10cm x 20cm Wo</th>\n",
       "      <td>0.750000</td>\n",
       "      <td>4.0</td>\n",
       "    </tr>\n",
       "    <tr>\n",
       "      <th>kliniderm Foam Slc Border 12.5cmx12.5cm</th>\n",
       "      <td>1.333333</td>\n",
       "      <td>6.0</td>\n",
       "    </tr>\n",
       "    <tr>\n",
       "      <th>kliniderm Foam Slc Border 15cm x 15cm Wo</th>\n",
       "      <td>2.000000</td>\n",
       "      <td>2.0</td>\n",
       "    </tr>\n",
       "    <tr>\n",
       "      <th>kliniderm Foam Slc Border 15cm x 20cm Wo</th>\n",
       "      <td>1.500000</td>\n",
       "      <td>2.0</td>\n",
       "    </tr>\n",
       "    <tr>\n",
       "      <th>kliniderm Foam Slc Border 7.5cm x 7.5cm</th>\n",
       "      <td>0.833333</td>\n",
       "      <td>6.0</td>\n",
       "    </tr>\n",
       "    <tr>\n",
       "      <th>kliniderm Foam Slc Heel 10cm x 17.5cm Wo</th>\n",
       "      <td>NaN</td>\n",
       "      <td>NaN</td>\n",
       "    </tr>\n",
       "    <tr>\n",
       "      <th>kliniderm Foam Slc Sacrum Border 18cmx18</th>\n",
       "      <td>0.000000</td>\n",
       "      <td>1.0</td>\n",
       "    </tr>\n",
       "    <tr>\n",
       "      <th>kliniderm superabsorbent 10cm x 10cm Pfa</th>\n",
       "      <td>3.400000</td>\n",
       "      <td>5.0</td>\n",
       "    </tr>\n",
       "    <tr>\n",
       "      <th>kliniderm superabsorbent 10cm x 15cm Pfa</th>\n",
       "      <td>1.333333</td>\n",
       "      <td>6.0</td>\n",
       "    </tr>\n",
       "    <tr>\n",
       "      <th>kliniderm superabsorbent 20cm x 20cm Pfa</th>\n",
       "      <td>0.888889</td>\n",
       "      <td>9.0</td>\n",
       "    </tr>\n",
       "    <tr>\n",
       "      <th>kliniderm superabsorbent 20cm x 30cm Pfa</th>\n",
       "      <td>1.000000</td>\n",
       "      <td>8.0</td>\n",
       "    </tr>\n",
       "    <tr>\n",
       "      <th>nSpire PiKo-1 Stnd Range Peak Flow Meter</th>\n",
       "      <td>-0.500000</td>\n",
       "      <td>2.0</td>\n",
       "    </tr>\n",
       "    <tr>\n",
       "      <th>nSpire Pocket Peak Low Range Peak Flow M</th>\n",
       "      <td>1.000000</td>\n",
       "      <td>2.0</td>\n",
       "    </tr>\n",
       "    <tr>\n",
       "      <th>nSpire Pocket Peak Stnd Range Peak Flow</th>\n",
       "      <td>1.500000</td>\n",
       "      <td>2.0</td>\n",
       "    </tr>\n",
       "    <tr>\n",
       "      <th>oraNurse_Toothpaste Orig (1450ppm)</th>\n",
       "      <td>1.000000</td>\n",
       "      <td>2.0</td>\n",
       "    </tr>\n",
       "    <tr>\n",
       "      <th>palmdoc (Reagent)_Strips</th>\n",
       "      <td>0.666667</td>\n",
       "      <td>3.0</td>\n",
       "    </tr>\n",
       "  </tbody>\n",
       "</table>\n",
       "</div>"
      ],
      "text/plain": [
       "                                          pct_growth  counts_16\n",
       "iHealth (Reagent)_Strips                   -0.500000        2.0\n",
       "iMEDicare Select Maint Set Constrictor R         NaN        2.0\n",
       "iMEDicare SomaCorrect Vacuum Pump                NaN        NaN\n",
       "iMEDicare SomaCorrect Xtra Vacuum Pump      0.181818       11.0\n",
       "iMEDicare SomaErect Response II Vacuum P   -0.040000       25.0\n",
       "iMEDicare SomaErect Response II XL Vacuu    2.000000        2.0\n",
       "iMEDicare SureEase Maint Set Constrictor         NaN        2.0\n",
       "iMEDicare Ultimate (Surefit) Maint Set C    0.075000       40.0\n",
       "iMEDicare Ultra Maint Set Constrictor Ri    0.500000        2.0\n",
       "iMEDicare_Afex Active L Urin                     NaN        NaN\n",
       "iMEDicare_Afex Active M Urin                     NaN        1.0\n",
       "iMEDicare_Afex Core L Urin System                NaN        NaN\n",
       "iMEDicare_Afex Mobility Assisted M Urin          NaN        NaN\n",
       "iMEDicare_Brief Lge                              NaN        NaN\n",
       "iMEDicare_Brief Med                              NaN        1.0\n",
       "iMEDicare_Brief Sml                              NaN        NaN\n",
       "iMEDicare_Brief XL                               NaN        NaN\n",
       "iMEDicare_High Receptacle                   0.500000        2.0\n",
       "iMEDicare_Leg Bag Holder Blk                0.000000        1.0\n",
       "iMEDicare_Low Receptacle                         NaN        NaN\n",
       "iMEDicare_Tube Assembly Complete                 NaN        NaN\n",
       "iMEDicare_Urine Collection Bag 1200ml            NaN        NaN\n",
       "iMEDicare_Urine Collection Bag 1500ml            NaN        NaN\n",
       "iMEDicare_Urine Collection Bag 2000ml            NaN        1.0\n",
       "iMEDicare_Urine Collection Bag 500ml        0.500000        2.0\n",
       "iMEDicare_Urine Collection Bag 500ml Ven         NaN        NaN\n",
       "imuDERM Urea Emollient                      0.636364       11.0\n",
       "kliniderm Foam Lite Border 10cm x 10cm W         NaN        NaN\n",
       "kliniderm Foam Lite Border 15cm x 15cm W    0.000000        1.0\n",
       "kliniderm Foam Lite Border 4cm x 5cm Wou    2.000000        1.0\n",
       "kliniderm Foam Lite Border 7.5cmx7.5cm W         NaN        NaN\n",
       "kliniderm Foam Slc 10cm x 10cm Wound Dre    0.000000        2.0\n",
       "kliniderm Foam Slc 5cm x 5cm Wound Dress    4.000000        1.0\n",
       "kliniderm Foam Slc Border 10cm x 10cm Wo    0.538462       13.0\n",
       "kliniderm Foam Slc Border 10cm x 20cm Wo    0.750000        4.0\n",
       "kliniderm Foam Slc Border 12.5cmx12.5cm     1.333333        6.0\n",
       "kliniderm Foam Slc Border 15cm x 15cm Wo    2.000000        2.0\n",
       "kliniderm Foam Slc Border 15cm x 20cm Wo    1.500000        2.0\n",
       "kliniderm Foam Slc Border 7.5cm x 7.5cm     0.833333        6.0\n",
       "kliniderm Foam Slc Heel 10cm x 17.5cm Wo         NaN        NaN\n",
       "kliniderm Foam Slc Sacrum Border 18cmx18    0.000000        1.0\n",
       "kliniderm superabsorbent 10cm x 10cm Pfa    3.400000        5.0\n",
       "kliniderm superabsorbent 10cm x 15cm Pfa    1.333333        6.0\n",
       "kliniderm superabsorbent 20cm x 20cm Pfa    0.888889        9.0\n",
       "kliniderm superabsorbent 20cm x 30cm Pfa    1.000000        8.0\n",
       "nSpire PiKo-1 Stnd Range Peak Flow Meter   -0.500000        2.0\n",
       "nSpire Pocket Peak Low Range Peak Flow M    1.000000        2.0\n",
       "nSpire Pocket Peak Stnd Range Peak Flow     1.500000        2.0\n",
       "oraNurse_Toothpaste Orig (1450ppm)          1.000000        2.0\n",
       "palmdoc (Reagent)_Strips                    0.666667        3.0"
      ]
     },
     "execution_count": 136,
     "metadata": {},
     "output_type": "execute_result"
    }
   ],
   "source": [
    "pct_growth.iloc[-50:]"
   ]
  },
  {
   "cell_type": "code",
   "execution_count": null,
   "metadata": {},
   "outputs": [],
   "source": []
  },
  {
   "cell_type": "code",
   "execution_count": 137,
   "metadata": {},
   "outputs": [],
   "source": [
    "# To calculate the percent growth in prescription rate from June 2016 to January 2017 for each bnf_name\n",
    "pct_growth =(scripts['bnf_name'].value_counts() \n",
    "             / scripts16['bnf_name'].value_counts() \n",
    "             - 1)\n",
    "# Add 'bnf_name.value_counts() from 2016'\n",
    "pct_growth = pd.concat([pct_growth.rename('pct_growth'),\n",
    "                         scripts16.bnf_name.value_counts().rename('counts_16')], \n",
    "                        axis=1, \n",
    "                        sort=True)\n",
    "\n",
    "# Filter and Drop NA\n",
    "mask = pct_growth['counts_16'] >= 50\n",
    "filtered_growth = pct_growth[mask].dropna().sort_values('pct_growth', ascending=False)\n",
    "\n",
    "# Take 50 first and 50 Last rows\n",
    "extreme_growth = pd.concat([filtered_growth.iloc[:50], filtered_growth.iloc[-50:]])\n",
    "\n",
    "# Convert to list\n",
    "script_growth = list(extreme_growth.itertuples(name=None, index=True))"
   ]
  },
  {
   "cell_type": "code",
   "execution_count": 138,
   "metadata": {},
   "outputs": [],
   "source": [
    "# extreme_growth = pd.concat([pct_growth[:50], pct_growth[-50:]])"
   ]
  },
  {
   "cell_type": "code",
   "execution_count": 139,
   "metadata": {},
   "outputs": [],
   "source": [
    "# filtered_growth.head()"
   ]
  },
  {
   "cell_type": "code",
   "execution_count": 140,
   "metadata": {},
   "outputs": [],
   "source": [
    "# extreme_growth.shape"
   ]
  },
  {
   "cell_type": "code",
   "execution_count": 141,
   "metadata": {},
   "outputs": [],
   "source": [
    "# extreme_growth.tail()"
   ]
  },
  {
   "cell_type": "code",
   "execution_count": 142,
   "metadata": {},
   "outputs": [],
   "source": [
    "# pct_growth.tail()"
   ]
  },
  {
   "cell_type": "code",
   "execution_count": 143,
   "metadata": {},
   "outputs": [
    {
     "data": {
      "text/plain": [
       "[('Butec_Transdermal Patch 5mcg/hr', 3.467741935483871, 62.0),\n",
       " ('Butec_Transdermal Patch 10mcg/hr', 3.0, 69.0),\n",
       " ('Fostair NEXThaler_Inh 200mcg/6mcg (120D)', 1.4302325581395348, 86.0)]"
      ]
     },
     "execution_count": 143,
     "metadata": {},
     "output_type": "execute_result"
    }
   ],
   "source": [
    "script_growth[:3]"
   ]
  },
  {
   "cell_type": "code",
   "execution_count": 144,
   "metadata": {},
   "outputs": [],
   "source": [
    "# script_growth = [(\"Butec_Transdermal Patch 5mcg\\/hr\", 3.4677419355, 62.0)] * 100"
   ]
  },
  {
   "cell_type": "code",
   "execution_count": 145,
   "metadata": {},
   "outputs": [
    {
     "name": "stdout",
     "output_type": "stream",
     "text": [
      "==================\n",
      "Your score:  1.0\n",
      "==================\n"
     ]
    }
   ],
   "source": [
    "grader.score.dw__script_growth(script_growth)"
   ]
  },
  {
   "cell_type": "markdown",
   "metadata": {},
   "source": [
    "## Question 6: rare_scripts\n",
    "\n",
    "Does a practice's prescription costs originate from routine care or from reliance on rarely prescribed treatments? Commonplace treatments can carry lower costs than rare treatments because of efficiencies in large-scale production. While some specialist practices can't help but avoid prescribing rare medicines because there are no alternatives, some practices may be prescribing a unnecessary amount of brand-name products when generics are available. Let's identify practices whose costs disproportionately originate from rarely prescribed items.\n",
    "\n",
    "First we have to identify which `'bnf_code'` are rare. To do this, find the probability $p$ of a prescription having a particular `'bnf_code'` if the `'bnf_code'` was randomly chosen from the unique options in the beneficiary data. We will call a `'bnf_code'` rare if it is prescribed at a rate less than $0.1p$."
   ]
  },
  {
   "cell_type": "code",
   "execution_count": 251,
   "metadata": {},
   "outputs": [
    {
     "data": {
      "text/html": [
       "<div>\n",
       "<style scoped>\n",
       "    .dataframe tbody tr th:only-of-type {\n",
       "        vertical-align: middle;\n",
       "    }\n",
       "\n",
       "    .dataframe tbody tr th {\n",
       "        vertical-align: top;\n",
       "    }\n",
       "\n",
       "    .dataframe thead th {\n",
       "        text-align: right;\n",
       "    }\n",
       "</style>\n",
       "<table border=\"1\" class=\"dataframe\">\n",
       "  <thead>\n",
       "    <tr style=\"text-align: right;\">\n",
       "      <th></th>\n",
       "      <th>bnf_code</th>\n",
       "      <th>bnf_name</th>\n",
       "    </tr>\n",
       "  </thead>\n",
       "  <tbody>\n",
       "    <tr>\n",
       "      <th>0</th>\n",
       "      <td>0106020C0</td>\n",
       "      <td>Bisacodyl_Tab E/C 5mg</td>\n",
       "    </tr>\n",
       "    <tr>\n",
       "      <th>1</th>\n",
       "      <td>0106040M0</td>\n",
       "      <td>Movicol Plain_Paed Pdr Sach 6.9g</td>\n",
       "    </tr>\n",
       "    <tr>\n",
       "      <th>2</th>\n",
       "      <td>0301011R0</td>\n",
       "      <td>Salbutamol_Inha 100mcg (200 D) CFF</td>\n",
       "    </tr>\n",
       "    <tr>\n",
       "      <th>3</th>\n",
       "      <td>0304010G0</td>\n",
       "      <td>Chlorphenamine Mal_Oral Soln 2mg/5ml</td>\n",
       "    </tr>\n",
       "    <tr>\n",
       "      <th>4</th>\n",
       "      <td>0401020K0</td>\n",
       "      <td>Diazepam_Tab 2mg</td>\n",
       "    </tr>\n",
       "  </tbody>\n",
       "</table>\n",
       "</div>"
      ],
      "text/plain": [
       "    bnf_code                              bnf_name\n",
       "0  0106020C0                 Bisacodyl_Tab E/C 5mg\n",
       "1  0106040M0      Movicol Plain_Paed Pdr Sach 6.9g\n",
       "2  0301011R0    Salbutamol_Inha 100mcg (200 D) CFF\n",
       "3  0304010G0  Chlorphenamine Mal_Oral Soln 2mg/5ml\n",
       "4  0401020K0                      Diazepam_Tab 2mg"
      ]
     },
     "execution_count": 251,
     "metadata": {},
     "output_type": "execute_result"
    }
   ],
   "source": [
    "scripts[['bnf_code', 'bnf_name']].head()"
   ]
  },
  {
   "cell_type": "code",
   "execution_count": 255,
   "metadata": {},
   "outputs": [],
   "source": [
    "p = 1 / scripts['bnf_code'].nunique()\n",
    "rates = scripts['bnf_code'].value_counts() / scripts['bnf_code'].count()\n",
    "rare_codes = rates[rates < .1 * p].index\n",
    "scripts['rare'] = scripts['bnf_code'].isin(rare_codes)"
   ]
  },
  {
   "cell_type": "code",
   "execution_count": 256,
   "metadata": {},
   "outputs": [
    {
     "data": {
      "text/plain": [
       "0906040G0    0.014840\n",
       "090402000    0.011016\n",
       "0302000N0    0.010214\n",
       "130201000    0.008839\n",
       "0601060D0    0.008799\n",
       "Name: bnf_code, dtype: float64"
      ]
     },
     "execution_count": 256,
     "metadata": {},
     "output_type": "execute_result"
    }
   ],
   "source": [
    "rates.head()"
   ]
  },
  {
   "cell_type": "code",
   "execution_count": 257,
   "metadata": {},
   "outputs": [
    {
     "data": {
      "text/plain": [
       "0.0005063291139240507"
      ]
     },
     "execution_count": 257,
     "metadata": {},
     "output_type": "execute_result"
    }
   ],
   "source": [
    "p"
   ]
  },
  {
   "cell_type": "code",
   "execution_count": 259,
   "metadata": {},
   "outputs": [
    {
     "data": {
      "text/plain": [
       "Index(['1001030F0', '236001063', '0503021E0', '239448100'], dtype='object')"
      ]
     },
     "execution_count": 259,
     "metadata": {},
     "output_type": "execute_result"
    }
   ],
   "source": [
    "rare_codes[:4]"
   ]
  },
  {
   "cell_type": "code",
   "execution_count": 261,
   "metadata": {},
   "outputs": [
    {
     "data": {
      "text/html": [
       "<div>\n",
       "<style scoped>\n",
       "    .dataframe tbody tr th:only-of-type {\n",
       "        vertical-align: middle;\n",
       "    }\n",
       "\n",
       "    .dataframe tbody tr th {\n",
       "        vertical-align: top;\n",
       "    }\n",
       "\n",
       "    .dataframe thead th {\n",
       "        text-align: right;\n",
       "    }\n",
       "</style>\n",
       "<table border=\"1\" class=\"dataframe\">\n",
       "  <thead>\n",
       "    <tr style=\"text-align: right;\">\n",
       "      <th></th>\n",
       "      <th>practice</th>\n",
       "      <th>bnf_code</th>\n",
       "      <th>bnf_name</th>\n",
       "      <th>items</th>\n",
       "      <th>nic</th>\n",
       "      <th>act_cost</th>\n",
       "      <th>quantity</th>\n",
       "      <th>opioid</th>\n",
       "      <th>rare</th>\n",
       "    </tr>\n",
       "  </thead>\n",
       "  <tbody>\n",
       "    <tr>\n",
       "      <th>0</th>\n",
       "      <td>N85639</td>\n",
       "      <td>0106020C0</td>\n",
       "      <td>Bisacodyl_Tab E/C 5mg</td>\n",
       "      <td>1</td>\n",
       "      <td>0.39</td>\n",
       "      <td>0.47</td>\n",
       "      <td>12</td>\n",
       "      <td>0</td>\n",
       "      <td>False</td>\n",
       "    </tr>\n",
       "    <tr>\n",
       "      <th>1</th>\n",
       "      <td>N85639</td>\n",
       "      <td>0106040M0</td>\n",
       "      <td>Movicol Plain_Paed Pdr Sach 6.9g</td>\n",
       "      <td>1</td>\n",
       "      <td>4.38</td>\n",
       "      <td>4.07</td>\n",
       "      <td>30</td>\n",
       "      <td>0</td>\n",
       "      <td>False</td>\n",
       "    </tr>\n",
       "    <tr>\n",
       "      <th>2</th>\n",
       "      <td>N85639</td>\n",
       "      <td>0301011R0</td>\n",
       "      <td>Salbutamol_Inha 100mcg (200 D) CFF</td>\n",
       "      <td>1</td>\n",
       "      <td>1.50</td>\n",
       "      <td>1.40</td>\n",
       "      <td>1</td>\n",
       "      <td>0</td>\n",
       "      <td>False</td>\n",
       "    </tr>\n",
       "    <tr>\n",
       "      <th>3</th>\n",
       "      <td>N85639</td>\n",
       "      <td>0304010G0</td>\n",
       "      <td>Chlorphenamine Mal_Oral Soln 2mg/5ml</td>\n",
       "      <td>1</td>\n",
       "      <td>2.62</td>\n",
       "      <td>2.44</td>\n",
       "      <td>150</td>\n",
       "      <td>0</td>\n",
       "      <td>False</td>\n",
       "    </tr>\n",
       "    <tr>\n",
       "      <th>4</th>\n",
       "      <td>N85639</td>\n",
       "      <td>0401020K0</td>\n",
       "      <td>Diazepam_Tab 2mg</td>\n",
       "      <td>1</td>\n",
       "      <td>0.16</td>\n",
       "      <td>0.26</td>\n",
       "      <td>6</td>\n",
       "      <td>0</td>\n",
       "      <td>False</td>\n",
       "    </tr>\n",
       "  </tbody>\n",
       "</table>\n",
       "</div>"
      ],
      "text/plain": [
       "  practice   bnf_code                              bnf_name  items   nic  \\\n",
       "0   N85639  0106020C0                 Bisacodyl_Tab E/C 5mg      1  0.39   \n",
       "1   N85639  0106040M0      Movicol Plain_Paed Pdr Sach 6.9g      1  4.38   \n",
       "2   N85639  0301011R0    Salbutamol_Inha 100mcg (200 D) CFF      1  1.50   \n",
       "3   N85639  0304010G0  Chlorphenamine Mal_Oral Soln 2mg/5ml      1  2.62   \n",
       "4   N85639  0401020K0                      Diazepam_Tab 2mg      1  0.16   \n",
       "\n",
       "   act_cost  quantity  opioid   rare  \n",
       "0      0.47        12       0  False  \n",
       "1      4.07        30       0  False  \n",
       "2      1.40         1       0  False  \n",
       "3      2.44       150       0  False  \n",
       "4      0.26         6       0  False  "
      ]
     },
     "execution_count": 261,
     "metadata": {},
     "output_type": "execute_result"
    }
   ],
   "source": [
    "scripts.head()"
   ]
  },
  {
   "cell_type": "code",
   "execution_count": 262,
   "metadata": {},
   "outputs": [
    {
     "data": {
      "text/html": [
       "<div>\n",
       "<style scoped>\n",
       "    .dataframe tbody tr th:only-of-type {\n",
       "        vertical-align: middle;\n",
       "    }\n",
       "\n",
       "    .dataframe tbody tr th {\n",
       "        vertical-align: top;\n",
       "    }\n",
       "\n",
       "    .dataframe thead th {\n",
       "        text-align: right;\n",
       "    }\n",
       "</style>\n",
       "<table border=\"1\" class=\"dataframe\">\n",
       "  <thead>\n",
       "    <tr style=\"text-align: right;\">\n",
       "      <th></th>\n",
       "      <th>practice</th>\n",
       "      <th>bnf_code</th>\n",
       "      <th>bnf_name</th>\n",
       "      <th>items</th>\n",
       "      <th>nic</th>\n",
       "      <th>act_cost</th>\n",
       "      <th>quantity</th>\n",
       "      <th>opioid</th>\n",
       "      <th>rare</th>\n",
       "    </tr>\n",
       "  </thead>\n",
       "  <tbody>\n",
       "    <tr>\n",
       "      <th>109</th>\n",
       "      <td>N81013</td>\n",
       "      <td>0106050M0</td>\n",
       "      <td>Citramag_Eff Pdr Sach 29.5g Citrus</td>\n",
       "      <td>1</td>\n",
       "      <td>3.78</td>\n",
       "      <td>3.61</td>\n",
       "      <td>2</td>\n",
       "      <td>0</td>\n",
       "      <td>True</td>\n",
       "    </tr>\n",
       "    <tr>\n",
       "      <th>139</th>\n",
       "      <td>N81013</td>\n",
       "      <td>0203020G0</td>\n",
       "      <td>Rythmodan Ret_Tab 250mg</td>\n",
       "      <td>2</td>\n",
       "      <td>64.16</td>\n",
       "      <td>59.42</td>\n",
       "      <td>120</td>\n",
       "      <td>0</td>\n",
       "      <td>True</td>\n",
       "    </tr>\n",
       "    <tr>\n",
       "      <th>830</th>\n",
       "      <td>N81013</td>\n",
       "      <td>0603020M0</td>\n",
       "      <td>Solu-Cortef_Inj 100mg Vl + Dil</td>\n",
       "      <td>1</td>\n",
       "      <td>2.32</td>\n",
       "      <td>2.17</td>\n",
       "      <td>2</td>\n",
       "      <td>0</td>\n",
       "      <td>True</td>\n",
       "    </tr>\n",
       "    <tr>\n",
       "      <th>945</th>\n",
       "      <td>N81013</td>\n",
       "      <td>0803010K0</td>\n",
       "      <td>Diethylstilbestrol_Tab 1mg</td>\n",
       "      <td>3</td>\n",
       "      <td>361.02</td>\n",
       "      <td>334.26</td>\n",
       "      <td>84</td>\n",
       "      <td>0</td>\n",
       "      <td>True</td>\n",
       "    </tr>\n",
       "    <tr>\n",
       "      <th>1204</th>\n",
       "      <td>N81013</td>\n",
       "      <td>1303000F0</td>\n",
       "      <td>Doxepin HCl_Crm 5%</td>\n",
       "      <td>1</td>\n",
       "      <td>11.70</td>\n",
       "      <td>10.84</td>\n",
       "      <td>30</td>\n",
       "      <td>0</td>\n",
       "      <td>True</td>\n",
       "    </tr>\n",
       "  </tbody>\n",
       "</table>\n",
       "</div>"
      ],
      "text/plain": [
       "     practice   bnf_code                            bnf_name  items     nic  \\\n",
       "109    N81013  0106050M0  Citramag_Eff Pdr Sach 29.5g Citrus      1    3.78   \n",
       "139    N81013  0203020G0             Rythmodan Ret_Tab 250mg      2   64.16   \n",
       "830    N81013  0603020M0      Solu-Cortef_Inj 100mg Vl + Dil      1    2.32   \n",
       "945    N81013  0803010K0          Diethylstilbestrol_Tab 1mg      3  361.02   \n",
       "1204   N81013  1303000F0                  Doxepin HCl_Crm 5%      1   11.70   \n",
       "\n",
       "      act_cost  quantity  opioid  rare  \n",
       "109       3.61         2       0  True  \n",
       "139      59.42       120       0  True  \n",
       "830       2.17         2       0  True  \n",
       "945     334.26        84       0  True  \n",
       "1204     10.84        30       0  True  "
      ]
     },
     "execution_count": 262,
     "metadata": {},
     "output_type": "execute_result"
    }
   ],
   "source": [
    "scripts[scripts['rare']].head()"
   ]
  },
  {
   "cell_type": "code",
   "execution_count": 268,
   "metadata": {},
   "outputs": [],
   "source": [
    "rare_scripts = scripts[scripts['rare']].copy()"
   ]
  },
  {
   "cell_type": "code",
   "execution_count": 269,
   "metadata": {},
   "outputs": [
    {
     "data": {
      "text/html": [
       "<div>\n",
       "<style scoped>\n",
       "    .dataframe tbody tr th:only-of-type {\n",
       "        vertical-align: middle;\n",
       "    }\n",
       "\n",
       "    .dataframe tbody tr th {\n",
       "        vertical-align: top;\n",
       "    }\n",
       "\n",
       "    .dataframe thead th {\n",
       "        text-align: right;\n",
       "    }\n",
       "</style>\n",
       "<table border=\"1\" class=\"dataframe\">\n",
       "  <thead>\n",
       "    <tr style=\"text-align: right;\">\n",
       "      <th></th>\n",
       "      <th>practice</th>\n",
       "      <th>bnf_code</th>\n",
       "      <th>bnf_name</th>\n",
       "      <th>items</th>\n",
       "      <th>nic</th>\n",
       "      <th>act_cost</th>\n",
       "      <th>quantity</th>\n",
       "      <th>opioid</th>\n",
       "      <th>rare</th>\n",
       "    </tr>\n",
       "  </thead>\n",
       "  <tbody>\n",
       "    <tr>\n",
       "      <th>109</th>\n",
       "      <td>N81013</td>\n",
       "      <td>0106050M0</td>\n",
       "      <td>Citramag_Eff Pdr Sach 29.5g Citrus</td>\n",
       "      <td>1</td>\n",
       "      <td>3.78</td>\n",
       "      <td>3.61</td>\n",
       "      <td>2</td>\n",
       "      <td>0</td>\n",
       "      <td>True</td>\n",
       "    </tr>\n",
       "    <tr>\n",
       "      <th>139</th>\n",
       "      <td>N81013</td>\n",
       "      <td>0203020G0</td>\n",
       "      <td>Rythmodan Ret_Tab 250mg</td>\n",
       "      <td>2</td>\n",
       "      <td>64.16</td>\n",
       "      <td>59.42</td>\n",
       "      <td>120</td>\n",
       "      <td>0</td>\n",
       "      <td>True</td>\n",
       "    </tr>\n",
       "    <tr>\n",
       "      <th>830</th>\n",
       "      <td>N81013</td>\n",
       "      <td>0603020M0</td>\n",
       "      <td>Solu-Cortef_Inj 100mg Vl + Dil</td>\n",
       "      <td>1</td>\n",
       "      <td>2.32</td>\n",
       "      <td>2.17</td>\n",
       "      <td>2</td>\n",
       "      <td>0</td>\n",
       "      <td>True</td>\n",
       "    </tr>\n",
       "    <tr>\n",
       "      <th>945</th>\n",
       "      <td>N81013</td>\n",
       "      <td>0803010K0</td>\n",
       "      <td>Diethylstilbestrol_Tab 1mg</td>\n",
       "      <td>3</td>\n",
       "      <td>361.02</td>\n",
       "      <td>334.26</td>\n",
       "      <td>84</td>\n",
       "      <td>0</td>\n",
       "      <td>True</td>\n",
       "    </tr>\n",
       "    <tr>\n",
       "      <th>1204</th>\n",
       "      <td>N81013</td>\n",
       "      <td>1303000F0</td>\n",
       "      <td>Doxepin HCl_Crm 5%</td>\n",
       "      <td>1</td>\n",
       "      <td>11.70</td>\n",
       "      <td>10.84</td>\n",
       "      <td>30</td>\n",
       "      <td>0</td>\n",
       "      <td>True</td>\n",
       "    </tr>\n",
       "  </tbody>\n",
       "</table>\n",
       "</div>"
      ],
      "text/plain": [
       "     practice   bnf_code                            bnf_name  items     nic  \\\n",
       "109    N81013  0106050M0  Citramag_Eff Pdr Sach 29.5g Citrus      1    3.78   \n",
       "139    N81013  0203020G0             Rythmodan Ret_Tab 250mg      2   64.16   \n",
       "830    N81013  0603020M0      Solu-Cortef_Inj 100mg Vl + Dil      1    2.32   \n",
       "945    N81013  0803010K0          Diethylstilbestrol_Tab 1mg      3  361.02   \n",
       "1204   N81013  1303000F0                  Doxepin HCl_Crm 5%      1   11.70   \n",
       "\n",
       "      act_cost  quantity  opioid  rare  \n",
       "109       3.61         2       0  True  \n",
       "139      59.42       120       0  True  \n",
       "830       2.17         2       0  True  \n",
       "945     334.26        84       0  True  \n",
       "1204     10.84        30       0  True  "
      ]
     },
     "execution_count": 269,
     "metadata": {},
     "output_type": "execute_result"
    }
   ],
   "source": [
    "rare_scripts.head()"
   ]
  },
  {
   "cell_type": "code",
   "execution_count": 267,
   "metadata": {},
   "outputs": [
    {
     "name": "stdout",
     "output_type": "stream",
     "text": [
      "(973193, 9)\n",
      "(11570, 9)\n"
     ]
    }
   ],
   "source": [
    "print(scripts.shape)\n",
    "print(rare_scripts.shape)"
   ]
  },
  {
   "cell_type": "markdown",
   "metadata": {},
   "source": [
    "Now for each practice, calculate the proportion of costs that originate from prescription of rare treatments (i.e. rare `'bnf_code'`). Use the `'act_cost'` field for this calculation."
   ]
  },
  {
   "cell_type": "code",
   "execution_count": 270,
   "metadata": {},
   "outputs": [
    {
     "data": {
      "text/html": [
       "<div>\n",
       "<style scoped>\n",
       "    .dataframe tbody tr th:only-of-type {\n",
       "        vertical-align: middle;\n",
       "    }\n",
       "\n",
       "    .dataframe tbody tr th {\n",
       "        vertical-align: top;\n",
       "    }\n",
       "\n",
       "    .dataframe thead th {\n",
       "        text-align: right;\n",
       "    }\n",
       "</style>\n",
       "<table border=\"1\" class=\"dataframe\">\n",
       "  <thead>\n",
       "    <tr style=\"text-align: right;\">\n",
       "      <th></th>\n",
       "      <th>practice</th>\n",
       "      <th>bnf_code</th>\n",
       "      <th>bnf_name</th>\n",
       "      <th>items</th>\n",
       "      <th>nic</th>\n",
       "      <th>act_cost</th>\n",
       "      <th>quantity</th>\n",
       "      <th>opioid</th>\n",
       "      <th>rare</th>\n",
       "    </tr>\n",
       "  </thead>\n",
       "  <tbody>\n",
       "    <tr>\n",
       "      <th>109</th>\n",
       "      <td>N81013</td>\n",
       "      <td>0106050M0</td>\n",
       "      <td>Citramag_Eff Pdr Sach 29.5g Citrus</td>\n",
       "      <td>1</td>\n",
       "      <td>3.78</td>\n",
       "      <td>3.61</td>\n",
       "      <td>2</td>\n",
       "      <td>0</td>\n",
       "      <td>True</td>\n",
       "    </tr>\n",
       "    <tr>\n",
       "      <th>139</th>\n",
       "      <td>N81013</td>\n",
       "      <td>0203020G0</td>\n",
       "      <td>Rythmodan Ret_Tab 250mg</td>\n",
       "      <td>2</td>\n",
       "      <td>64.16</td>\n",
       "      <td>59.42</td>\n",
       "      <td>120</td>\n",
       "      <td>0</td>\n",
       "      <td>True</td>\n",
       "    </tr>\n",
       "    <tr>\n",
       "      <th>830</th>\n",
       "      <td>N81013</td>\n",
       "      <td>0603020M0</td>\n",
       "      <td>Solu-Cortef_Inj 100mg Vl + Dil</td>\n",
       "      <td>1</td>\n",
       "      <td>2.32</td>\n",
       "      <td>2.17</td>\n",
       "      <td>2</td>\n",
       "      <td>0</td>\n",
       "      <td>True</td>\n",
       "    </tr>\n",
       "    <tr>\n",
       "      <th>945</th>\n",
       "      <td>N81013</td>\n",
       "      <td>0803010K0</td>\n",
       "      <td>Diethylstilbestrol_Tab 1mg</td>\n",
       "      <td>3</td>\n",
       "      <td>361.02</td>\n",
       "      <td>334.26</td>\n",
       "      <td>84</td>\n",
       "      <td>0</td>\n",
       "      <td>True</td>\n",
       "    </tr>\n",
       "    <tr>\n",
       "      <th>1204</th>\n",
       "      <td>N81013</td>\n",
       "      <td>1303000F0</td>\n",
       "      <td>Doxepin HCl_Crm 5%</td>\n",
       "      <td>1</td>\n",
       "      <td>11.70</td>\n",
       "      <td>10.84</td>\n",
       "      <td>30</td>\n",
       "      <td>0</td>\n",
       "      <td>True</td>\n",
       "    </tr>\n",
       "  </tbody>\n",
       "</table>\n",
       "</div>"
      ],
      "text/plain": [
       "     practice   bnf_code                            bnf_name  items     nic  \\\n",
       "109    N81013  0106050M0  Citramag_Eff Pdr Sach 29.5g Citrus      1    3.78   \n",
       "139    N81013  0203020G0             Rythmodan Ret_Tab 250mg      2   64.16   \n",
       "830    N81013  0603020M0      Solu-Cortef_Inj 100mg Vl + Dil      1    2.32   \n",
       "945    N81013  0803010K0          Diethylstilbestrol_Tab 1mg      3  361.02   \n",
       "1204   N81013  1303000F0                  Doxepin HCl_Crm 5%      1   11.70   \n",
       "\n",
       "      act_cost  quantity  opioid  rare  \n",
       "109       3.61         2       0  True  \n",
       "139      59.42       120       0  True  \n",
       "830       2.17         2       0  True  \n",
       "945     334.26        84       0  True  \n",
       "1204     10.84        30       0  True  "
      ]
     },
     "execution_count": 270,
     "metadata": {},
     "output_type": "execute_result"
    }
   ],
   "source": [
    "rare_scripts.head()"
   ]
  },
  {
   "cell_type": "code",
   "execution_count": 274,
   "metadata": {},
   "outputs": [],
   "source": [
    "rare = scripts[scripts['rare']].groupby('practice')['act_cost'].sum()"
   ]
  },
  {
   "cell_type": "code",
   "execution_count": 275,
   "metadata": {},
   "outputs": [
    {
     "data": {
      "text/plain": [
       "practice\n",
       "A81005    1247.83\n",
       "A81007     951.06\n",
       "A81011     816.02\n",
       "A81012    1145.11\n",
       "A81017    1712.15\n",
       "Name: act_cost, dtype: float64"
      ]
     },
     "execution_count": 275,
     "metadata": {},
     "output_type": "execute_result"
    }
   ],
   "source": [
    "rare.head()"
   ]
  },
  {
   "cell_type": "code",
   "execution_count": 278,
   "metadata": {},
   "outputs": [
    {
     "data": {
      "text/plain": [
       "0"
      ]
     },
     "execution_count": 278,
     "metadata": {},
     "output_type": "execute_result"
    }
   ],
   "source": [
    "# Check for Null values\n",
    "rare.isnull().sum()"
   ]
  },
  {
   "cell_type": "code",
   "execution_count": 281,
   "metadata": {},
   "outputs": [],
   "source": [
    "rare = scripts[scripts['rare']].groupby('practice')['act_cost'].sum()\n",
    "\n",
    "total = scripts.groupby('practice')['act_cost'].sum()"
   ]
  },
  {
   "cell_type": "code",
   "execution_count": 283,
   "metadata": {},
   "outputs": [],
   "source": [
    "rare_cost_prop = rare / total"
   ]
  },
  {
   "cell_type": "code",
   "execution_count": 284,
   "metadata": {},
   "outputs": [
    {
     "data": {
      "text/plain": [
       "practice\n",
       "A81005    0.012017\n",
       "A81007    0.008381\n",
       "A81011    0.005116\n",
       "A81012    0.013747\n",
       "A81017    0.007359\n",
       "Name: act_cost, dtype: float64"
      ]
     },
     "execution_count": 284,
     "metadata": {},
     "output_type": "execute_result"
    }
   ],
   "source": [
    "rare_cost_prop.head()"
   ]
  },
  {
   "cell_type": "code",
   "execution_count": 285,
   "metadata": {},
   "outputs": [
    {
     "data": {
      "text/plain": [
       "90"
      ]
     },
     "execution_count": 285,
     "metadata": {},
     "output_type": "execute_result"
    }
   ],
   "source": [
    "rare_cost_prop.isnull().sum()"
   ]
  },
  {
   "cell_type": "code",
   "execution_count": 286,
   "metadata": {},
   "outputs": [],
   "source": [
    "# Fill Null values with '0'\n",
    "rare_cost_prop = (rare / total).fillna(0)"
   ]
  },
  {
   "cell_type": "code",
   "execution_count": 287,
   "metadata": {},
   "outputs": [
    {
     "data": {
      "text/plain": [
       "0"
      ]
     },
     "execution_count": 287,
     "metadata": {},
     "output_type": "execute_result"
    }
   ],
   "source": [
    "rare_cost_prop.isnull().sum()"
   ]
  },
  {
   "cell_type": "code",
   "execution_count": 288,
   "metadata": {},
   "outputs": [],
   "source": [
    "rare = scripts[scripts['rare']].groupby('practice')['act_cost'].sum()\n",
    "\n",
    "total = scripts.groupby('practice')['act_cost'].sum()\n",
    "\n",
    "rare_cost_prop = (rare / total).fillna(0)"
   ]
  },
  {
   "cell_type": "markdown",
   "metadata": {},
   "source": [
    "Now we will calculate a z-score for each practice based on this proportion.\n",
    "First take the difference of `rare_cost_prop` and the proportion of costs originating from rare treatments across all practices."
   ]
  },
  {
   "cell_type": "markdown",
   "metadata": {},
   "source": [
    "```python\n",
    "proportion = (scripts[scripts['rare']]['act_cost'].sum() / scripts['act_cost'].sum())\n",
    "relative_rare_cost_prop = rare_cost_prop - proportion\n",
    "```"
   ]
  },
  {
   "cell_type": "code",
   "execution_count": 289,
   "metadata": {},
   "outputs": [],
   "source": [
    "proportion = scripts[scripts['rare']]['act_cost'].sum() / scripts['act_cost'].sum()"
   ]
  },
  {
   "cell_type": "code",
   "execution_count": 291,
   "metadata": {},
   "outputs": [],
   "source": [
    "relative_rare_cost_prop = rare_cost_prop - proportion"
   ]
  },
  {
   "cell_type": "code",
   "execution_count": 292,
   "metadata": {},
   "outputs": [
    {
     "data": {
      "text/plain": [
       "0"
      ]
     },
     "execution_count": 292,
     "metadata": {},
     "output_type": "execute_result"
    }
   ],
   "source": [
    "relative_rare_cost_prop.isnull().sum()"
   ]
  },
  {
   "cell_type": "code",
   "execution_count": 293,
   "metadata": {},
   "outputs": [
    {
     "data": {
      "text/plain": [
       "practice\n",
       "A81005   -0.003946\n",
       "A81007   -0.007582\n",
       "A81011   -0.010847\n",
       "A81012   -0.002216\n",
       "A81017   -0.008604\n",
       "Name: act_cost, dtype: float64"
      ]
     },
     "execution_count": 293,
     "metadata": {},
     "output_type": "execute_result"
    }
   ],
   "source": [
    "relative_rare_cost_prop.head()"
   ]
  },
  {
   "cell_type": "markdown",
   "metadata": {},
   "source": [
    "Now we will estimate the standard errors (i.e. the denominator of the z-score) by simply taking the standard deviation of this difference."
   ]
  },
  {
   "cell_type": "code",
   "execution_count": 294,
   "metadata": {},
   "outputs": [],
   "source": [
    "standard_errors = relative_rare_cost_prop.std()"
   ]
  },
  {
   "cell_type": "code",
   "execution_count": 295,
   "metadata": {},
   "outputs": [
    {
     "data": {
      "text/plain": [
       "0.06050888706745139"
      ]
     },
     "execution_count": 295,
     "metadata": {},
     "output_type": "execute_result"
    }
   ],
   "source": [
    "standard_errors"
   ]
  },
  {
   "cell_type": "markdown",
   "metadata": {},
   "source": [
    "Finally compute the z-scores. Return the practices with the top 100 z-scores in the form `(post_code, practice_name, z-score)`. Note that some practice codes will correspond with multiple names. In this case, use the first match when sorting names alphabetically."
   ]
  },
  {
   "cell_type": "code",
   "execution_count": 296,
   "metadata": {},
   "outputs": [],
   "source": [
    "rare_scores = relative_rare_cost_prop / standard_errors"
   ]
  },
  {
   "cell_type": "code",
   "execution_count": 297,
   "metadata": {},
   "outputs": [
    {
     "data": {
      "text/plain": [
       "practice\n",
       "A81005   -0.065216\n",
       "A81007   -0.125308\n",
       "A81011   -0.179263\n",
       "A81012   -0.036615\n",
       "A81017   -0.142190\n",
       "Name: act_cost, dtype: float64"
      ]
     },
     "execution_count": 297,
     "metadata": {},
     "output_type": "execute_result"
    }
   ],
   "source": [
    "rare_scores.head()"
   ]
  },
  {
   "cell_type": "code",
   "execution_count": 350,
   "metadata": {},
   "outputs": [],
   "source": [
    "rare_scripts = rare_scores.to_frame().merge(unique_practices,\n",
    "                            how='left',\n",
    "                            left_index=True,\n",
    "                            right_on='code')"
   ]
  },
  {
   "cell_type": "code",
   "execution_count": 351,
   "metadata": {},
   "outputs": [
    {
     "data": {
      "text/html": [
       "<div>\n",
       "<style scoped>\n",
       "    .dataframe tbody tr th:only-of-type {\n",
       "        vertical-align: middle;\n",
       "    }\n",
       "\n",
       "    .dataframe tbody tr th {\n",
       "        vertical-align: top;\n",
       "    }\n",
       "\n",
       "    .dataframe thead th {\n",
       "        text-align: right;\n",
       "    }\n",
       "</style>\n",
       "<table border=\"1\" class=\"dataframe\">\n",
       "  <thead>\n",
       "    <tr style=\"text-align: right;\">\n",
       "      <th></th>\n",
       "      <th>act_cost</th>\n",
       "      <th>name</th>\n",
       "    </tr>\n",
       "    <tr>\n",
       "      <th>code</th>\n",
       "      <th></th>\n",
       "      <th></th>\n",
       "    </tr>\n",
       "  </thead>\n",
       "  <tbody>\n",
       "    <tr>\n",
       "      <th>A81005</th>\n",
       "      <td>-0.065216</td>\n",
       "      <td>SPRINGWOOD SURGERY</td>\n",
       "    </tr>\n",
       "    <tr>\n",
       "      <th>A81007</th>\n",
       "      <td>-0.125308</td>\n",
       "      <td>BANKHOUSE SURGERY</td>\n",
       "    </tr>\n",
       "    <tr>\n",
       "      <th>A81011</th>\n",
       "      <td>-0.179263</td>\n",
       "      <td>CHADWICK PRACTICE</td>\n",
       "    </tr>\n",
       "    <tr>\n",
       "      <th>A81012</th>\n",
       "      <td>-0.036615</td>\n",
       "      <td>WESTBOURNE MEDICAL CENTRE</td>\n",
       "    </tr>\n",
       "    <tr>\n",
       "      <th>A81017</th>\n",
       "      <td>-0.142190</td>\n",
       "      <td>WOODBRIDGE PRACTICE</td>\n",
       "    </tr>\n",
       "  </tbody>\n",
       "</table>\n",
       "</div>"
      ],
      "text/plain": [
       "        act_cost                       name\n",
       "code                                       \n",
       "A81005 -0.065216         SPRINGWOOD SURGERY\n",
       "A81007 -0.125308          BANKHOUSE SURGERY\n",
       "A81011 -0.179263          CHADWICK PRACTICE\n",
       "A81012 -0.036615  WESTBOURNE MEDICAL CENTRE\n",
       "A81017 -0.142190        WOODBRIDGE PRACTICE"
      ]
     },
     "execution_count": 351,
     "metadata": {},
     "output_type": "execute_result"
    }
   ],
   "source": [
    "rare_scripts.head()"
   ]
  },
  {
   "cell_type": "code",
   "execution_count": 352,
   "metadata": {},
   "outputs": [
    {
     "data": {
      "text/html": [
       "<div>\n",
       "<style scoped>\n",
       "    .dataframe tbody tr th:only-of-type {\n",
       "        vertical-align: middle;\n",
       "    }\n",
       "\n",
       "    .dataframe tbody tr th {\n",
       "        vertical-align: top;\n",
       "    }\n",
       "\n",
       "    .dataframe thead th {\n",
       "        text-align: right;\n",
       "    }\n",
       "</style>\n",
       "<table border=\"1\" class=\"dataframe\">\n",
       "  <thead>\n",
       "    <tr style=\"text-align: right;\">\n",
       "      <th></th>\n",
       "      <th>post_code</th>\n",
       "      <th>code</th>\n",
       "      <th>name</th>\n",
       "      <th>act_cost</th>\n",
       "    </tr>\n",
       "  </thead>\n",
       "  <tbody>\n",
       "    <tr>\n",
       "      <th>4</th>\n",
       "      <td>TS14 7DJ</td>\n",
       "      <td>A81005</td>\n",
       "      <td>SPRINGWOOD SURGERY</td>\n",
       "      <td>-0.065216</td>\n",
       "    </tr>\n",
       "    <tr>\n",
       "      <th>6</th>\n",
       "      <td>TS24 7PW</td>\n",
       "      <td>A81007</td>\n",
       "      <td>BANKHOUSE SURGERY</td>\n",
       "      <td>-0.125308</td>\n",
       "    </tr>\n",
       "    <tr>\n",
       "      <th>9</th>\n",
       "      <td>TS24 7PW</td>\n",
       "      <td>A81011</td>\n",
       "      <td>CHADWICK PRACTICE</td>\n",
       "      <td>-0.179263</td>\n",
       "    </tr>\n",
       "    <tr>\n",
       "      <th>10</th>\n",
       "      <td>TS3 6AL</td>\n",
       "      <td>A81012</td>\n",
       "      <td>WESTBOURNE MEDICAL CENTRE</td>\n",
       "      <td>-0.036615</td>\n",
       "    </tr>\n",
       "    <tr>\n",
       "      <th>15</th>\n",
       "      <td>TS17 0EE</td>\n",
       "      <td>A81017</td>\n",
       "      <td>WOODBRIDGE PRACTICE</td>\n",
       "      <td>-0.142190</td>\n",
       "    </tr>\n",
       "  </tbody>\n",
       "</table>\n",
       "</div>"
      ],
      "text/plain": [
       "   post_code    code                       name  act_cost\n",
       "4   TS14 7DJ  A81005         SPRINGWOOD SURGERY -0.065216\n",
       "6   TS24 7PW  A81007          BANKHOUSE SURGERY -0.125308\n",
       "9   TS24 7PW  A81011          CHADWICK PRACTICE -0.179263\n",
       "10   TS3 6AL  A81012  WESTBOURNE MEDICAL CENTRE -0.036615\n",
       "15  TS17 0EE  A81017        WOODBRIDGE PRACTICE -0.142190"
      ]
     },
     "execution_count": 352,
     "metadata": {},
     "output_type": "execute_result"
    }
   ],
   "source": [
    "practices[['post_code', 'code', 'name']].merge(rare_scores,\n",
    "                            how='right',\n",
    "                            right_index = True,\n",
    "                            left_on='code').head()"
   ]
  },
  {
   "cell_type": "code",
   "execution_count": 353,
   "metadata": {},
   "outputs": [],
   "source": [
    "rare_scripts = rare_scripts[['name', 'act_cost']]"
   ]
  },
  {
   "cell_type": "code",
   "execution_count": 354,
   "metadata": {},
   "outputs": [
    {
     "data": {
      "text/html": [
       "<div>\n",
       "<style scoped>\n",
       "    .dataframe tbody tr th:only-of-type {\n",
       "        vertical-align: middle;\n",
       "    }\n",
       "\n",
       "    .dataframe tbody tr th {\n",
       "        vertical-align: top;\n",
       "    }\n",
       "\n",
       "    .dataframe thead th {\n",
       "        text-align: right;\n",
       "    }\n",
       "</style>\n",
       "<table border=\"1\" class=\"dataframe\">\n",
       "  <thead>\n",
       "    <tr style=\"text-align: right;\">\n",
       "      <th></th>\n",
       "      <th>name</th>\n",
       "      <th>act_cost</th>\n",
       "    </tr>\n",
       "    <tr>\n",
       "      <th>code</th>\n",
       "      <th></th>\n",
       "      <th></th>\n",
       "    </tr>\n",
       "  </thead>\n",
       "  <tbody>\n",
       "    <tr>\n",
       "      <th>Y03472</th>\n",
       "      <td>CONSULTANT DIABETES TEAM</td>\n",
       "      <td>16.262687</td>\n",
       "    </tr>\n",
       "    <tr>\n",
       "      <th>Y05320</th>\n",
       "      <td>DMC COMMUNITY DERMATOLOGY RBWF</td>\n",
       "      <td>15.128648</td>\n",
       "    </tr>\n",
       "    <tr>\n",
       "      <th>Y04404</th>\n",
       "      <td>OUTPATIENTS JUBILEE HEALTH CENTRE</td>\n",
       "      <td>7.542139</td>\n",
       "    </tr>\n",
       "    <tr>\n",
       "      <th>Y03484</th>\n",
       "      <td>DMC COMMUNITY DERMATOLOGY CLINIC</td>\n",
       "      <td>7.287222</td>\n",
       "    </tr>\n",
       "    <tr>\n",
       "      <th>Y04424</th>\n",
       "      <td>DMC HEALTHCARE</td>\n",
       "      <td>6.838614</td>\n",
       "    </tr>\n",
       "  </tbody>\n",
       "</table>\n",
       "</div>"
      ],
      "text/plain": [
       "                                     name   act_cost\n",
       "code                                                \n",
       "Y03472           CONSULTANT DIABETES TEAM  16.262687\n",
       "Y05320     DMC COMMUNITY DERMATOLOGY RBWF  15.128648\n",
       "Y04404  OUTPATIENTS JUBILEE HEALTH CENTRE   7.542139\n",
       "Y03484   DMC COMMUNITY DERMATOLOGY CLINIC   7.287222\n",
       "Y04424                     DMC HEALTHCARE   6.838614"
      ]
     },
     "execution_count": 354,
     "metadata": {},
     "output_type": "execute_result"
    }
   ],
   "source": [
    "rare_scripts.sort_values('act_cost', ascending=False).head()"
   ]
  },
  {
   "cell_type": "code",
   "execution_count": 355,
   "metadata": {},
   "outputs": [],
   "source": [
    "rare_scripts = list(rare_scripts.sort_values('act_cost', ascending=False).itertuples(name=None))[:100]"
   ]
  },
  {
   "cell_type": "code",
   "execution_count": 362,
   "metadata": {},
   "outputs": [
    {
     "data": {
      "text/plain": [
       "[('Y03472', 'CONSULTANT DIABETES TEAM', 16.262687124655073),\n",
       " ('Y05320', 'DMC COMMUNITY DERMATOLOGY RBWF', 15.128648195416869),\n",
       " ('Y04404', 'OUTPATIENTS JUBILEE HEALTH CENTRE', 7.54213935610462),\n",
       " ('Y03484', 'DMC COMMUNITY DERMATOLOGY CLINIC', 7.287222200297828),\n",
       " ('Y04424', 'DMC HEALTHCARE', 6.838614181432866)]"
      ]
     },
     "execution_count": 362,
     "metadata": {},
     "output_type": "execute_result"
    }
   ],
   "source": [
    "rare_scripts[:5]"
   ]
  },
  {
   "cell_type": "code",
   "execution_count": 363,
   "metadata": {},
   "outputs": [],
   "source": [
    "# rare_scripts = [(\"Y03472\", \"CONSULTANT DIABETES TEAM\", 16.2626871247)] * 100"
   ]
  },
  {
   "cell_type": "code",
   "execution_count": 364,
   "metadata": {},
   "outputs": [
    {
     "name": "stdout",
     "output_type": "stream",
     "text": [
      "==================\n",
      "Your score:  1.0\n",
      "==================\n"
     ]
    }
   ],
   "source": [
    "grader.score.dw__rare_scripts(rare_scripts)"
   ]
  },
  {
   "cell_type": "markdown",
   "metadata": {},
   "source": [
    "*Copyright &copy; 2019 The Data Incubator.  All rights reserved.*"
   ]
  }
 ],
 "metadata": {
  "kernelspec": {
   "display_name": "Python 3",
   "language": "python",
   "name": "python3"
  },
  "language_info": {
   "codemirror_mode": {
    "name": "ipython",
    "version": 3
   },
   "file_extension": ".py",
   "mimetype": "text/x-python",
   "name": "python",
   "nbconvert_exporter": "python",
   "pygments_lexer": "ipython3",
   "version": "3.7.3"
  },
  "nbclean": true
 },
 "nbformat": 4,
 "nbformat_minor": 1
}
