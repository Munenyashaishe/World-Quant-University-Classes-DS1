{
 "cells": [
  {
   "cell_type": "code",
   "execution_count": 1,
   "metadata": {
    "init_cell": true
   },
   "outputs": [],
   "source": [
    "%logstop\n",
    "%logstart -ortq ~/.logs/vc.py append\n",
    "%matplotlib inline\n",
    "import matplotlib\n",
    "import seaborn as sns\n",
    "sns.set()\n",
    "matplotlib.rcParams['figure.dpi'] = 144"
   ]
  },
  {
   "cell_type": "code",
   "execution_count": 7,
   "metadata": {},
   "outputs": [],
   "source": [
    "from static_grader import grader"
   ]
  },
  {
   "cell_type": "markdown",
   "metadata": {},
   "source": [
    "# Object-oriented exercises\n",
    "## Introduction\n",
    "\n",
    "The objective of these exercises is to develop your familiarity with Python's `class` syntax and object-oriented programming. By deepening our understanding of Python objects, we will be better prepared to work with complex data structures and machine learning models. We will develop a `Point` class capable of handling some simple linear algebra operations in 2D."
   ]
  },
  {
   "cell_type": "markdown",
   "metadata": {},
   "source": [
    "## Exercise 1: `point_repr`\n",
    "\n",
    "The first step in defining most classes is to define their `__init__` and `__repr__` methods so that we can construct and represent distinct objects of that class. Our `Point` class should accept two arguments, `x` and `y`, and be represented by a string `'Point(x, y)'` with appropriate values for `x` and `y`.\n",
    "\n",
    "When you've written a `Point` class capable of this, execute the cell with `grader.score` for this question (do not edit that cell; you only need to modify the `Point` class)."
   ]
  },
  {
   "cell_type": "code",
   "execution_count": 8,
   "metadata": {},
   "outputs": [],
   "source": [
    "class Point(object):\n",
    "\n",
    "    def __init__(self, x, y):\n",
    "        pass\n",
    "            \n",
    "    def __repr__(self):\n",
    "        return \"Point(0, 0)\""
   ]
  },
  {
   "cell_type": "code",
   "execution_count": 9,
   "metadata": {},
   "outputs": [],
   "source": [
    "class Point(object):\n",
    "    \n",
    "    def __init__(self, x, y):\n",
    "        self.x = x\n",
    "        self.y = y\n",
    "        \n",
    "    def __repr__(self):\n",
    "        return \"Point(%d, %d)\" % (self.x, self.y)"
   ]
  },
  {
   "cell_type": "code",
   "execution_count": 10,
   "metadata": {},
   "outputs": [
    {
     "name": "stdout",
     "output_type": "stream",
     "text": [
      "Basil is a very Awesome Data Scientist and Machine Learning Engineer \n"
     ]
    }
   ],
   "source": [
    "# Try to play around with the above code\n",
    "class Sillians(object):\n",
    "    \n",
    "    def __init__(self, premium, brilliant):\n",
    "        self.premium = premium\n",
    "        self.brilliant = brilliant\n",
    "        \n",
    "    def __repr__(self):\n",
    "        return 'Basil is a very Awesome '  '%s and %s '   % (self.premium, self.brilliant)\n",
    "\n",
    "my_goal = Sillians(\"Data Scientist\", \"Machine Learning Engineer\")\n",
    "print(my_goal)"
   ]
  },
  {
   "cell_type": "code",
   "execution_count": 11,
   "metadata": {},
   "outputs": [
    {
     "name": "stdout",
     "output_type": "stream",
     "text": [
      "==================\n",
      "Your score:  1.0\n",
      "==================\n"
     ]
    }
   ],
   "source": [
    "grader.score.vc__point_repr(lambda points: [str(Point(*point)) for point in points])"
   ]
  },
  {
   "cell_type": "markdown",
   "metadata": {},
   "source": [
    "## Exercise 2: add_subtract\n",
    "\n",
    "The most basic vector operations we want our `Point` object to handle are addition and subtraction. For two points $(x_1, y_1) + (x_2, y_2) = (x_1 + x_2, y_1 + y_2)$ and similarly for subtraction. Implement a method within `Point` that allows two `Point` objects to be added together using the `+` operator, and likewise for subtraction. Once this is done, execute the `grader.score` cell for this question (do not edit that cell; you only need to modify the `Point` class.)\n",
    "\n",
    "(Remember that `__add__` and `__sub__` methods will allow us to use the `+` and `-` operators.)"
   ]
  },
  {
   "cell_type": "code",
   "execution_count": 12,
   "metadata": {},
   "outputs": [
    {
     "name": "stdout",
     "output_type": "stream",
     "text": [
      "Point(12, 7)\n"
     ]
    }
   ],
   "source": [
    "class Point(object):\n",
    "\n",
    "    def __init__(self, x, y):\n",
    "        self.x = x\n",
    "        self.y = y\n",
    "    \n",
    "    def __repr__(self):\n",
    "        return \"Point(%d, %d)\" % (self.x, self.y)\n",
    "    \n",
    "    def __add__(self, number):\n",
    "        return Point(self.x + number.x, self.y + number.y)\n",
    "    \n",
    "    def __sub__(self, number):\n",
    "        return Point(self.x - number.x, self.y - number.y)\n",
    "    \n",
    "db1 = Point(4, 5)\n",
    "db2 = Point(8, 2)\n",
    "db3 = db1 + db2\n",
    "print(db3)"
   ]
  },
  {
   "cell_type": "code",
   "execution_count": 13,
   "metadata": {},
   "outputs": [
    {
     "name": "stdout",
     "output_type": "stream",
     "text": [
      "==================\n",
      "Your score:  1.0\n",
      "==================\n"
     ]
    }
   ],
   "source": [
    "from functools import reduce\n",
    "def add_sub_results(points):\n",
    "    points = [Point(*point) for point in points]\n",
    "    return [str(reduce(lambda x, y: x + y, points)), \n",
    "            str(reduce(lambda x, y: x - y, points))]\n",
    "\n",
    "grader.score.vc__add_subtract(add_sub_results)"
   ]
  },
  {
   "cell_type": "markdown",
   "metadata": {},
   "source": [
    "## Exercise 3: multiplication\n",
    "\n",
    "Within linear algebra there's many different kinds of multiplication: scalar multiplication, inner product, cross product, and matrix product. We're going to implement scalar multiplication and the inner product.\n",
    "\n",
    "We can define scalar multiplication given a point $P$ and a scalar $a$ as \n",
    "$$aP=a(x,y)=(ax,ay)$$\n",
    "\n",
    "and we can define the inner product for points $P,Q$ as\n",
    "$$P\\cdot Q=(x_1,y_1)\\cdot (x_2, y_2) = x_1x_2 + y_1y_2$$\n",
    "\n",
    "To test that you've implemented this correctly, compute $2(x, y) \\cdot (x, y)$ for a `Point` object. Once this is done, execute the `grader.score` cell for this question (do not edit that cell; you only need to modify the `Point` class.)\n",
    "\n",
    "(Remember that `__mul__` method will allow us to use the `*` operator. Also don't forget that the ordering of operands matters when implementing these operators.)"
   ]
  },
  {
   "cell_type": "code",
   "execution_count": 90,
   "metadata": {},
   "outputs": [],
   "source": [
    "class Point(object):\n",
    "\n",
    "    def __init__(self, x, y):\n",
    "        self.x = x\n",
    "        self.y = y\n",
    "    \n",
    "    def __repr__(self):\n",
    "        return \"Point(%d, %d)\" % (self.x, self.y)\n",
    "    \n",
    "    def __add__(self, number):\n",
    "        return Point(self.x + number.x, self.y + number.y)\n",
    "    \n",
    "    def __sub__(self, number):\n",
    "        return Point(self.x - number.x, self.y - number.y)\n",
    "    \n",
    "    def __mul__(self, p):\n",
    "        if isinstance(p, Point):\n",
    "            return self.x * p.x + self.y*p.y\n",
    "        else:\n",
    "            return Point(self.x*p, self.y*p)"
   ]
  },
  {
   "cell_type": "code",
   "execution_count": 91,
   "metadata": {},
   "outputs": [
    {
     "name": "stdout",
     "output_type": "stream",
     "text": [
      "==================\n",
      "Your score:  1.0\n",
      "==================\n"
     ]
    }
   ],
   "source": [
    "def mult_result(points):\n",
    "    points = [Point(*point) for point in points]\n",
    "    return [point*point*2 for point in points]\n",
    "\n",
    "grader.score.vc__multiplication(mult_result)"
   ]
  },
  {
   "cell_type": "markdown",
   "metadata": {},
   "source": [
    "There are several ways to override the behavior of the multiplication operator: by defining a method named __mul__, or __rmul__, or both."
   ]
  },
  {
   "cell_type": "markdown",
   "metadata": {},
   "source": [
    "If the left operand of * is a Point, Python invokes __mul__, which assumes that the other operand is also a Point. It computes the dot product of the two points, defined according to the rules of linear algebra:"
   ]
  },
  {
   "cell_type": "code",
   "execution_count": 92,
   "metadata": {},
   "outputs": [],
   "source": [
    "class Point(object):\n",
    "\n",
    "    def __init__(self, x, y):\n",
    "        self.x = x\n",
    "        self.y = y\n",
    "    \n",
    "    def __repr__(self):\n",
    "        return \"Point(%d, %d)\" % (self.x, self.y)\n",
    "    \n",
    "    def __add__(self, number):\n",
    "        return Point(self.x + number.x, self.y + number.y)\n",
    "    \n",
    "    def __sub__(self, number):\n",
    "        return Point(self.x - number.x, self.y - number.y)\n",
    "    \n",
    "    def __mul__(self, other):\n",
    "        return self.x * other.x + self.y * other.y"
   ]
  },
  {
   "cell_type": "code",
   "execution_count": 93,
   "metadata": {},
   "outputs": [
    {
     "name": "stdout",
     "output_type": "stream",
     "text": [
      "78\n"
     ]
    }
   ],
   "source": [
    "p1 = Point(5, 9)\n",
    "p2 = Point(3, 7)\n",
    "print (p1 * p2)"
   ]
  },
  {
   "cell_type": "markdown",
   "metadata": {},
   "source": [
    "If the left operand of * is a primitive type and the right operand is a Point, Python invokes __rmul__, which performs **scalar multiplication**:"
   ]
  },
  {
   "cell_type": "code",
   "execution_count": 94,
   "metadata": {},
   "outputs": [],
   "source": [
    "class othermulti(Point):\n",
    "    def __rmul__(self, others):\n",
    "        return Point(others * self.x, others * self.y)"
   ]
  },
  {
   "cell_type": "markdown",
   "metadata": {},
   "source": [
    "The result is a new Point whose coordinates are a multiple of the original coordinates. If other is a type that cannot be multiplied by a floating-point number, then __rmul__ will yield an error. "
   ]
  },
  {
   "cell_type": "markdown",
   "metadata": {},
   "source": [
    "This example demonstrates both kinds of multiplication:"
   ]
  },
  {
   "cell_type": "code",
   "execution_count": 97,
   "metadata": {},
   "outputs": [
    {
     "name": "stdout",
     "output_type": "stream",
     "text": [
      "Point(9, 21)\n"
     ]
    }
   ],
   "source": [
    "p1 = othermulti(5, 9)\n",
    "p2 = othermulti(3, 7)\n",
    "print (3 * p2)"
   ]
  },
  {
   "cell_type": "code",
   "execution_count": 98,
   "metadata": {},
   "outputs": [
    {
     "name": "stdout",
     "output_type": "stream",
     "text": [
      "Point(225, 335)\n"
     ]
    }
   ],
   "source": [
    "p1 = othermulti(45, 67)\n",
    "print (5 * p1)"
   ]
  },
  {
   "cell_type": "markdown",
   "metadata": {},
   "source": [
    "## Exercise 4: Distance\n",
    "\n",
    "Another quantity we might want to compute is the distance between two points.  This is generally given for points $P_1=(x_1,y_1)$ and $P_2=(x_2,y_2)$ as \n",
    "$$D = |P_2 - P_1| = \\sqrt{(x_1-x_2)^2 + (y_1-y_2)^2}.$$\n",
    "\n",
    "Implement a method called `distance` which finds the distance from a point to another point. \n",
    "\n",
    "Once this is done, execute the `grader.score` cell for this question (do not edit that cell; you only need to modify the `Point` class.)\n",
    "\n",
    "### Hint\n",
    "* *You can use the `sqrt` function from the math package*."
   ]
  },
  {
   "cell_type": "code",
   "execution_count": 99,
   "metadata": {},
   "outputs": [],
   "source": [
    "from math import sqrt\n",
    "\n",
    "class Point(object):\n",
    "\n",
    "    def __init__(self, x, y):\n",
    "        self.x = x\n",
    "        self.y = y       \n",
    "    \n",
    "    def __repr__(self):\n",
    "        return \"Point(%d, %d)\" % (self.x, self.y)\n",
    "    \n",
    "    def distance(self, p):\n",
    "        if isinstance(p, Point):\n",
    "            return sqrt((self.x - p.x)**2 + (self.y - p.y)**2)"
   ]
  },
  {
   "cell_type": "code",
   "execution_count": 100,
   "metadata": {},
   "outputs": [
    {
     "name": "stdout",
     "output_type": "stream",
     "text": [
      "==================\n",
      "Your score:  1.0\n",
      "==================\n"
     ]
    }
   ],
   "source": [
    "def dist_result(points):\n",
    "    points = [Point(*point) for point in points]\n",
    "    return [points[0].distance(point) for point in points]\n",
    "\n",
    "grader.score.vc__distance(dist_result)"
   ]
  },
  {
   "cell_type": "markdown",
   "metadata": {},
   "source": [
    "## Exercise 5: Algorithm\n",
    "\n",
    "Now we will use these points to solve a real world problem!  We can use our Point objects to represent measurements of two different quantities (e.g. a company's stock price and volume).  One thing we might want to do with a data set is to separate the points into groups of similar points.  Here we will implement an iterative algorithm to do this which will be a specific case of the very general $k$-means clustering algorithm.  The algorithm will require us to keep track of two clusters, each of which have a list of points and a center (which is another point, not necessarily one of the points we are clustering).  After making an initial guess at the center of the two clusters, $C_1$ and $C_2$, the steps proceed as follows\n",
    "\n",
    "1. Assign each point to $C_1$ or $C_2$ based on whether the point is closer to the center of $C_1$ or $C_2$.\n",
    "2. Recalculate the center of $C_1$ and $C_2$ based on the contained points. \n",
    "\n",
    "See [reference](https://en.wikipedia.org/wiki/K-means_clustering#Standard_algorithm) for more information.\n",
    "\n",
    "This algorithm will terminate in general when the assignments no longer change.  For this question, we would like you to initialize one cluster at `(1, 0)` and the other at `(-1, 0)`.  \n",
    "\n",
    "The returned values should be the two centers of the clusters ordered by greatest `x` value.  Please return these as a list of numeric tuples $[(x_1, y_1), (x_2, y_2)]$\n",
    "\n",
    "In order to accomplish this we will create a class called cluster which has two methods besides `__init__` which you will need to write.  The first method `update` will update the center of the Cluster given the points contained in the attribute `points`.  Remember, you after updating the center of the cluster, you will want to reassign the points and thus remove previous assignments.  The other method `add_point` will add a point to the `points` attribute.\n",
    "\n",
    "Once this is done, execute the `grader.score` cell for this question (do not edit that cell; you only need to modify the `Cluster` class and `compute_result` function.)"
   ]
  },
  {
   "cell_type": "code",
   "execution_count": 109,
   "metadata": {},
   "outputs": [],
   "source": [
    "class Cluster(object):\n",
    "    def __init__(self, x, y):\n",
    "        self.center = Point(x, y)\n",
    "        self.points = []\n",
    "    \n",
    "    def update(self):\n",
    "        n = len(self.points)\n",
    "        new_x = sum([p.x for p in self.points]) / n\n",
    "        new_y = sum([p.y for p in self.points]) / n\n",
    "        self.center = Point(new_x, new_y)\n",
    "        self.points.clear()\n",
    "        \n",
    "    \n",
    "    def add_point(self, point):\n",
    "        if isinstance(point, Point):\n",
    "            self.points.append(point)\n",
    "        else:\n",
    "            raise TypeError(f'Can only add a point to a Cluster. You gave {type(other)}')"
   ]
  },
  {
   "cell_type": "code",
   "execution_count": 114,
   "metadata": {},
   "outputs": [],
   "source": [
    "def compute_result(points):\n",
    "    points = [Point(*point) for point in points]\n",
    "    a = Cluster(1,0)\n",
    "    b = Cluster(-1,0)\n",
    "    a_old = []\n",
    "    for _ in range(10000): # max iterations\n",
    "        for point in points:\n",
    "            if point.distance(a.center) < point.distance(b.center):\n",
    "                # add the right point\n",
    "                a.add_point(point)\n",
    "            else:\n",
    "                # add the right point\n",
    "                b.add_point(point)\n",
    "#         if a_old == a.points:\n",
    "#             break\n",
    "#         a_old = ...\n",
    "        a.update()\n",
    "        b.update()\n",
    "    return [(a.center.x, a.center.y), (b.center.x, b.center.y)] "
   ]
  },
  {
   "cell_type": "markdown",
   "metadata": {},
   "source": [
    "The star(*) operator is used for unpacking"
   ]
  },
  {
   "cell_type": "code",
   "execution_count": 115,
   "metadata": {},
   "outputs": [
    {
     "name": "stdout",
     "output_type": "stream",
     "text": [
      "==================\n",
      "Your score:  1.0\n",
      "==================\n"
     ]
    }
   ],
   "source": [
    "grader.score.vc__k_means(compute_result)"
   ]
  },
  {
   "cell_type": "markdown",
   "metadata": {},
   "source": [
    "*Copyright &copy; 2019 The Data Incubator.  All rights reserved.*"
   ]
  }
 ],
 "metadata": {
  "kernelspec": {
   "display_name": "Python 3",
   "language": "python",
   "name": "python3"
  },
  "language_info": {
   "codemirror_mode": {
    "name": "ipython",
    "version": 3
   },
   "file_extension": ".py",
   "mimetype": "text/x-python",
   "name": "python",
   "nbconvert_exporter": "python",
   "pygments_lexer": "ipython3",
   "version": "3.7.3"
  },
  "nbclean": true
 },
 "nbformat": 4,
 "nbformat_minor": 1
}
